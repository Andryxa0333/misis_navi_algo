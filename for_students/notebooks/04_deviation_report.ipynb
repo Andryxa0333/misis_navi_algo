{
 "cells": [
  {
   "cell_type": "code",
   "execution_count": 1,
   "id": "9aa5550a",
   "metadata": {},
   "outputs": [
    {
     "ename": "ModuleNotFoundError",
     "evalue": "No module named 'pandas'",
     "output_type": "error",
     "traceback": [
      "\u001b[1;31m---------------------------------------------------------------------------\u001b[0m",
      "\u001b[1;31mModuleNotFoundError\u001b[0m                       Traceback (most recent call last)",
      "Cell \u001b[1;32mIn[1], line 1\u001b[0m\n\u001b[1;32m----> 1\u001b[0m \u001b[38;5;28;01mimport\u001b[39;00m\u001b[38;5;250m \u001b[39m\u001b[38;5;21;01mpandas\u001b[39;00m\u001b[38;5;250m \u001b[39m\u001b[38;5;28;01mas\u001b[39;00m\u001b[38;5;250m \u001b[39m\u001b[38;5;21;01mpd\u001b[39;00m\n\u001b[0;32m      2\u001b[0m \u001b[38;5;28;01mimport\u001b[39;00m\u001b[38;5;250m \u001b[39m\u001b[38;5;21;01mos\u001b[39;00m\n\u001b[0;32m      3\u001b[0m \u001b[38;5;28;01mfrom\u001b[39;00m\u001b[38;5;250m \u001b[39m\u001b[38;5;21;01mtqdm\u001b[39;00m\u001b[38;5;250m \u001b[39m\u001b[38;5;28;01mimport\u001b[39;00m tqdm\n",
      "\u001b[1;31mModuleNotFoundError\u001b[0m: No module named 'pandas'"
     ]
    }
   ],
   "source": [
    "import pandas as pd\n",
    "import os\n",
    "from tqdm import tqdm\n",
    "import numpy as np\n",
    "import re\n",
    "import geopandas as gpd\n",
    "import pickle\n",
    "import yaml\n",
    "import pickle\n",
    "\n",
    "import warnings\n",
    "warnings.filterwarnings('ignore')"
   ]
  },
  {
   "cell_type": "code",
   "execution_count": 7,
   "id": "6dcf8ec5",
   "metadata": {},
   "outputs": [],
   "source": [
    "data = pd.read_parquet(\"../../data/02_interim/sample_11_02_all_features_high_radius.parquet\")"
   ]
  },
  {
   "cell_type": "code",
   "execution_count": null,
   "id": "690f45d0",
   "metadata": {},
   "outputs": [],
   "source": [
    "data = pd.read_parquet(\"../data/sample_11_02_all_features_high_radius.parquet\")"
   ]
  },
  {
   "cell_type": "code",
   "execution_count": 3,
   "id": "60f2f4d3",
   "metadata": {},
   "outputs": [],
   "source": [
    "with open(\"../04_deviation_detection/random_forest_model.pkl\", 'rb') as fin:\n",
    "    model = pickle.load(fin)\n",
    "    \n",
    "with open(\"../04_deviation_detection/features.yaml\", 'r') as fin:\n",
    "    features = yaml.safe_load(fin)"
   ]
  },
  {
   "cell_type": "code",
   "execution_count": 11,
   "id": "7e3e0cb1-2222-452c-a1ef-c381d767a5b3",
   "metadata": {},
   "outputs": [
    {
     "data": {
      "text/plain": [
       "['accelerometer_x_corr',\n",
       " 'accelerometer_x_diff_corr',\n",
       " 'accelerometer_y_corr',\n",
       " 'accelerometer_y_diff_corr',\n",
       " 'accelerometer_z_corr',\n",
       " 'accelerometer_z_diff_corr',\n",
       " 'x_metres_corr',\n",
       " 'x_diff_metres_corr',\n",
       " 'y_metres_corr',\n",
       " 'y_diff_metres_corr',\n",
       " 'height_corr',\n",
       " 'bearing_corr',\n",
       " 'speed_corr',\n",
       " 'height_diff_corr',\n",
       " 'bearing_diff_corr',\n",
       " 'speed_diff_corr',\n",
       " 'speed_mean_abs_diff',\n",
       " 'speed_mean_diff',\n",
       " 'speed_std_diff',\n",
       " 'distance_mean',\n",
       " 'distance_std']"
      ]
     },
     "execution_count": 11,
     "metadata": {},
     "output_type": "execute_result"
    }
   ],
   "source": [
    "features"
   ]
  },
  {
   "cell_type": "code",
   "execution_count": 8,
   "id": "0fd00c54",
   "metadata": {},
   "outputs": [],
   "source": [
    "data.loc[data[\"dev_id_1\"].str[-1] == data[\"dev_id_2\"].str[-1], 'target'] = 1"
   ]
  },
  {
   "cell_type": "code",
   "execution_count": 9,
   "id": "bf9cccd8",
   "metadata": {},
   "outputs": [],
   "source": [
    "data['target'] = data['target'].fillna(0)"
   ]
  },
  {
   "cell_type": "code",
   "execution_count": 32,
   "id": "de05d821",
   "metadata": {},
   "outputs": [],
   "source": [
    "data['predicted_proba'] = model.predict_proba(data[features].fillna(-999))[:, 1]"
   ]
  },
  {
   "cell_type": "code",
   "execution_count": 33,
   "id": "f2ca7497",
   "metadata": {},
   "outputs": [],
   "source": [
    "data['thresh'] = 0.416"
   ]
  },
  {
   "cell_type": "code",
   "execution_count": 35,
   "id": "821877f3",
   "metadata": {},
   "outputs": [],
   "source": [
    "data['label'] = (data['predicted_proba'] >= data['thresh']).astype(int)"
   ]
  },
  {
   "cell_type": "code",
   "execution_count": 39,
   "id": "e49213e0",
   "metadata": {},
   "outputs": [
    {
     "data": {
      "text/plain": [
       "0.0    426\n",
       "1.0     57\n",
       "Name: target, dtype: int64"
      ]
     },
     "execution_count": 39,
     "metadata": {},
     "output_type": "execute_result"
    }
   ],
   "source": [
    "data['target'].value_counts()"
   ]
  },
  {
   "cell_type": "code",
   "execution_count": 42,
   "id": "bd5cfa3a",
   "metadata": {},
   "outputs": [
    {
     "data": {
      "text/plain": [
       "483"
      ]
     },
     "execution_count": 42,
     "metadata": {},
     "output_type": "execute_result"
    }
   ],
   "source": [
    "data.shape[0]"
   ]
  },
  {
   "cell_type": "code",
   "execution_count": 43,
   "id": "d98fd770",
   "metadata": {},
   "outputs": [
    {
     "data": {
      "text/plain": [
       "0.9875776397515528"
      ]
     },
     "execution_count": 43,
     "metadata": {},
     "output_type": "execute_result"
    }
   ],
   "source": [
    "477 / 483"
   ]
  },
  {
   "cell_type": "code",
   "execution_count": 44,
   "id": "509c197c",
   "metadata": {},
   "outputs": [],
   "source": [
    "data.to_csv(\"../../data/05_analytical_report_new/02_anomaly_detection.csv\", index=False)"
   ]
  },
  {
   "cell_type": "code",
   "execution_count": 41,
   "id": "8192b852",
   "metadata": {},
   "outputs": [
    {
     "data": {
      "text/plain": [
       "477"
      ]
     },
     "execution_count": 41,
     "metadata": {},
     "output_type": "execute_result"
    }
   ],
   "source": [
    "(data['target'] == data['label']).sum()"
   ]
  },
  {
   "cell_type": "code",
   "execution_count": 37,
   "id": "fa2b3343",
   "metadata": {},
   "outputs": [
    {
     "data": {
      "text/plain": [
       "0    430\n",
       "1     53\n",
       "Name: label, dtype: int64"
      ]
     },
     "execution_count": 37,
     "metadata": {},
     "output_type": "execute_result"
    }
   ],
   "source": [
    "data[\"label\"].value_counts()"
   ]
  },
  {
   "cell_type": "code",
   "execution_count": 29,
   "id": "33b30395",
   "metadata": {},
   "outputs": [
    {
     "data": {
      "text/plain": [
       "0      0.0\n",
       "1      0.0\n",
       "2      0.0\n",
       "3      0.0\n",
       "4      0.0\n",
       "      ... \n",
       "478    0.0\n",
       "479    0.0\n",
       "480    0.0\n",
       "481    0.0\n",
       "482    0.0\n",
       "Name: target, Length: 483, dtype: float64"
      ]
     },
     "execution_count": 29,
     "metadata": {},
     "output_type": "execute_result"
    }
   ],
   "source": [
    "data['target']"
   ]
  },
  {
   "cell_type": "code",
   "execution_count": 24,
   "id": "1474792a",
   "metadata": {},
   "outputs": [
    {
     "data": {
      "text/plain": [
       "array(['D4909E26-0469-4045-B426-211006C38915',\n",
       "       'A1303E56-0163-1015-B156-511006C38315'], dtype=object)"
      ]
     },
     "execution_count": 24,
     "metadata": {},
     "output_type": "execute_result"
    }
   ],
   "source": [
    "data[\"dev_id_1\"].unique()"
   ]
  },
  {
   "cell_type": "code",
   "execution_count": 22,
   "id": "74db6254",
   "metadata": {},
   "outputs": [
    {
     "data": {
      "text/plain": [
       "53"
      ]
     },
     "execution_count": 22,
     "metadata": {},
     "output_type": "execute_result"
    }
   ],
   "source": [
    "(model.predict_proba(data[features].fillna(-999))[:, 1] > 0.416).sum()"
   ]
  },
  {
   "cell_type": "code",
   "execution_count": null,
   "id": "44a1d827",
   "metadata": {},
   "outputs": [],
   "source": [
    "data[\"predict_proba\"]"
   ]
  },
  {
   "cell_type": "code",
   "execution_count": 6,
   "id": "3bd7412f",
   "metadata": {},
   "outputs": [
    {
     "data": {
      "text/plain": [
       "6552"
      ]
     },
     "execution_count": 6,
     "metadata": {},
     "output_type": "execute_result"
    }
   ],
   "source": [
    "data[\"id_1_last_geometry\"].isna().sum()"
   ]
  },
  {
   "cell_type": "code",
   "execution_count": null,
   "id": "cf9c1d5e",
   "metadata": {},
   "outputs": [],
   "source": []
  }
 ],
 "metadata": {
  "kernelspec": {
   "display_name": "venv",
   "language": "python",
   "name": "python3"
  },
  "language_info": {
   "codemirror_mode": {
    "name": "ipython",
    "version": 3
   },
   "file_extension": ".py",
   "mimetype": "text/x-python",
   "name": "python",
   "nbconvert_exporter": "python",
   "pygments_lexer": "ipython3",
   "version": "3.10.11"
  }
 },
 "nbformat": 4,
 "nbformat_minor": 5
}

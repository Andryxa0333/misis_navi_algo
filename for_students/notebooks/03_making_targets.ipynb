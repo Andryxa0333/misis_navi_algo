{
 "cells": [
  {
   "cell_type": "code",
   "id": "3165245c",
   "metadata": {
    "ExecuteTime": {
     "end_time": "2025-04-10T12:42:48.493986Z",
     "start_time": "2025-04-10T12:42:47.282381Z"
    }
   },
   "source": [
    "import pandas as pd\n",
    "import os\n",
    "from tqdm import tqdm\n",
    "import numpy as np\n",
    "import re\n",
    "import geopandas as gpd\n",
    "\n",
    "import warnings\n",
    "warnings.filterwarnings('ignore')"
   ],
   "outputs": [],
   "execution_count": 1
  },
  {
   "metadata": {
    "ExecuteTime": {
     "end_time": "2025-04-16T11:51:04.018746Z",
     "start_time": "2025-04-16T11:51:03.500209Z"
    }
   },
   "cell_type": "code",
   "source": "test_data = pd.read_parquet(\"../data/second_departure_parquet_feats/sample_06.09.2022_all_features.parquet\")",
   "id": "76a58291057c1b41",
   "outputs": [],
   "execution_count": 5
  },
  {
   "metadata": {
    "ExecuteTime": {
     "end_time": "2025-04-16T11:51:05.851450Z",
     "start_time": "2025-04-16T11:51:05.771936Z"
    }
   },
   "cell_type": "code",
   "source": "test_data.head()",
   "id": "4594471ef04907b6",
   "outputs": [
    {
     "data": {
      "text/plain": [
       "        date            datetime                              dev_id_1  \\\n",
       "0 2022-09-06 2022-09-06 07:38:07  1CB8D3E9-04BE-465D-B334-0E1F7F026A98   \n",
       "1 2022-09-06 2022-09-06 07:38:07  1CB8D3E9-04BE-465D-B334-0E1F7F026A98   \n",
       "2 2022-09-06 2022-09-06 07:38:07  3744EED3-A474-458B-AA4F-5357B8EE7FBF   \n",
       "3 2022-09-06 2022-09-06 07:48:07  1CB8D3E9-04BE-465D-B334-0E1F7F026A98   \n",
       "4 2022-09-06 2022-09-06 08:13:07  40808752-2CEE-454B-B6E6-95EC9615999D   \n",
       "\n",
       "   id_1_last_lon  id_1_last_lat                              dev_id_2  \\\n",
       "0      37.602788      55.893562  3744EED3-A474-458B-AA4F-5357B8EE7FBF   \n",
       "1      37.602788      55.893562  393B6105-4D72-4E11-BEA1-394CD0AFC499   \n",
       "2      37.606185      55.894089  393B6105-4D72-4E11-BEA1-394CD0AFC499   \n",
       "3      37.602780      55.893606  7F921169-FB12-471F-B244-62840E543DD7   \n",
       "4      37.603324      55.892073  8A8813E7-6012-4600-835D-1C286EADE837   \n",
       "\n",
       "   id_2_last_lon  id_2_last_lat  accelerometer_x_corr  \\\n",
       "0      37.606185      55.894089              0.000661   \n",
       "1      37.604149      55.895599              0.029039   \n",
       "2      37.604149      55.895599              0.002194   \n",
       "3      37.603513      55.892299              0.024953   \n",
       "4      37.602763      55.892618              0.203208   \n",
       "\n",
       "   accelerometer_x_diff_corr  ...  bearing_corr  speed_corr  height_diff_corr  \\\n",
       "0                   0.035777  ...      0.205053    0.082422          0.014212   \n",
       "1                   0.067258  ...      0.144063    0.052211          0.011149   \n",
       "2                   0.077567  ...      0.306874    0.012220          0.001329   \n",
       "3                   0.069213  ...      0.046329    0.009875          0.011567   \n",
       "4                   0.009416  ...      0.204592    0.112317          0.010256   \n",
       "\n",
       "   bearing_diff_corr  speed_diff_corr  speed_mean_abs_diff  speed_mean_diff  \\\n",
       "0           0.098073         0.029655             3.504287        -1.845214   \n",
       "1           0.152548         0.059629             2.732987        -1.196340   \n",
       "2           0.043845         0.007309             4.445489         0.413304   \n",
       "3           0.269572         0.014251             3.261829        -0.938763   \n",
       "4           0.058706         0.119389             3.765288         0.098938   \n",
       "\n",
       "   speed_std_diff  distance_mean  distance_std  \n",
       "0        9.843380     165.717646    141.099882  \n",
       "1        6.964679     133.042537     72.842306  \n",
       "2       11.253297      88.975281     98.468099  \n",
       "3        8.793781     118.765372     16.460189  \n",
       "4       10.963710      38.229802     39.078068  \n",
       "\n",
       "[5 rows x 29 columns]"
      ],
      "text/html": [
       "<div>\n",
       "<style scoped>\n",
       "    .dataframe tbody tr th:only-of-type {\n",
       "        vertical-align: middle;\n",
       "    }\n",
       "\n",
       "    .dataframe tbody tr th {\n",
       "        vertical-align: top;\n",
       "    }\n",
       "\n",
       "    .dataframe thead th {\n",
       "        text-align: right;\n",
       "    }\n",
       "</style>\n",
       "<table border=\"1\" class=\"dataframe\">\n",
       "  <thead>\n",
       "    <tr style=\"text-align: right;\">\n",
       "      <th></th>\n",
       "      <th>date</th>\n",
       "      <th>datetime</th>\n",
       "      <th>dev_id_1</th>\n",
       "      <th>id_1_last_lon</th>\n",
       "      <th>id_1_last_lat</th>\n",
       "      <th>dev_id_2</th>\n",
       "      <th>id_2_last_lon</th>\n",
       "      <th>id_2_last_lat</th>\n",
       "      <th>accelerometer_x_corr</th>\n",
       "      <th>accelerometer_x_diff_corr</th>\n",
       "      <th>...</th>\n",
       "      <th>bearing_corr</th>\n",
       "      <th>speed_corr</th>\n",
       "      <th>height_diff_corr</th>\n",
       "      <th>bearing_diff_corr</th>\n",
       "      <th>speed_diff_corr</th>\n",
       "      <th>speed_mean_abs_diff</th>\n",
       "      <th>speed_mean_diff</th>\n",
       "      <th>speed_std_diff</th>\n",
       "      <th>distance_mean</th>\n",
       "      <th>distance_std</th>\n",
       "    </tr>\n",
       "  </thead>\n",
       "  <tbody>\n",
       "    <tr>\n",
       "      <th>0</th>\n",
       "      <td>2022-09-06</td>\n",
       "      <td>2022-09-06 07:38:07</td>\n",
       "      <td>1CB8D3E9-04BE-465D-B334-0E1F7F026A98</td>\n",
       "      <td>37.602788</td>\n",
       "      <td>55.893562</td>\n",
       "      <td>3744EED3-A474-458B-AA4F-5357B8EE7FBF</td>\n",
       "      <td>37.606185</td>\n",
       "      <td>55.894089</td>\n",
       "      <td>0.000661</td>\n",
       "      <td>0.035777</td>\n",
       "      <td>...</td>\n",
       "      <td>0.205053</td>\n",
       "      <td>0.082422</td>\n",
       "      <td>0.014212</td>\n",
       "      <td>0.098073</td>\n",
       "      <td>0.029655</td>\n",
       "      <td>3.504287</td>\n",
       "      <td>-1.845214</td>\n",
       "      <td>9.843380</td>\n",
       "      <td>165.717646</td>\n",
       "      <td>141.099882</td>\n",
       "    </tr>\n",
       "    <tr>\n",
       "      <th>1</th>\n",
       "      <td>2022-09-06</td>\n",
       "      <td>2022-09-06 07:38:07</td>\n",
       "      <td>1CB8D3E9-04BE-465D-B334-0E1F7F026A98</td>\n",
       "      <td>37.602788</td>\n",
       "      <td>55.893562</td>\n",
       "      <td>393B6105-4D72-4E11-BEA1-394CD0AFC499</td>\n",
       "      <td>37.604149</td>\n",
       "      <td>55.895599</td>\n",
       "      <td>0.029039</td>\n",
       "      <td>0.067258</td>\n",
       "      <td>...</td>\n",
       "      <td>0.144063</td>\n",
       "      <td>0.052211</td>\n",
       "      <td>0.011149</td>\n",
       "      <td>0.152548</td>\n",
       "      <td>0.059629</td>\n",
       "      <td>2.732987</td>\n",
       "      <td>-1.196340</td>\n",
       "      <td>6.964679</td>\n",
       "      <td>133.042537</td>\n",
       "      <td>72.842306</td>\n",
       "    </tr>\n",
       "    <tr>\n",
       "      <th>2</th>\n",
       "      <td>2022-09-06</td>\n",
       "      <td>2022-09-06 07:38:07</td>\n",
       "      <td>3744EED3-A474-458B-AA4F-5357B8EE7FBF</td>\n",
       "      <td>37.606185</td>\n",
       "      <td>55.894089</td>\n",
       "      <td>393B6105-4D72-4E11-BEA1-394CD0AFC499</td>\n",
       "      <td>37.604149</td>\n",
       "      <td>55.895599</td>\n",
       "      <td>0.002194</td>\n",
       "      <td>0.077567</td>\n",
       "      <td>...</td>\n",
       "      <td>0.306874</td>\n",
       "      <td>0.012220</td>\n",
       "      <td>0.001329</td>\n",
       "      <td>0.043845</td>\n",
       "      <td>0.007309</td>\n",
       "      <td>4.445489</td>\n",
       "      <td>0.413304</td>\n",
       "      <td>11.253297</td>\n",
       "      <td>88.975281</td>\n",
       "      <td>98.468099</td>\n",
       "    </tr>\n",
       "    <tr>\n",
       "      <th>3</th>\n",
       "      <td>2022-09-06</td>\n",
       "      <td>2022-09-06 07:48:07</td>\n",
       "      <td>1CB8D3E9-04BE-465D-B334-0E1F7F026A98</td>\n",
       "      <td>37.602780</td>\n",
       "      <td>55.893606</td>\n",
       "      <td>7F921169-FB12-471F-B244-62840E543DD7</td>\n",
       "      <td>37.603513</td>\n",
       "      <td>55.892299</td>\n",
       "      <td>0.024953</td>\n",
       "      <td>0.069213</td>\n",
       "      <td>...</td>\n",
       "      <td>0.046329</td>\n",
       "      <td>0.009875</td>\n",
       "      <td>0.011567</td>\n",
       "      <td>0.269572</td>\n",
       "      <td>0.014251</td>\n",
       "      <td>3.261829</td>\n",
       "      <td>-0.938763</td>\n",
       "      <td>8.793781</td>\n",
       "      <td>118.765372</td>\n",
       "      <td>16.460189</td>\n",
       "    </tr>\n",
       "    <tr>\n",
       "      <th>4</th>\n",
       "      <td>2022-09-06</td>\n",
       "      <td>2022-09-06 08:13:07</td>\n",
       "      <td>40808752-2CEE-454B-B6E6-95EC9615999D</td>\n",
       "      <td>37.603324</td>\n",
       "      <td>55.892073</td>\n",
       "      <td>8A8813E7-6012-4600-835D-1C286EADE837</td>\n",
       "      <td>37.602763</td>\n",
       "      <td>55.892618</td>\n",
       "      <td>0.203208</td>\n",
       "      <td>0.009416</td>\n",
       "      <td>...</td>\n",
       "      <td>0.204592</td>\n",
       "      <td>0.112317</td>\n",
       "      <td>0.010256</td>\n",
       "      <td>0.058706</td>\n",
       "      <td>0.119389</td>\n",
       "      <td>3.765288</td>\n",
       "      <td>0.098938</td>\n",
       "      <td>10.963710</td>\n",
       "      <td>38.229802</td>\n",
       "      <td>39.078068</td>\n",
       "    </tr>\n",
       "  </tbody>\n",
       "</table>\n",
       "<p>5 rows × 29 columns</p>\n",
       "</div>"
      ]
     },
     "execution_count": 6,
     "metadata": {},
     "output_type": "execute_result"
    }
   ],
   "execution_count": 6
  },
  {
   "metadata": {
    "ExecuteTime": {
     "end_time": "2025-04-16T11:51:09.570738Z",
     "start_time": "2025-04-16T11:51:09.499747Z"
    }
   },
   "cell_type": "code",
   "source": "test_data.info()",
   "id": "5c0243f1a372bdaf",
   "outputs": [
    {
     "name": "stdout",
     "output_type": "stream",
     "text": [
      "<class 'pandas.core.frame.DataFrame'>\n",
      "RangeIndex: 1679 entries, 0 to 1678\n",
      "Data columns (total 29 columns):\n",
      " #   Column                     Non-Null Count  Dtype         \n",
      "---  ------                     --------------  -----         \n",
      " 0   date                       1679 non-null   datetime64[ns]\n",
      " 1   datetime                   1679 non-null   datetime64[ns]\n",
      " 2   dev_id_1                   1679 non-null   object        \n",
      " 3   id_1_last_lon              1679 non-null   float64       \n",
      " 4   id_1_last_lat              1679 non-null   float64       \n",
      " 5   dev_id_2                   1679 non-null   object        \n",
      " 6   id_2_last_lon              1679 non-null   float64       \n",
      " 7   id_2_last_lat              1679 non-null   float64       \n",
      " 8   accelerometer_x_corr       1411 non-null   float64       \n",
      " 9   accelerometer_x_diff_corr  1411 non-null   float64       \n",
      " 10  accelerometer_y_corr       1492 non-null   float64       \n",
      " 11  accelerometer_y_diff_corr  1492 non-null   float64       \n",
      " 12  accelerometer_z_corr       1454 non-null   float64       \n",
      " 13  accelerometer_z_diff_corr  1454 non-null   float64       \n",
      " 14  x_metres_corr              1488 non-null   float64       \n",
      " 15  x_diff_metres_corr         1488 non-null   float64       \n",
      " 16  y_metres_corr              1488 non-null   float64       \n",
      " 17  y_diff_metres_corr         1488 non-null   float64       \n",
      " 18  height_corr                890 non-null    float64       \n",
      " 19  bearing_corr               1376 non-null   float64       \n",
      " 20  speed_corr                 1488 non-null   float64       \n",
      " 21  height_diff_corr           890 non-null    float64       \n",
      " 22  bearing_diff_corr          1376 non-null   float64       \n",
      " 23  speed_diff_corr            1488 non-null   float64       \n",
      " 24  speed_mean_abs_diff        1523 non-null   float64       \n",
      " 25  speed_mean_diff            1523 non-null   float64       \n",
      " 26  speed_std_diff             1523 non-null   float64       \n",
      " 27  distance_mean              1523 non-null   float64       \n",
      " 28  distance_std               1523 non-null   float64       \n",
      "dtypes: datetime64[ns](2), float64(25), object(2)\n",
      "memory usage: 380.5+ KB\n"
     ]
    }
   ],
   "execution_count": 7
  },
  {
   "cell_type": "code",
   "execution_count": 2,
   "id": "a5188ffd",
   "metadata": {},
   "outputs": [],
   "source": [
    "data = pd.read_parquet(\"../../data/02_interim/sample_06_12_all_features.parquet\")"
   ]
  },
  {
   "cell_type": "code",
   "execution_count": 3,
   "id": "26929157",
   "metadata": {},
   "outputs": [],
   "source": [
    "list_of_files = list()\n",
    "for (dirpath, dirnames, filenames) in os.walk(\"../../data/01_raw/second_departure_parquet_preprocessed/\"):\n",
    "    list_of_files += [os.path.join(dirpath, file) for file in filenames if \".parquet\" in file]"
   ]
  },
  {
   "cell_type": "code",
   "execution_count": 12,
   "id": "bf846e85",
   "metadata": {},
   "outputs": [],
   "source": [
    "list_of_files = [each for each in list_of_files if \"Данные\" in each]"
   ]
  },
  {
   "cell_type": "code",
   "execution_count": 13,
   "id": "4def2336",
   "metadata": {},
   "outputs": [],
   "source": [
    "second_device = [each for each in list_of_files if \"устройство\" in each]"
   ]
  },
  {
   "cell_type": "code",
   "execution_count": 16,
   "id": "c5c526a3",
   "metadata": {},
   "outputs": [],
   "source": [
    "def get_date_from_filename(filename):\n",
    "    filename_list = filename.replace('.parquet', '').split(\"_\")\n",
    "    for each in filename_list:\n",
    "        found_date = re.search(\"[0-9][0-9](.)[0-9][0-9](.)20[0-9][0-9]$\", each)\n",
    "        if found_date is not None:\n",
    "            return found_date.group()"
   ]
  },
  {
   "cell_type": "code",
   "execution_count": 17,
   "id": "d2d2217f",
   "metadata": {},
   "outputs": [],
   "source": [
    "def find_original_file(path, date):\n",
    "    all_files = os.listdir(path)\n",
    "    all_files = [each for each in all_files if date in each]\n",
    "    all_files = [each for each in all_files if \"устройство\" not in each]\n",
    "    return all_files"
   ]
  },
  {
   "cell_type": "code",
   "execution_count": 21,
   "id": "1ac3aee1",
   "metadata": {},
   "outputs": [],
   "source": [
    "import os\n",
    "\n",
    "\n",
    "files = []\n",
    "for path in second_device:\n",
    "    folder = path.rsplit(\"/\", 1)[0]  # тут мб поменяете на обратный слеш \\ для винды\n",
    "    date = get_date_from_filename(path)\n",
    "    original_filepath = find_original_file(folder, date)\n",
    "    if len(original_filepath) < 1:\n",
    "        original_filepath = np.nan\n",
    "    else:\n",
    "        original_filepath = os.path.join(folder, original_filepath[0])\n",
    "    files.append((path, original_filepath))"
   ]
  },
  {
   "cell_type": "code",
   "execution_count": 22,
   "id": "07f0cdad",
   "metadata": {},
   "outputs": [],
   "source": [
    "targets_df = []\n",
    "for second_filepath, initial_filepath in files:\n",
    "    if len(initial_filepath) != 0:\n",
    "        second_df = pd.read_parquet(second_filepath)\n",
    "        initial_df = pd.read_parquet(initial_filepath)\n",
    "        date = initial_df[\"Время отправки гео\"].dt.to_period(\"D\").dt.to_timestamp()[0]\n",
    "        second_name = second_df[\"Наименование (device ID)\"][0]\n",
    "        initial_name = initial_df[\"Наименование (device ID)\"][0]\n",
    "        tmp_df = pd.DataFrame([[date, second_name, initial_name]], columns=[\"date\", \"sec_name\", \"init_name\"])\n",
    "        targets_df.append(tmp_df)"
   ]
  },
  {
   "cell_type": "code",
   "execution_count": 23,
   "id": "1e8efffa",
   "metadata": {},
   "outputs": [],
   "source": [
    "targets_df = pd.concat(targets_df, ignore_index=True)"
   ]
  },
  {
   "cell_type": "code",
   "execution_count": 24,
   "id": "5e7af957",
   "metadata": {},
   "outputs": [],
   "source": [
    "data_final = data.copy(deep=True)\n",
    "for _, row in targets_df.iterrows():\n",
    "    date_condition = data[\"date\"] == row[\"date\"]\n",
    "    comparison_condition_1 = (data[\"dev_id_1\"] == row[\"sec_name\"]) & (data[\"dev_id_2\"] == row[\"init_name\"])\n",
    "    comparison_condition_2 = (data[\"dev_id_2\"] == row[\"sec_name\"]) & (data[\"dev_id_1\"] == row[\"init_name\"])\n",
    "    comparison_condition = comparison_condition_1 | comparison_condition_2\n",
    "    condition = date_condition & comparison_condition\n",
    "    data_final.loc[condition, \"target\"] = 1"
   ]
  },
  {
   "cell_type": "code",
   "execution_count": 25,
   "id": "299cf629",
   "metadata": {},
   "outputs": [
    {
     "data": {
      "text/html": [
       "<div>\n",
       "<style scoped>\n",
       "    .dataframe tbody tr th:only-of-type {\n",
       "        vertical-align: middle;\n",
       "    }\n",
       "\n",
       "    .dataframe tbody tr th {\n",
       "        vertical-align: top;\n",
       "    }\n",
       "\n",
       "    .dataframe thead th {\n",
       "        text-align: right;\n",
       "    }\n",
       "</style>\n",
       "<table border=\"1\" class=\"dataframe\">\n",
       "  <thead>\n",
       "    <tr style=\"text-align: right;\">\n",
       "      <th></th>\n",
       "      <th>date</th>\n",
       "      <th>datetime</th>\n",
       "      <th>dev_id_1</th>\n",
       "      <th>id_1_last_lon</th>\n",
       "      <th>id_1_last_lat</th>\n",
       "      <th>dev_id_2</th>\n",
       "      <th>id_2_last_lon</th>\n",
       "      <th>id_2_last_lat</th>\n",
       "      <th>accelerometer_x_corr</th>\n",
       "      <th>accelerometer_x_diff_corr</th>\n",
       "      <th>...</th>\n",
       "      <th>speed_corr</th>\n",
       "      <th>height_diff_corr</th>\n",
       "      <th>bearing_diff_corr</th>\n",
       "      <th>speed_diff_corr</th>\n",
       "      <th>speed_mean_abs_diff</th>\n",
       "      <th>speed_mean_diff</th>\n",
       "      <th>speed_std_diff</th>\n",
       "      <th>distance_mean</th>\n",
       "      <th>distance_std</th>\n",
       "      <th>target</th>\n",
       "    </tr>\n",
       "  </thead>\n",
       "  <tbody>\n",
       "    <tr>\n",
       "      <th>0</th>\n",
       "      <td>2022-09-06</td>\n",
       "      <td>2022-09-06 07:38:07</td>\n",
       "      <td>1CB8D3E9-04BE-465D-B334-0E1F7F026A98</td>\n",
       "      <td>37.602788</td>\n",
       "      <td>55.893562</td>\n",
       "      <td>3744EED3-A474-458B-AA4F-5357B8EE7FBF</td>\n",
       "      <td>37.606185</td>\n",
       "      <td>55.894089</td>\n",
       "      <td>0.000661</td>\n",
       "      <td>0.035777</td>\n",
       "      <td>...</td>\n",
       "      <td>0.082422</td>\n",
       "      <td>1.421230e-02</td>\n",
       "      <td>0.098073</td>\n",
       "      <td>0.029655</td>\n",
       "      <td>3.504287</td>\n",
       "      <td>-1.845214</td>\n",
       "      <td>9.843380</td>\n",
       "      <td>165.717646</td>\n",
       "      <td>141.099882</td>\n",
       "      <td>NaN</td>\n",
       "    </tr>\n",
       "    <tr>\n",
       "      <th>1</th>\n",
       "      <td>2022-09-06</td>\n",
       "      <td>2022-09-06 07:38:07</td>\n",
       "      <td>3744EED3-A474-458B-AA4F-5357B8EE7FBF</td>\n",
       "      <td>37.606185</td>\n",
       "      <td>55.894089</td>\n",
       "      <td>393B6105-4D72-4E11-BEA1-394CD0AFC499</td>\n",
       "      <td>37.604149</td>\n",
       "      <td>55.895599</td>\n",
       "      <td>0.002194</td>\n",
       "      <td>0.077567</td>\n",
       "      <td>...</td>\n",
       "      <td>0.012220</td>\n",
       "      <td>1.329316e-03</td>\n",
       "      <td>0.043845</td>\n",
       "      <td>0.007309</td>\n",
       "      <td>4.445489</td>\n",
       "      <td>0.413304</td>\n",
       "      <td>11.253297</td>\n",
       "      <td>88.975281</td>\n",
       "      <td>98.468099</td>\n",
       "      <td>NaN</td>\n",
       "    </tr>\n",
       "    <tr>\n",
       "      <th>2</th>\n",
       "      <td>2022-09-06</td>\n",
       "      <td>2022-09-06 07:38:07</td>\n",
       "      <td>1CB8D3E9-04BE-465D-B334-0E1F7F026A98</td>\n",
       "      <td>37.602788</td>\n",
       "      <td>55.893562</td>\n",
       "      <td>393B6105-4D72-4E11-BEA1-394CD0AFC499</td>\n",
       "      <td>37.604149</td>\n",
       "      <td>55.895599</td>\n",
       "      <td>0.029039</td>\n",
       "      <td>0.067258</td>\n",
       "      <td>...</td>\n",
       "      <td>0.052211</td>\n",
       "      <td>1.114944e-02</td>\n",
       "      <td>0.152548</td>\n",
       "      <td>0.059629</td>\n",
       "      <td>2.732987</td>\n",
       "      <td>-1.196340</td>\n",
       "      <td>6.964679</td>\n",
       "      <td>133.042537</td>\n",
       "      <td>72.842306</td>\n",
       "      <td>NaN</td>\n",
       "    </tr>\n",
       "    <tr>\n",
       "      <th>3</th>\n",
       "      <td>2022-09-06</td>\n",
       "      <td>2022-09-06 07:48:07</td>\n",
       "      <td>1CB8D3E9-04BE-465D-B334-0E1F7F026A98</td>\n",
       "      <td>37.602780</td>\n",
       "      <td>55.893606</td>\n",
       "      <td>7F921169-FB12-471F-B244-62840E543DD7</td>\n",
       "      <td>37.603513</td>\n",
       "      <td>55.892299</td>\n",
       "      <td>0.024953</td>\n",
       "      <td>0.069213</td>\n",
       "      <td>...</td>\n",
       "      <td>0.009875</td>\n",
       "      <td>1.156702e-02</td>\n",
       "      <td>0.269572</td>\n",
       "      <td>0.014251</td>\n",
       "      <td>3.261829</td>\n",
       "      <td>-0.938763</td>\n",
       "      <td>8.793781</td>\n",
       "      <td>118.765372</td>\n",
       "      <td>16.460189</td>\n",
       "      <td>NaN</td>\n",
       "    </tr>\n",
       "    <tr>\n",
       "      <th>4</th>\n",
       "      <td>2022-09-06</td>\n",
       "      <td>2022-09-06 08:13:07</td>\n",
       "      <td>40808752-2CEE-454B-B6E6-95EC9615999D</td>\n",
       "      <td>37.603324</td>\n",
       "      <td>55.892073</td>\n",
       "      <td>AE6C3F14-5263-4BF1-AD06-3A8CE0A27AAB</td>\n",
       "      <td>37.603368</td>\n",
       "      <td>55.892132</td>\n",
       "      <td>0.157693</td>\n",
       "      <td>0.012551</td>\n",
       "      <td>...</td>\n",
       "      <td>0.023942</td>\n",
       "      <td>5.139841e-03</td>\n",
       "      <td>0.754217</td>\n",
       "      <td>0.042451</td>\n",
       "      <td>4.843979</td>\n",
       "      <td>1.013350</td>\n",
       "      <td>12.424083</td>\n",
       "      <td>17.029361</td>\n",
       "      <td>15.709145</td>\n",
       "      <td>NaN</td>\n",
       "    </tr>\n",
       "    <tr>\n",
       "      <th>...</th>\n",
       "      <td>...</td>\n",
       "      <td>...</td>\n",
       "      <td>...</td>\n",
       "      <td>...</td>\n",
       "      <td>...</td>\n",
       "      <td>...</td>\n",
       "      <td>...</td>\n",
       "      <td>...</td>\n",
       "      <td>...</td>\n",
       "      <td>...</td>\n",
       "      <td>...</td>\n",
       "      <td>...</td>\n",
       "      <td>...</td>\n",
       "      <td>...</td>\n",
       "      <td>...</td>\n",
       "      <td>...</td>\n",
       "      <td>...</td>\n",
       "      <td>...</td>\n",
       "      <td>...</td>\n",
       "      <td>...</td>\n",
       "      <td>...</td>\n",
       "    </tr>\n",
       "    <tr>\n",
       "      <th>6547</th>\n",
       "      <td>2022-09-12</td>\n",
       "      <td>2022-09-12 17:21:39</td>\n",
       "      <td>2D7135B3-1208-45BA-9B5A-0FC27C13B9B0</td>\n",
       "      <td>37.611783</td>\n",
       "      <td>55.892302</td>\n",
       "      <td>329C29F6-A464-4174-867E-50D7D163206C</td>\n",
       "      <td>37.610464</td>\n",
       "      <td>55.891030</td>\n",
       "      <td>NaN</td>\n",
       "      <td>NaN</td>\n",
       "      <td>...</td>\n",
       "      <td>NaN</td>\n",
       "      <td>NaN</td>\n",
       "      <td>NaN</td>\n",
       "      <td>NaN</td>\n",
       "      <td>NaN</td>\n",
       "      <td>NaN</td>\n",
       "      <td>NaN</td>\n",
       "      <td>NaN</td>\n",
       "      <td>NaN</td>\n",
       "      <td>NaN</td>\n",
       "    </tr>\n",
       "    <tr>\n",
       "      <th>6548</th>\n",
       "      <td>2022-09-12</td>\n",
       "      <td>2022-09-12 17:21:39</td>\n",
       "      <td>0699B415-A73E-4CFA-B910-079AA0408B1B</td>\n",
       "      <td>37.611192</td>\n",
       "      <td>55.887478</td>\n",
       "      <td>40808752-2CEE-454B-B6E6-95EC9615999D</td>\n",
       "      <td>37.610962</td>\n",
       "      <td>55.887849</td>\n",
       "      <td>0.793525</td>\n",
       "      <td>0.601976</td>\n",
       "      <td>...</td>\n",
       "      <td>0.665669</td>\n",
       "      <td>NaN</td>\n",
       "      <td>NaN</td>\n",
       "      <td>0.619808</td>\n",
       "      <td>3.918556</td>\n",
       "      <td>2.154666</td>\n",
       "      <td>7.304032</td>\n",
       "      <td>98.934811</td>\n",
       "      <td>30.686367</td>\n",
       "      <td>NaN</td>\n",
       "    </tr>\n",
       "    <tr>\n",
       "      <th>6549</th>\n",
       "      <td>2022-09-12</td>\n",
       "      <td>2022-09-12 17:26:39</td>\n",
       "      <td>329C29F6-A464-4174-867E-50D7D163206C</td>\n",
       "      <td>37.610725</td>\n",
       "      <td>55.890972</td>\n",
       "      <td>55464DF0-C385-4349-801B-C8E1CB861CB5</td>\n",
       "      <td>37.610891</td>\n",
       "      <td>55.890427</td>\n",
       "      <td>0.025361</td>\n",
       "      <td>0.161036</td>\n",
       "      <td>...</td>\n",
       "      <td>0.070157</td>\n",
       "      <td>1.767547e-18</td>\n",
       "      <td>0.000059</td>\n",
       "      <td>0.050241</td>\n",
       "      <td>3.430670</td>\n",
       "      <td>-1.592060</td>\n",
       "      <td>9.831637</td>\n",
       "      <td>65.952005</td>\n",
       "      <td>7.381049</td>\n",
       "      <td>NaN</td>\n",
       "    </tr>\n",
       "    <tr>\n",
       "      <th>6550</th>\n",
       "      <td>2022-09-12</td>\n",
       "      <td>2022-09-12 17:26:39</td>\n",
       "      <td>0699B415-A73E-4CFA-B910-079AA0408B1B</td>\n",
       "      <td>37.611192</td>\n",
       "      <td>55.887478</td>\n",
       "      <td>40808752-2CEE-454B-B6E6-95EC9615999D</td>\n",
       "      <td>37.611027</td>\n",
       "      <td>55.887835</td>\n",
       "      <td>NaN</td>\n",
       "      <td>NaN</td>\n",
       "      <td>...</td>\n",
       "      <td>NaN</td>\n",
       "      <td>NaN</td>\n",
       "      <td>NaN</td>\n",
       "      <td>NaN</td>\n",
       "      <td>NaN</td>\n",
       "      <td>NaN</td>\n",
       "      <td>NaN</td>\n",
       "      <td>NaN</td>\n",
       "      <td>NaN</td>\n",
       "      <td>NaN</td>\n",
       "    </tr>\n",
       "    <tr>\n",
       "      <th>6551</th>\n",
       "      <td>2022-09-12</td>\n",
       "      <td>2022-09-12 17:31:39</td>\n",
       "      <td>329C29F6-A464-4174-867E-50D7D163206C</td>\n",
       "      <td>37.610599</td>\n",
       "      <td>55.891109</td>\n",
       "      <td>55464DF0-C385-4349-801B-C8E1CB861CB5</td>\n",
       "      <td>37.610878</td>\n",
       "      <td>55.890400</td>\n",
       "      <td>0.073817</td>\n",
       "      <td>0.082404</td>\n",
       "      <td>...</td>\n",
       "      <td>0.058963</td>\n",
       "      <td>1.123006e-18</td>\n",
       "      <td>0.010025</td>\n",
       "      <td>0.001586</td>\n",
       "      <td>2.252057</td>\n",
       "      <td>-1.625043</td>\n",
       "      <td>7.767349</td>\n",
       "      <td>68.507405</td>\n",
       "      <td>6.410588</td>\n",
       "      <td>NaN</td>\n",
       "    </tr>\n",
       "  </tbody>\n",
       "</table>\n",
       "<p>6552 rows × 30 columns</p>\n",
       "</div>"
      ],
      "text/plain": [
       "           date            datetime                              dev_id_1  \\\n",
       "0    2022-09-06 2022-09-06 07:38:07  1CB8D3E9-04BE-465D-B334-0E1F7F026A98   \n",
       "1    2022-09-06 2022-09-06 07:38:07  3744EED3-A474-458B-AA4F-5357B8EE7FBF   \n",
       "2    2022-09-06 2022-09-06 07:38:07  1CB8D3E9-04BE-465D-B334-0E1F7F026A98   \n",
       "3    2022-09-06 2022-09-06 07:48:07  1CB8D3E9-04BE-465D-B334-0E1F7F026A98   \n",
       "4    2022-09-06 2022-09-06 08:13:07  40808752-2CEE-454B-B6E6-95EC9615999D   \n",
       "...         ...                 ...                                   ...   \n",
       "6547 2022-09-12 2022-09-12 17:21:39  2D7135B3-1208-45BA-9B5A-0FC27C13B9B0   \n",
       "6548 2022-09-12 2022-09-12 17:21:39  0699B415-A73E-4CFA-B910-079AA0408B1B   \n",
       "6549 2022-09-12 2022-09-12 17:26:39  329C29F6-A464-4174-867E-50D7D163206C   \n",
       "6550 2022-09-12 2022-09-12 17:26:39  0699B415-A73E-4CFA-B910-079AA0408B1B   \n",
       "6551 2022-09-12 2022-09-12 17:31:39  329C29F6-A464-4174-867E-50D7D163206C   \n",
       "\n",
       "      id_1_last_lon  id_1_last_lat                              dev_id_2  \\\n",
       "0         37.602788      55.893562  3744EED3-A474-458B-AA4F-5357B8EE7FBF   \n",
       "1         37.606185      55.894089  393B6105-4D72-4E11-BEA1-394CD0AFC499   \n",
       "2         37.602788      55.893562  393B6105-4D72-4E11-BEA1-394CD0AFC499   \n",
       "3         37.602780      55.893606  7F921169-FB12-471F-B244-62840E543DD7   \n",
       "4         37.603324      55.892073  AE6C3F14-5263-4BF1-AD06-3A8CE0A27AAB   \n",
       "...             ...            ...                                   ...   \n",
       "6547      37.611783      55.892302  329C29F6-A464-4174-867E-50D7D163206C   \n",
       "6548      37.611192      55.887478  40808752-2CEE-454B-B6E6-95EC9615999D   \n",
       "6549      37.610725      55.890972  55464DF0-C385-4349-801B-C8E1CB861CB5   \n",
       "6550      37.611192      55.887478  40808752-2CEE-454B-B6E6-95EC9615999D   \n",
       "6551      37.610599      55.891109  55464DF0-C385-4349-801B-C8E1CB861CB5   \n",
       "\n",
       "      id_2_last_lon  id_2_last_lat  accelerometer_x_corr  \\\n",
       "0         37.606185      55.894089              0.000661   \n",
       "1         37.604149      55.895599              0.002194   \n",
       "2         37.604149      55.895599              0.029039   \n",
       "3         37.603513      55.892299              0.024953   \n",
       "4         37.603368      55.892132              0.157693   \n",
       "...             ...            ...                   ...   \n",
       "6547      37.610464      55.891030                   NaN   \n",
       "6548      37.610962      55.887849              0.793525   \n",
       "6549      37.610891      55.890427              0.025361   \n",
       "6550      37.611027      55.887835                   NaN   \n",
       "6551      37.610878      55.890400              0.073817   \n",
       "\n",
       "      accelerometer_x_diff_corr  ...  speed_corr  height_diff_corr  \\\n",
       "0                      0.035777  ...    0.082422      1.421230e-02   \n",
       "1                      0.077567  ...    0.012220      1.329316e-03   \n",
       "2                      0.067258  ...    0.052211      1.114944e-02   \n",
       "3                      0.069213  ...    0.009875      1.156702e-02   \n",
       "4                      0.012551  ...    0.023942      5.139841e-03   \n",
       "...                         ...  ...         ...               ...   \n",
       "6547                        NaN  ...         NaN               NaN   \n",
       "6548                   0.601976  ...    0.665669               NaN   \n",
       "6549                   0.161036  ...    0.070157      1.767547e-18   \n",
       "6550                        NaN  ...         NaN               NaN   \n",
       "6551                   0.082404  ...    0.058963      1.123006e-18   \n",
       "\n",
       "      bearing_diff_corr  speed_diff_corr  speed_mean_abs_diff  \\\n",
       "0              0.098073         0.029655             3.504287   \n",
       "1              0.043845         0.007309             4.445489   \n",
       "2              0.152548         0.059629             2.732987   \n",
       "3              0.269572         0.014251             3.261829   \n",
       "4              0.754217         0.042451             4.843979   \n",
       "...                 ...              ...                  ...   \n",
       "6547                NaN              NaN                  NaN   \n",
       "6548                NaN         0.619808             3.918556   \n",
       "6549           0.000059         0.050241             3.430670   \n",
       "6550                NaN              NaN                  NaN   \n",
       "6551           0.010025         0.001586             2.252057   \n",
       "\n",
       "      speed_mean_diff  speed_std_diff  distance_mean  distance_std  target  \n",
       "0           -1.845214        9.843380     165.717646    141.099882     NaN  \n",
       "1            0.413304       11.253297      88.975281     98.468099     NaN  \n",
       "2           -1.196340        6.964679     133.042537     72.842306     NaN  \n",
       "3           -0.938763        8.793781     118.765372     16.460189     NaN  \n",
       "4            1.013350       12.424083      17.029361     15.709145     NaN  \n",
       "...               ...             ...            ...           ...     ...  \n",
       "6547              NaN             NaN            NaN           NaN     NaN  \n",
       "6548         2.154666        7.304032      98.934811     30.686367     NaN  \n",
       "6549        -1.592060        9.831637      65.952005      7.381049     NaN  \n",
       "6550              NaN             NaN            NaN           NaN     NaN  \n",
       "6551        -1.625043        7.767349      68.507405      6.410588     NaN  \n",
       "\n",
       "[6552 rows x 30 columns]"
      ]
     },
     "execution_count": 25,
     "metadata": {},
     "output_type": "execute_result"
    }
   ],
   "source": [
    "data_final"
   ]
  },
  {
   "cell_type": "code",
   "execution_count": 13,
   "id": "02dcf40b",
   "metadata": {},
   "outputs": [],
   "source": [
    "from sklearn.linear_model import LogisticRegression\n",
    "from sklearn.model_selection import train_test_split"
   ]
  },
  {
   "cell_type": "code",
   "execution_count": 14,
   "id": "087ba39b",
   "metadata": {},
   "outputs": [],
   "source": [
    "data_final.reset_index(drop=True, inplace=True)"
   ]
  },
  {
   "cell_type": "code",
   "execution_count": 15,
   "id": "a6e5f3f2",
   "metadata": {},
   "outputs": [],
   "source": [
    "data_final[\"target\"] = data_final[\"target\"].fillna(0)"
   ]
  },
  {
   "cell_type": "code",
   "execution_count": 16,
   "id": "b8971431",
   "metadata": {},
   "outputs": [
    {
     "data": {
      "text/plain": [
       "0.0    5372\n",
       "1.0    1180\n",
       "Name: target, dtype: int64"
      ]
     },
     "execution_count": 16,
     "metadata": {},
     "output_type": "execute_result"
    }
   ],
   "source": [
    "data_final[\"target\"].value_counts()"
   ]
  },
  {
   "cell_type": "code",
   "execution_count": 17,
   "id": "25d2139f",
   "metadata": {},
   "outputs": [],
   "source": [
    "data_final.reset_index(drop=True, inplace=True)\n",
    "X = data_final.iloc[:, 8:-1]\n",
    "# X = X.dropna(how=\"any\")\n",
    "X = X.fillna(-999)\n",
    "y = data_final.loc[X.index, \"target\"]"
   ]
  },
  {
   "cell_type": "code",
   "execution_count": 18,
   "id": "b8fe14d4",
   "metadata": {},
   "outputs": [],
   "source": [
    "X_train, X_test, y_train, y_test = train_test_split(X, y, test_size=0.2, random_state=17)"
   ]
  },
  {
   "cell_type": "code",
   "execution_count": 21,
   "id": "a78b4fcc",
   "metadata": {},
   "outputs": [],
   "source": [
    "features = X_train.columns.to_list()"
   ]
  },
  {
   "cell_type": "code",
   "execution_count": 22,
   "id": "b0dd81f0",
   "metadata": {},
   "outputs": [],
   "source": [
    "import yaml"
   ]
  },
  {
   "cell_type": "code",
   "execution_count": 26,
   "id": "f4c3b05d",
   "metadata": {},
   "outputs": [],
   "source": [
    "with open(\"features.yaml\", \"w\") as fin:\n",
    "    yaml.safe_dump(features, fin)"
   ]
  },
  {
   "cell_type": "code",
   "execution_count": 26,
   "id": "3b3961c1",
   "metadata": {},
   "outputs": [],
   "source": [
    "from sklearn.ensemble import RandomForestClassifier"
   ]
  },
  {
   "cell_type": "code",
   "execution_count": 27,
   "id": "1025ef4c",
   "metadata": {},
   "outputs": [
    {
     "data": {
      "text/html": [
       "<style>#sk-container-id-1 {color: black;background-color: white;}#sk-container-id-1 pre{padding: 0;}#sk-container-id-1 div.sk-toggleable {background-color: white;}#sk-container-id-1 label.sk-toggleable__label {cursor: pointer;display: block;width: 100%;margin-bottom: 0;padding: 0.3em;box-sizing: border-box;text-align: center;}#sk-container-id-1 label.sk-toggleable__label-arrow:before {content: \"▸\";float: left;margin-right: 0.25em;color: #696969;}#sk-container-id-1 label.sk-toggleable__label-arrow:hover:before {color: black;}#sk-container-id-1 div.sk-estimator:hover label.sk-toggleable__label-arrow:before {color: black;}#sk-container-id-1 div.sk-toggleable__content {max-height: 0;max-width: 0;overflow: hidden;text-align: left;background-color: #f0f8ff;}#sk-container-id-1 div.sk-toggleable__content pre {margin: 0.2em;color: black;border-radius: 0.25em;background-color: #f0f8ff;}#sk-container-id-1 input.sk-toggleable__control:checked~div.sk-toggleable__content {max-height: 200px;max-width: 100%;overflow: auto;}#sk-container-id-1 input.sk-toggleable__control:checked~label.sk-toggleable__label-arrow:before {content: \"▾\";}#sk-container-id-1 div.sk-estimator input.sk-toggleable__control:checked~label.sk-toggleable__label {background-color: #d4ebff;}#sk-container-id-1 div.sk-label input.sk-toggleable__control:checked~label.sk-toggleable__label {background-color: #d4ebff;}#sk-container-id-1 input.sk-hidden--visually {border: 0;clip: rect(1px 1px 1px 1px);clip: rect(1px, 1px, 1px, 1px);height: 1px;margin: -1px;overflow: hidden;padding: 0;position: absolute;width: 1px;}#sk-container-id-1 div.sk-estimator {font-family: monospace;background-color: #f0f8ff;border: 1px dotted black;border-radius: 0.25em;box-sizing: border-box;margin-bottom: 0.5em;}#sk-container-id-1 div.sk-estimator:hover {background-color: #d4ebff;}#sk-container-id-1 div.sk-parallel-item::after {content: \"\";width: 100%;border-bottom: 1px solid gray;flex-grow: 1;}#sk-container-id-1 div.sk-label:hover label.sk-toggleable__label {background-color: #d4ebff;}#sk-container-id-1 div.sk-serial::before {content: \"\";position: absolute;border-left: 1px solid gray;box-sizing: border-box;top: 0;bottom: 0;left: 50%;z-index: 0;}#sk-container-id-1 div.sk-serial {display: flex;flex-direction: column;align-items: center;background-color: white;padding-right: 0.2em;padding-left: 0.2em;position: relative;}#sk-container-id-1 div.sk-item {position: relative;z-index: 1;}#sk-container-id-1 div.sk-parallel {display: flex;align-items: stretch;justify-content: center;background-color: white;position: relative;}#sk-container-id-1 div.sk-item::before, #sk-container-id-1 div.sk-parallel-item::before {content: \"\";position: absolute;border-left: 1px solid gray;box-sizing: border-box;top: 0;bottom: 0;left: 50%;z-index: -1;}#sk-container-id-1 div.sk-parallel-item {display: flex;flex-direction: column;z-index: 1;position: relative;background-color: white;}#sk-container-id-1 div.sk-parallel-item:first-child::after {align-self: flex-end;width: 50%;}#sk-container-id-1 div.sk-parallel-item:last-child::after {align-self: flex-start;width: 50%;}#sk-container-id-1 div.sk-parallel-item:only-child::after {width: 0;}#sk-container-id-1 div.sk-dashed-wrapped {border: 1px dashed gray;margin: 0 0.4em 0.5em 0.4em;box-sizing: border-box;padding-bottom: 0.4em;background-color: white;}#sk-container-id-1 div.sk-label label {font-family: monospace;font-weight: bold;display: inline-block;line-height: 1.2em;}#sk-container-id-1 div.sk-label-container {text-align: center;}#sk-container-id-1 div.sk-container {/* jupyter's `normalize.less` sets `[hidden] { display: none; }` but bootstrap.min.css set `[hidden] { display: none !important; }` so we also need the `!important` here to be able to override the default hidden behavior on the sphinx rendered scikit-learn.org. See: https://github.com/scikit-learn/scikit-learn/issues/21755 */display: inline-block !important;position: relative;}#sk-container-id-1 div.sk-text-repr-fallback {display: none;}</style><div id=\"sk-container-id-1\" class=\"sk-top-container\"><div class=\"sk-text-repr-fallback\"><pre>RandomForestClassifier(n_estimators=500)</pre><b>In a Jupyter environment, please rerun this cell to show the HTML representation or trust the notebook. <br />On GitHub, the HTML representation is unable to render, please try loading this page with nbviewer.org.</b></div><div class=\"sk-container\" hidden><div class=\"sk-item\"><div class=\"sk-estimator sk-toggleable\"><input class=\"sk-toggleable__control sk-hidden--visually\" id=\"sk-estimator-id-1\" type=\"checkbox\" checked><label for=\"sk-estimator-id-1\" class=\"sk-toggleable__label sk-toggleable__label-arrow\">RandomForestClassifier</label><div class=\"sk-toggleable__content\"><pre>RandomForestClassifier(n_estimators=500)</pre></div></div></div></div></div>"
      ],
      "text/plain": [
       "RandomForestClassifier(n_estimators=500)"
      ]
     },
     "execution_count": 27,
     "metadata": {},
     "output_type": "execute_result"
    }
   ],
   "source": [
    "rf = RandomForestClassifier(n_estimators=500)\n",
    "rf.fit(X_train, y_train)"
   ]
  },
  {
   "cell_type": "code",
   "execution_count": 28,
   "id": "82b8a9ea",
   "metadata": {},
   "outputs": [],
   "source": [
    "from sklearn.metrics import roc_auc_score"
   ]
  },
  {
   "cell_type": "code",
   "execution_count": 54,
   "id": "ee056991",
   "metadata": {},
   "outputs": [
    {
     "data": {
      "text/plain": [
       "0.9364356674576679"
      ]
     },
     "execution_count": 54,
     "metadata": {},
     "output_type": "execute_result"
    }
   ],
   "source": [
    "y_test_pred = rf.predict_proba(X_test)[:, 1]\n",
    "roc_auc_score(y_test, y_test_pred)"
   ]
  },
  {
   "cell_type": "code",
   "execution_count": 69,
   "id": "4c86a885",
   "metadata": {},
   "outputs": [],
   "source": [
    "from sklearn.metrics import precision_recall_curve"
   ]
  },
  {
   "cell_type": "code",
   "execution_count": 78,
   "id": "af161d7e",
   "metadata": {},
   "outputs": [],
   "source": [
    "precision, recall, threshes = precision_recall_curve(y_test, y_test_pred)"
   ]
  },
  {
   "cell_type": "code",
   "execution_count": 75,
   "id": "9eb00600",
   "metadata": {},
   "outputs": [],
   "source": [
    "import matplotlib.pyplot as plt"
   ]
  },
  {
   "cell_type": "code",
   "execution_count": 90,
   "id": "5e7d26df",
   "metadata": {},
   "outputs": [
    {
     "data": {
      "text/plain": [
       "0.416"
      ]
     },
     "execution_count": 90,
     "metadata": {},
     "output_type": "execute_result"
    }
   ],
   "source": [
    "threshes[165]"
   ]
  },
  {
   "cell_type": "code",
   "execution_count": 97,
   "id": "bc1c3ce2",
   "metadata": {},
   "outputs": [
    {
     "data": {
      "text/plain": [
       "[<matplotlib.lines.Line2D at 0x2a0e8765c40>]"
      ]
     },
     "execution_count": 97,
     "metadata": {},
     "output_type": "execute_result"
    },
    {
     "data": {
      "image/png": "[encoded data removed]",
      "text/plain": [
       "<Figure size 640x480 with 1 Axes>"
      ]
     },
     "metadata": {},
     "output_type": "display_data"
    }
   ],
   "source": [
    "n = 165\n",
    "plt.plot(precision[:n], recall[:n], marker='o')"
   ]
  },
  {
   "cell_type": "code",
   "execution_count": 77,
   "id": "384b92a1",
   "metadata": {},
   "outputs": [
    {
     "data": {
      "text/plain": [
       "[<matplotlib.lines.Line2D at 0x2a0e20e73a0>]"
      ]
     },
     "execution_count": 77,
     "metadata": {},
     "output_type": "execute_result"
    },
    {
     "data": {
      "image/png": "[encoded data removed]",
      "text/plain": [
       "<Figure size 640x480 with 1 Axes>"
      ]
     },
     "metadata": {},
     "output_type": "display_data"
    }
   ],
   "source": [
    "plt.plot(precision, recall, marker='o')"
   ]
  },
  {
   "cell_type": "code",
   "execution_count": 87,
   "id": "2af34891",
   "metadata": {},
   "outputs": [
    {
     "name": "stdout",
     "output_type": "stream",
     "text": [
      "              precision    recall  f1-score   support\n",
      "\n",
      "         0.0       0.91      0.98      0.95      1081\n",
      "         1.0       0.86      0.57      0.69       230\n",
      "\n",
      "    accuracy                           0.91      1311\n",
      "   macro avg       0.89      0.78      0.82      1311\n",
      "weighted avg       0.91      0.91      0.90      1311\n",
      "\n"
     ]
    }
   ],
   "source": [
    "y_thresh = (y_test_pred > 0.5).astype(int)\n",
    "print(classification_report(y_test, y_thresh))"
   ]
  },
  {
   "cell_type": "code",
   "execution_count": 109,
   "id": "fb6b7016",
   "metadata": {},
   "outputs": [
    {
     "name": "stdout",
     "output_type": "stream",
     "text": [
      "              precision    recall  f1-score   support\n",
      "\n",
      "         0.0       0.93      0.97      0.95      1081\n",
      "         1.0       0.83      0.67      0.75       230\n",
      "\n",
      "    accuracy                           0.92      1311\n",
      "   macro avg       0.88      0.82      0.85      1311\n",
      "weighted avg       0.92      0.92      0.92      1311\n",
      "\n"
     ]
    }
   ],
   "source": [
    "y_thresh = (y_test_pred >= 0.416).astype(int)\n",
    "print(classification_report(y_test, y_thresh))"
   ]
  },
  {
   "cell_type": "code",
   "execution_count": 98,
   "id": "6e118a18",
   "metadata": {},
   "outputs": [],
   "source": [
    "best_thresh = 0.416\n",
    "sample_data = X_train.head(100) # fill na with \"-999\"\n",
    "sample_data.to_csv(\"./random_forest_sample_data_thresh_0416.csv\")\n",
    "\n",
    "import pickle\n",
    "\n",
    "with open(\"./random_forest_model.pkl\", 'wb') as fin:\n",
    "    pickle.dump(rf, fin)"
   ]
  },
  {
   "cell_type": "code",
   "execution_count": 100,
   "id": "a1bc6fc4",
   "metadata": {},
   "outputs": [],
   "source": [
    "X_train_columns = X_train.columns"
   ]
  },
  {
   "cell_type": "code",
   "execution_count": 103,
   "id": "402a56c6",
   "metadata": {},
   "outputs": [
    {
     "data": {
      "text/plain": [
       "array([0.01      , 0.034     , 0.        , ..., 0.012     , 0.15047577,\n",
       "       0.004     ])"
      ]
     },
     "execution_count": 103,
     "metadata": {},
     "output_type": "execute_result"
    }
   ],
   "source": [
    "rf.predict_proba(data_final[X_train_columns].fillna(-999))[:, 1]"
   ]
  },
  {
   "cell_type": "code",
   "execution_count": 104,
   "id": "d8962008",
   "metadata": {},
   "outputs": [],
   "source": [
    "data_final[\"predicted_proba\"] = rf.predict_proba(data_final[X_train_columns].fillna(-999))[:, 1]"
   ]
  },
  {
   "cell_type": "code",
   "execution_count": 105,
   "id": "e2e67f64",
   "metadata": {},
   "outputs": [],
   "source": [
    "data_final[\"thresh\"] = 0.416"
   ]
  },
  {
   "cell_type": "code",
   "execution_count": 115,
   "id": "f8bae6c6",
   "metadata": {},
   "outputs": [],
   "source": [
    "data_final[\"label\"] = (data_final[\"predicted_proba\"] > data_final[\"thresh\"]).astype(int)"
   ]
  },
  {
   "cell_type": "code",
   "execution_count": 117,
   "id": "e218ea1a",
   "metadata": {},
   "outputs": [],
   "source": [
    "relevant_columns = [\"datetime\", \"dev_id_1\", \"id_1_last_lon\", \"id_1_last_lat\", \n",
    "                    \"dev_id_2\", \"id_2_last_lon\", \"id_2_last_lat\", \n",
    "                    \"target\", \"predicted_proba\", \"thresh\", \"label\"]"
   ]
  },
  {
   "cell_type": "code",
   "execution_count": 119,
   "id": "227b904d",
   "metadata": {},
   "outputs": [],
   "source": [
    "data_final[relevant_columns].to_csv(\"../../data/04_analytical_report/02_deviation_detection_report.csv\", index=False)"
   ]
  },
  {
   "cell_type": "code",
   "execution_count": 30,
   "id": "09f9c4ad",
   "metadata": {},
   "outputs": [],
   "source": [
    "y_test_pred = rf.predict(X_test)"
   ]
  },
  {
   "cell_type": "code",
   "execution_count": 31,
   "id": "61f07566",
   "metadata": {},
   "outputs": [],
   "source": [
    "from sklearn.metrics import classification_report"
   ]
  },
  {
   "cell_type": "code",
   "execution_count": 35,
   "id": "54400be2",
   "metadata": {},
   "outputs": [],
   "source": [
    "from sklearn.metrics import precision_recall_fscore_support"
   ]
  },
  {
   "cell_type": "code",
   "execution_count": 47,
   "id": "6cb961a5",
   "metadata": {},
   "outputs": [
    {
     "name": "stdout",
     "output_type": "stream",
     "text": [
      "              precision    recall  f1-score   support\n",
      "\n",
      "         0.0       0.91      0.98      0.95      1081\n",
      "         1.0       0.86      0.57      0.69       230\n",
      "\n",
      "    accuracy                           0.91      1311\n",
      "   macro avg       0.89      0.78      0.82      1311\n",
      "weighted avg       0.91      0.91      0.90      1311\n",
      "\n"
     ]
    }
   ],
   "source": [
    "y_test_pred_thresh = (y_test_pred > 0.01).astype(int)\n",
    "print(classification_report(y_test, y_test_pred_thresh))"
   ]
  },
  {
   "cell_type": "code",
   "execution_count": 32,
   "id": "b1f77650",
   "metadata": {},
   "outputs": [
    {
     "name": "stdout",
     "output_type": "stream",
     "text": [
      "              precision    recall  f1-score   support\n",
      "\n",
      "         0.0       0.91      0.98      0.95      1081\n",
      "         1.0       0.86      0.57      0.69       230\n",
      "\n",
      "    accuracy                           0.91      1311\n",
      "   macro avg       0.89      0.78      0.82      1311\n",
      "weighted avg       0.91      0.91      0.90      1311\n",
      "\n"
     ]
    }
   ],
   "source": [
    "print(classification_report(y_test, y_test_pred))"
   ]
  },
  {
   "cell_type": "code",
   "execution_count": 33,
   "id": "4556b27b",
   "metadata": {},
   "outputs": [
    {
     "name": "stdout",
     "output_type": "stream",
     "text": [
      "              precision    recall  f1-score   support\n",
      "\n",
      "         0.0       0.97      1.00      0.98      4291\n",
      "         1.0       1.00      0.84      0.91       950\n",
      "\n",
      "    accuracy                           0.97      5241\n",
      "   macro avg       0.98      0.92      0.95      5241\n",
      "weighted avg       0.97      0.97      0.97      5241\n",
      "\n"
     ]
    }
   ],
   "source": [
    "print(classification_report(y_train, rf.predict(X_train)))"
   ]
  }
 ],
 "metadata": {
  "kernelspec": {
   "display_name": "Python 3 (ipykernel)",
   "language": "python",
   "name": "python3"
  },
  "language_info": {
   "codemirror_mode": {
    "name": "ipython",
    "version": 3
   },
   "file_extension": ".py",
   "mimetype": "text/x-python",
   "name": "python",
   "nbconvert_exporter": "python",
   "pygments_lexer": "ipython3",
   "version": "3.12.9"
  }
 },
 "nbformat": 4,
 "nbformat_minor": 5
}

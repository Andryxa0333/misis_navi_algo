{
 "cells": [
  {
   "cell_type": "code",
   "id": "3165245c",
   "metadata": {
    "ExecuteTime": {
     "end_time": "2025-04-10T12:42:48.493986Z",
     "start_time": "2025-04-10T12:42:47.282381Z"
    }
   },
   "source": [
    "import pandas as pd\n",
    "import os\n",
    "from tqdm import tqdm\n",
    "import numpy as np\n",
    "import re\n",
    "import geopandas as gpd\n",
    "\n",
    "import warnings\n",
    "warnings.filterwarnings('ignore')"
   ],
   "outputs": [],
   "execution_count": 1
  },
  {
   "metadata": {
    "ExecuteTime": {
     "end_time": "2025-04-16T11:51:04.018746Z",
     "start_time": "2025-04-16T11:51:03.500209Z"
    }
   },
   "cell_type": "code",
   "source": "test_data = pd.read_parquet(\"../data/second_departure_parquet_feats/sample_06.09.2022_all_features.parquet\")",
   "id": "76a58291057c1b41",
   "outputs": [],
   "execution_count": 5
  },
  {
   "metadata": {
    "ExecuteTime": {
     "end_time": "2025-04-16T11:51:05.851450Z",
     "start_time": "2025-04-16T11:51:05.771936Z"
    }
   },
   "cell_type": "code",
   "source": "test_data.head()",
   "id": "4594471ef04907b6",
   "outputs": [
    {
     "data": {
      "text/plain": [
       "        date            datetime                              dev_id_1  \\\n",
       "0 2022-09-06 2022-09-06 07:38:07  1CB8D3E9-04BE-465D-B334-0E1F7F026A98   \n",
       "1 2022-09-06 2022-09-06 07:38:07  1CB8D3E9-04BE-465D-B334-0E1F7F026A98   \n",
       "2 2022-09-06 2022-09-06 07:38:07  3744EED3-A474-458B-AA4F-5357B8EE7FBF   \n",
       "3 2022-09-06 2022-09-06 07:48:07  1CB8D3E9-04BE-465D-B334-0E1F7F026A98   \n",
       "4 2022-09-06 2022-09-06 08:13:07  40808752-2CEE-454B-B6E6-95EC9615999D   \n",
       "\n",
       "   id_1_last_lon  id_1_last_lat                              dev_id_2  \\\n",
       "0      37.602788      55.893562  3744EED3-A474-458B-AA4F-5357B8EE7FBF   \n",
       "1      37.602788      55.893562  393B6105-4D72-4E11-BEA1-394CD0AFC499   \n",
       "2      37.606185      55.894089  393B6105-4D72-4E11-BEA1-394CD0AFC499   \n",
       "3      37.602780      55.893606  7F921169-FB12-471F-B244-62840E543DD7   \n",
       "4      37.603324      55.892073  8A8813E7-6012-4600-835D-1C286EADE837   \n",
       "\n",
       "   id_2_last_lon  id_2_last_lat  accelerometer_x_corr  \\\n",
       "0      37.606185      55.894089              0.000661   \n",
       "1      37.604149      55.895599              0.029039   \n",
       "2      37.604149      55.895599              0.002194   \n",
       "3      37.603513      55.892299              0.024953   \n",
       "4      37.602763      55.892618              0.203208   \n",
       "\n",
       "   accelerometer_x_diff_corr  ...  bearing_corr  speed_corr  height_diff_corr  \\\n",
       "0                   0.035777  ...      0.205053    0.082422          0.014212   \n",
       "1                   0.067258  ...      0.144063    0.052211          0.011149   \n",
       "2                   0.077567  ...      0.306874    0.012220          0.001329   \n",
       "3                   0.069213  ...      0.046329    0.009875          0.011567   \n",
       "4                   0.009416  ...      0.204592    0.112317          0.010256   \n",
       "\n",
       "   bearing_diff_corr  speed_diff_corr  speed_mean_abs_diff  speed_mean_diff  \\\n",
       "0           0.098073         0.029655             3.504287        -1.845214   \n",
       "1           0.152548         0.059629             2.732987        -1.196340   \n",
       "2           0.043845         0.007309             4.445489         0.413304   \n",
       "3           0.269572         0.014251             3.261829        -0.938763   \n",
       "4           0.058706         0.119389             3.765288         0.098938   \n",
       "\n",
       "   speed_std_diff  distance_mean  distance_std  \n",
       "0        9.843380     165.717646    141.099882  \n",
       "1        6.964679     133.042537     72.842306  \n",
       "2       11.253297      88.975281     98.468099  \n",
       "3        8.793781     118.765372     16.460189  \n",
       "4       10.963710      38.229802     39.078068  \n",
       "\n",
       "[5 rows x 29 columns]"
      ],
      "text/html": [
       "<div>\n",
       "<style scoped>\n",
       "    .dataframe tbody tr th:only-of-type {\n",
       "        vertical-align: middle;\n",
       "    }\n",
       "\n",
       "    .dataframe tbody tr th {\n",
       "        vertical-align: top;\n",
       "    }\n",
       "\n",
       "    .dataframe thead th {\n",
       "        text-align: right;\n",
       "    }\n",
       "</style>\n",
       "<table border=\"1\" class=\"dataframe\">\n",
       "  <thead>\n",
       "    <tr style=\"text-align: right;\">\n",
       "      <th></th>\n",
       "      <th>date</th>\n",
       "      <th>datetime</th>\n",
       "      <th>dev_id_1</th>\n",
       "      <th>id_1_last_lon</th>\n",
       "      <th>id_1_last_lat</th>\n",
       "      <th>dev_id_2</th>\n",
       "      <th>id_2_last_lon</th>\n",
       "      <th>id_2_last_lat</th>\n",
       "      <th>accelerometer_x_corr</th>\n",
       "      <th>accelerometer_x_diff_corr</th>\n",
       "      <th>...</th>\n",
       "      <th>bearing_corr</th>\n",
       "      <th>speed_corr</th>\n",
       "      <th>height_diff_corr</th>\n",
       "      <th>bearing_diff_corr</th>\n",
       "      <th>speed_diff_corr</th>\n",
       "      <th>speed_mean_abs_diff</th>\n",
       "      <th>speed_mean_diff</th>\n",
       "      <th>speed_std_diff</th>\n",
       "      <th>distance_mean</th>\n",
       "      <th>distance_std</th>\n",
       "    </tr>\n",
       "  </thead>\n",
       "  <tbody>\n",
       "    <tr>\n",
       "      <th>0</th>\n",
       "      <td>2022-09-06</td>\n",
       "      <td>2022-09-06 07:38:07</td>\n",
       "      <td>1CB8D3E9-04BE-465D-B334-0E1F7F026A98</td>\n",
       "      <td>37.602788</td>\n",
       "      <td>55.893562</td>\n",
       "      <td>3744EED3-A474-458B-AA4F-5357B8EE7FBF</td>\n",
       "      <td>37.606185</td>\n",
       "      <td>55.894089</td>\n",
       "      <td>0.000661</td>\n",
       "      <td>0.035777</td>\n",
       "      <td>...</td>\n",
       "      <td>0.205053</td>\n",
       "      <td>0.082422</td>\n",
       "      <td>0.014212</td>\n",
       "      <td>0.098073</td>\n",
       "      <td>0.029655</td>\n",
       "      <td>3.504287</td>\n",
       "      <td>-1.845214</td>\n",
       "      <td>9.843380</td>\n",
       "      <td>165.717646</td>\n",
       "      <td>141.099882</td>\n",
       "    </tr>\n",
       "    <tr>\n",
       "      <th>1</th>\n",
       "      <td>2022-09-06</td>\n",
       "      <td>2022-09-06 07:38:07</td>\n",
       "      <td>1CB8D3E9-04BE-465D-B334-0E1F7F026A98</td>\n",
       "      <td>37.602788</td>\n",
       "      <td>55.893562</td>\n",
       "      <td>393B6105-4D72-4E11-BEA1-394CD0AFC499</td>\n",
       "      <td>37.604149</td>\n",
       "      <td>55.895599</td>\n",
       "      <td>0.029039</td>\n",
       "      <td>0.067258</td>\n",
       "      <td>...</td>\n",
       "      <td>0.144063</td>\n",
       "      <td>0.052211</td>\n",
       "      <td>0.011149</td>\n",
       "      <td>0.152548</td>\n",
       "      <td>0.059629</td>\n",
       "      <td>2.732987</td>\n",
       "      <td>-1.196340</td>\n",
       "      <td>6.964679</td>\n",
       "      <td>133.042537</td>\n",
       "      <td>72.842306</td>\n",
       "    </tr>\n",
       "    <tr>\n",
       "      <th>2</th>\n",
       "      <td>2022-09-06</td>\n",
       "      <td>2022-09-06 07:38:07</td>\n",
       "      <td>3744EED3-A474-458B-AA4F-5357B8EE7FBF</td>\n",
       "      <td>37.606185</td>\n",
       "      <td>55.894089</td>\n",
       "      <td>393B6105-4D72-4E11-BEA1-394CD0AFC499</td>\n",
       "      <td>37.604149</td>\n",
       "      <td>55.895599</td>\n",
       "      <td>0.002194</td>\n",
       "      <td>0.077567</td>\n",
       "      <td>...</td>\n",
       "      <td>0.306874</td>\n",
       "      <td>0.012220</td>\n",
       "      <td>0.001329</td>\n",
       "      <td>0.043845</td>\n",
       "      <td>0.007309</td>\n",
       "      <td>4.445489</td>\n",
       "      <td>0.413304</td>\n",
       "      <td>11.253297</td>\n",
       "      <td>88.975281</td>\n",
       "      <td>98.468099</td>\n",
       "    </tr>\n",
       "    <tr>\n",
       "      <th>3</th>\n",
       "      <td>2022-09-06</td>\n",
       "      <td>2022-09-06 07:48:07</td>\n",
       "      <td>1CB8D3E9-04BE-465D-B334-0E1F7F026A98</td>\n",
       "      <td>37.602780</td>\n",
       "      <td>55.893606</td>\n",
       "      <td>7F921169-FB12-471F-B244-62840E543DD7</td>\n",
       "      <td>37.603513</td>\n",
       "      <td>55.892299</td>\n",
       "      <td>0.024953</td>\n",
       "      <td>0.069213</td>\n",
       "      <td>...</td>\n",
       "      <td>0.046329</td>\n",
       "      <td>0.009875</td>\n",
       "      <td>0.011567</td>\n",
       "      <td>0.269572</td>\n",
       "      <td>0.014251</td>\n",
       "      <td>3.261829</td>\n",
       "      <td>-0.938763</td>\n",
       "      <td>8.793781</td>\n",
       "      <td>118.765372</td>\n",
       "      <td>16.460189</td>\n",
       "    </tr>\n",
       "    <tr>\n",
       "      <th>4</th>\n",
       "      <td>2022-09-06</td>\n",
       "      <td>2022-09-06 08:13:07</td>\n",
       "      <td>40808752-2CEE-454B-B6E6-95EC9615999D</td>\n",
       "      <td>37.603324</td>\n",
       "      <td>55.892073</td>\n",
       "      <td>8A8813E7-6012-4600-835D-1C286EADE837</td>\n",
       "      <td>37.602763</td>\n",
       "      <td>55.892618</td>\n",
       "      <td>0.203208</td>\n",
       "      <td>0.009416</td>\n",
       "      <td>...</td>\n",
       "      <td>0.204592</td>\n",
       "      <td>0.112317</td>\n",
       "      <td>0.010256</td>\n",
       "      <td>0.058706</td>\n",
       "      <td>0.119389</td>\n",
       "      <td>3.765288</td>\n",
       "      <td>0.098938</td>\n",
       "      <td>10.963710</td>\n",
       "      <td>38.229802</td>\n",
       "      <td>39.078068</td>\n",
       "    </tr>\n",
       "  </tbody>\n",
       "</table>\n",
       "<p>5 rows × 29 columns</p>\n",
       "</div>"
      ]
     },
     "execution_count": 6,
     "metadata": {},
     "output_type": "execute_result"
    }
   ],
   "execution_count": 6
  },
  {
   "metadata": {
    "ExecuteTime": {
     "end_time": "2025-04-16T11:51:09.570738Z",
     "start_time": "2025-04-16T11:51:09.499747Z"
    }
   },
   "cell_type": "code",
   "source": "test_data.info()",
   "id": "5c0243f1a372bdaf",
   "outputs": [
    {
     "name": "stdout",
     "output_type": "stream",
     "text": [
      "<class 'pandas.core.frame.DataFrame'>\n",
      "RangeIndex: 1679 entries, 0 to 1678\n",
      "Data columns (total 29 columns):\n",
      " #   Column                     Non-Null Count  Dtype         \n",
      "---  ------                     --------------  -----         \n",
      " 0   date                       1679 non-null   datetime64[ns]\n",
      " 1   datetime                   1679 non-null   datetime64[ns]\n",
      " 2   dev_id_1                   1679 non-null   object        \n",
      " 3   id_1_last_lon              1679 non-null   float64       \n",
      " 4   id_1_last_lat              1679 non-null   float64       \n",
      " 5   dev_id_2                   1679 non-null   object        \n",
      " 6   id_2_last_lon              1679 non-null   float64       \n",
      " 7   id_2_last_lat              1679 non-null   float64       \n",
      " 8   accelerometer_x_corr       1411 non-null   float64       \n",
      " 9   accelerometer_x_diff_corr  1411 non-null   float64       \n",
      " 10  accelerometer_y_corr       1492 non-null   float64       \n",
      " 11  accelerometer_y_diff_corr  1492 non-null   float64       \n",
      " 12  accelerometer_z_corr       1454 non-null   float64       \n",
      " 13  accelerometer_z_diff_corr  1454 non-null   float64       \n",
      " 14  x_metres_corr              1488 non-null   float64       \n",
      " 15  x_diff_metres_corr         1488 non-null   float64       \n",
      " 16  y_metres_corr              1488 non-null   float64       \n",
      " 17  y_diff_metres_corr         1488 non-null   float64       \n",
      " 18  height_corr                890 non-null    float64       \n",
      " 19  bearing_corr               1376 non-null   float64       \n",
      " 20  speed_corr                 1488 non-null   float64       \n",
      " 21  height_diff_corr           890 non-null    float64       \n",
      " 22  bearing_diff_corr          1376 non-null   float64       \n",
      " 23  speed_diff_corr            1488 non-null   float64       \n",
      " 24  speed_mean_abs_diff        1523 non-null   float64       \n",
      " 25  speed_mean_diff            1523 non-null   float64       \n",
      " 26  speed_std_diff             1523 non-null   float64       \n",
      " 27  distance_mean              1523 non-null   float64       \n",
      " 28  distance_std               1523 non-null   float64       \n",
      "dtypes: datetime64[ns](2), float64(25), object(2)\n",
      "memory usage: 380.5+ KB\n"
     ]
    }
   ],
   "execution_count": 7
  },
  {
   "metadata": {
    "ExecuteTime": {
     "end_time": "2025-04-16T12:08:42.647524Z",
     "start_time": "2025-04-16T12:08:42.452943Z"
    }
   },
   "cell_type": "code",
   "source": "test_data1 = pd.read_parquet(\"../data/second_departure_parquet/Данные за 06.09-12.09/Тест 5hz -2/Тест 5 Hz -2 06.09.2022.parquet\")",
   "id": "dd96d2e5a807e488",
   "outputs": [],
   "execution_count": 8
  },
  {
   "metadata": {
    "ExecuteTime": {
     "end_time": "2025-04-16T12:08:55.789799Z",
     "start_time": "2025-04-16T12:08:55.751798Z"
    }
   },
   "cell_type": "code",
   "source": "test_data1.head()",
   "id": "32ea19c0e3c9d322",
   "outputs": [
    {
     "data": {
      "text/plain": [
       "               Наименование (device ID)  Время отправки гео  bearing  \\\n",
       "0  40808752-2CEE-454B-B6E6-95EC9615999D 2022-09-06 08:14:50      293   \n",
       "1  40808752-2CEE-454B-B6E6-95EC9615999D 2022-09-06 08:14:50      293   \n",
       "2  40808752-2CEE-454B-B6E6-95EC9615999D 2022-09-06 08:14:50      293   \n",
       "3  40808752-2CEE-454B-B6E6-95EC9615999D 2022-09-06 08:14:51      293   \n",
       "4  40808752-2CEE-454B-B6E6-95EC9615999D 2022-09-06 08:14:51      293   \n",
       "\n",
       "                                     Акселерометр Гироскоп  Счетчик шагов  \\\n",
       "0    [\\n  0.13168335,\\n  5.323807,\\n  7.882904\\n]       []              3   \n",
       "1    [\\n  -1.4389191,\\n  6.12825,\\n  6.4655304\\n]       []              3   \n",
       "2  [\\n  -1.2473755,\\n  6.0516357,\\n  6.6953735\\n]       []              3   \n",
       "3   [\\n  -0.4046173,\\n  5.3621063,\\n  7.882904\\n]       []              3   \n",
       "4   [\\n  -0.5195465,\\n  5.4770355,\\n  7.882904\\n]       []              3   \n",
       "\n",
       "   Скорость  Точность, м    Долгота     Широта  Высота  Уровень заряда  \n",
       "0  0.223073           30  37.602669  55.892841   187.9              41  \n",
       "1  0.223073           30  37.602669  55.892841   187.9              41  \n",
       "2  0.223073           30  37.602669  55.892841   187.9              41  \n",
       "3  0.223073           30  37.602669  55.892841   187.9              41  \n",
       "4  0.223073           30  37.602669  55.892841   187.9              41  "
      ],
      "text/html": [
       "<div>\n",
       "<style scoped>\n",
       "    .dataframe tbody tr th:only-of-type {\n",
       "        vertical-align: middle;\n",
       "    }\n",
       "\n",
       "    .dataframe tbody tr th {\n",
       "        vertical-align: top;\n",
       "    }\n",
       "\n",
       "    .dataframe thead th {\n",
       "        text-align: right;\n",
       "    }\n",
       "</style>\n",
       "<table border=\"1\" class=\"dataframe\">\n",
       "  <thead>\n",
       "    <tr style=\"text-align: right;\">\n",
       "      <th></th>\n",
       "      <th>Наименование (device ID)</th>\n",
       "      <th>Время отправки гео</th>\n",
       "      <th>bearing</th>\n",
       "      <th>Акселерометр</th>\n",
       "      <th>Гироскоп</th>\n",
       "      <th>Счетчик шагов</th>\n",
       "      <th>Скорость</th>\n",
       "      <th>Точность, м</th>\n",
       "      <th>Долгота</th>\n",
       "      <th>Широта</th>\n",
       "      <th>Высота</th>\n",
       "      <th>Уровень заряда</th>\n",
       "    </tr>\n",
       "  </thead>\n",
       "  <tbody>\n",
       "    <tr>\n",
       "      <th>0</th>\n",
       "      <td>40808752-2CEE-454B-B6E6-95EC9615999D</td>\n",
       "      <td>2022-09-06 08:14:50</td>\n",
       "      <td>293</td>\n",
       "      <td>[\\n  0.13168335,\\n  5.323807,\\n  7.882904\\n]</td>\n",
       "      <td>[]</td>\n",
       "      <td>3</td>\n",
       "      <td>0.223073</td>\n",
       "      <td>30</td>\n",
       "      <td>37.602669</td>\n",
       "      <td>55.892841</td>\n",
       "      <td>187.9</td>\n",
       "      <td>41</td>\n",
       "    </tr>\n",
       "    <tr>\n",
       "      <th>1</th>\n",
       "      <td>40808752-2CEE-454B-B6E6-95EC9615999D</td>\n",
       "      <td>2022-09-06 08:14:50</td>\n",
       "      <td>293</td>\n",
       "      <td>[\\n  -1.4389191,\\n  6.12825,\\n  6.4655304\\n]</td>\n",
       "      <td>[]</td>\n",
       "      <td>3</td>\n",
       "      <td>0.223073</td>\n",
       "      <td>30</td>\n",
       "      <td>37.602669</td>\n",
       "      <td>55.892841</td>\n",
       "      <td>187.9</td>\n",
       "      <td>41</td>\n",
       "    </tr>\n",
       "    <tr>\n",
       "      <th>2</th>\n",
       "      <td>40808752-2CEE-454B-B6E6-95EC9615999D</td>\n",
       "      <td>2022-09-06 08:14:50</td>\n",
       "      <td>293</td>\n",
       "      <td>[\\n  -1.2473755,\\n  6.0516357,\\n  6.6953735\\n]</td>\n",
       "      <td>[]</td>\n",
       "      <td>3</td>\n",
       "      <td>0.223073</td>\n",
       "      <td>30</td>\n",
       "      <td>37.602669</td>\n",
       "      <td>55.892841</td>\n",
       "      <td>187.9</td>\n",
       "      <td>41</td>\n",
       "    </tr>\n",
       "    <tr>\n",
       "      <th>3</th>\n",
       "      <td>40808752-2CEE-454B-B6E6-95EC9615999D</td>\n",
       "      <td>2022-09-06 08:14:51</td>\n",
       "      <td>293</td>\n",
       "      <td>[\\n  -0.4046173,\\n  5.3621063,\\n  7.882904\\n]</td>\n",
       "      <td>[]</td>\n",
       "      <td>3</td>\n",
       "      <td>0.223073</td>\n",
       "      <td>30</td>\n",
       "      <td>37.602669</td>\n",
       "      <td>55.892841</td>\n",
       "      <td>187.9</td>\n",
       "      <td>41</td>\n",
       "    </tr>\n",
       "    <tr>\n",
       "      <th>4</th>\n",
       "      <td>40808752-2CEE-454B-B6E6-95EC9615999D</td>\n",
       "      <td>2022-09-06 08:14:51</td>\n",
       "      <td>293</td>\n",
       "      <td>[\\n  -0.5195465,\\n  5.4770355,\\n  7.882904\\n]</td>\n",
       "      <td>[]</td>\n",
       "      <td>3</td>\n",
       "      <td>0.223073</td>\n",
       "      <td>30</td>\n",
       "      <td>37.602669</td>\n",
       "      <td>55.892841</td>\n",
       "      <td>187.9</td>\n",
       "      <td>41</td>\n",
       "    </tr>\n",
       "  </tbody>\n",
       "</table>\n",
       "</div>"
      ]
     },
     "execution_count": 9,
     "metadata": {},
     "output_type": "execute_result"
    }
   ],
   "execution_count": 9
  },
  {
   "metadata": {
    "ExecuteTime": {
     "end_time": "2025-04-16T12:09:16.907477Z",
     "start_time": "2025-04-16T12:09:16.840476Z"
    }
   },
   "cell_type": "code",
   "source": "test_data1.info()",
   "id": "da0c14ce0daac12",
   "outputs": [
    {
     "name": "stdout",
     "output_type": "stream",
     "text": [
      "<class 'pandas.core.frame.DataFrame'>\n",
      "RangeIndex: 161215 entries, 0 to 161214\n",
      "Data columns (total 12 columns):\n",
      " #   Column                    Non-Null Count   Dtype         \n",
      "---  ------                    --------------   -----         \n",
      " 0   Наименование (device ID)  161215 non-null  object        \n",
      " 1   Время отправки гео        161215 non-null  datetime64[us]\n",
      " 2   bearing                   161215 non-null  int64         \n",
      " 3   Акселерометр              161215 non-null  object        \n",
      " 4   Гироскоп                  161215 non-null  object        \n",
      " 5   Счетчик шагов             161215 non-null  int64         \n",
      " 6   Скорость                  161215 non-null  float64       \n",
      " 7   Точность, м               161215 non-null  int64         \n",
      " 8   Долгота                   161215 non-null  float64       \n",
      " 9   Широта                    161215 non-null  float64       \n",
      " 10  Высота                    161215 non-null  float64       \n",
      " 11  Уровень заряда            161215 non-null  int64         \n",
      "dtypes: datetime64[us](1), float64(4), int64(4), object(3)\n",
      "memory usage: 14.8+ MB\n"
     ]
    }
   ],
   "execution_count": 10
  },
  {
   "metadata": {
    "ExecuteTime": {
     "end_time": "2025-04-16T12:11:44.023919Z",
     "start_time": "2025-04-16T12:11:43.880923Z"
    }
   },
   "cell_type": "code",
   "source": "test_data2 = pd.read_parquet(\"../data/second_departure_parquet_preprocessed/Данные_за_06.09-12.09/Тест_5hz_-2/Тест_5_Hz_-2_06.09.2022.parquet\")",
   "id": "a849293493157091",
   "outputs": [],
   "execution_count": 12
  },
  {
   "metadata": {
    "ExecuteTime": {
     "end_time": "2025-04-16T12:11:55.496737Z",
     "start_time": "2025-04-16T12:11:55.461737Z"
    }
   },
   "cell_type": "code",
   "source": "test_data2.head()",
   "id": "af1cf9997acbbd07",
   "outputs": [
    {
     "data": {
      "text/plain": [
       "               Наименование (device ID)  Время отправки гео  bearing  \\\n",
       "0  40808752-2CEE-454B-B6E6-95EC9615999D 2022-09-06 08:14:50      293   \n",
       "1  40808752-2CEE-454B-B6E6-95EC9615999D 2022-09-06 08:14:50      293   \n",
       "2  40808752-2CEE-454B-B6E6-95EC9615999D 2022-09-06 08:14:50      293   \n",
       "3  40808752-2CEE-454B-B6E6-95EC9615999D 2022-09-06 08:14:51      293   \n",
       "4  40808752-2CEE-454B-B6E6-95EC9615999D 2022-09-06 08:14:51      293   \n",
       "\n",
       "                         Акселерометр Гироскоп  Счетчик шагов  Скорость  \\\n",
       "0    [0.13168335, 5.323807, 7.882904]       []              3  0.223073   \n",
       "1    [-1.4389191, 6.12825, 6.4655304]       []              3  0.223073   \n",
       "2  [-1.2473755, 6.0516357, 6.6953735]       []              3  0.223073   \n",
       "3   [-0.4046173, 5.3621063, 7.882904]       []              3  0.223073   \n",
       "4   [-0.5195465, 5.4770355, 7.882904]       []              3  0.223073   \n",
       "\n",
       "   Точность, м    Долгота     Широта  Высота  Уровень заряда  \\\n",
       "0           30  37.602669  55.892841   187.9              41   \n",
       "1           30  37.602669  55.892841   187.9              41   \n",
       "2           30  37.602669  55.892841   187.9              41   \n",
       "3           30  37.602669  55.892841   187.9              41   \n",
       "4           30  37.602669  55.892841   187.9              41   \n",
       "\n",
       "   timestamp_rownum     acc_x     acc_y     acc_z  \n",
       "0                 1  0.131683  5.323807  7.882904  \n",
       "1                 2 -1.438919  6.128250  6.465530  \n",
       "2                 3 -1.247375  6.051636  6.695373  \n",
       "3                 1 -0.404617  5.362106  7.882904  \n",
       "4                 2 -0.519547  5.477036  7.882904  "
      ],
      "text/html": [
       "<div>\n",
       "<style scoped>\n",
       "    .dataframe tbody tr th:only-of-type {\n",
       "        vertical-align: middle;\n",
       "    }\n",
       "\n",
       "    .dataframe tbody tr th {\n",
       "        vertical-align: top;\n",
       "    }\n",
       "\n",
       "    .dataframe thead th {\n",
       "        text-align: right;\n",
       "    }\n",
       "</style>\n",
       "<table border=\"1\" class=\"dataframe\">\n",
       "  <thead>\n",
       "    <tr style=\"text-align: right;\">\n",
       "      <th></th>\n",
       "      <th>Наименование (device ID)</th>\n",
       "      <th>Время отправки гео</th>\n",
       "      <th>bearing</th>\n",
       "      <th>Акселерометр</th>\n",
       "      <th>Гироскоп</th>\n",
       "      <th>Счетчик шагов</th>\n",
       "      <th>Скорость</th>\n",
       "      <th>Точность, м</th>\n",
       "      <th>Долгота</th>\n",
       "      <th>Широта</th>\n",
       "      <th>Высота</th>\n",
       "      <th>Уровень заряда</th>\n",
       "      <th>timestamp_rownum</th>\n",
       "      <th>acc_x</th>\n",
       "      <th>acc_y</th>\n",
       "      <th>acc_z</th>\n",
       "    </tr>\n",
       "  </thead>\n",
       "  <tbody>\n",
       "    <tr>\n",
       "      <th>0</th>\n",
       "      <td>40808752-2CEE-454B-B6E6-95EC9615999D</td>\n",
       "      <td>2022-09-06 08:14:50</td>\n",
       "      <td>293</td>\n",
       "      <td>[0.13168335, 5.323807, 7.882904]</td>\n",
       "      <td>[]</td>\n",
       "      <td>3</td>\n",
       "      <td>0.223073</td>\n",
       "      <td>30</td>\n",
       "      <td>37.602669</td>\n",
       "      <td>55.892841</td>\n",
       "      <td>187.9</td>\n",
       "      <td>41</td>\n",
       "      <td>1</td>\n",
       "      <td>0.131683</td>\n",
       "      <td>5.323807</td>\n",
       "      <td>7.882904</td>\n",
       "    </tr>\n",
       "    <tr>\n",
       "      <th>1</th>\n",
       "      <td>40808752-2CEE-454B-B6E6-95EC9615999D</td>\n",
       "      <td>2022-09-06 08:14:50</td>\n",
       "      <td>293</td>\n",
       "      <td>[-1.4389191, 6.12825, 6.4655304]</td>\n",
       "      <td>[]</td>\n",
       "      <td>3</td>\n",
       "      <td>0.223073</td>\n",
       "      <td>30</td>\n",
       "      <td>37.602669</td>\n",
       "      <td>55.892841</td>\n",
       "      <td>187.9</td>\n",
       "      <td>41</td>\n",
       "      <td>2</td>\n",
       "      <td>-1.438919</td>\n",
       "      <td>6.128250</td>\n",
       "      <td>6.465530</td>\n",
       "    </tr>\n",
       "    <tr>\n",
       "      <th>2</th>\n",
       "      <td>40808752-2CEE-454B-B6E6-95EC9615999D</td>\n",
       "      <td>2022-09-06 08:14:50</td>\n",
       "      <td>293</td>\n",
       "      <td>[-1.2473755, 6.0516357, 6.6953735]</td>\n",
       "      <td>[]</td>\n",
       "      <td>3</td>\n",
       "      <td>0.223073</td>\n",
       "      <td>30</td>\n",
       "      <td>37.602669</td>\n",
       "      <td>55.892841</td>\n",
       "      <td>187.9</td>\n",
       "      <td>41</td>\n",
       "      <td>3</td>\n",
       "      <td>-1.247375</td>\n",
       "      <td>6.051636</td>\n",
       "      <td>6.695373</td>\n",
       "    </tr>\n",
       "    <tr>\n",
       "      <th>3</th>\n",
       "      <td>40808752-2CEE-454B-B6E6-95EC9615999D</td>\n",
       "      <td>2022-09-06 08:14:51</td>\n",
       "      <td>293</td>\n",
       "      <td>[-0.4046173, 5.3621063, 7.882904]</td>\n",
       "      <td>[]</td>\n",
       "      <td>3</td>\n",
       "      <td>0.223073</td>\n",
       "      <td>30</td>\n",
       "      <td>37.602669</td>\n",
       "      <td>55.892841</td>\n",
       "      <td>187.9</td>\n",
       "      <td>41</td>\n",
       "      <td>1</td>\n",
       "      <td>-0.404617</td>\n",
       "      <td>5.362106</td>\n",
       "      <td>7.882904</td>\n",
       "    </tr>\n",
       "    <tr>\n",
       "      <th>4</th>\n",
       "      <td>40808752-2CEE-454B-B6E6-95EC9615999D</td>\n",
       "      <td>2022-09-06 08:14:51</td>\n",
       "      <td>293</td>\n",
       "      <td>[-0.5195465, 5.4770355, 7.882904]</td>\n",
       "      <td>[]</td>\n",
       "      <td>3</td>\n",
       "      <td>0.223073</td>\n",
       "      <td>30</td>\n",
       "      <td>37.602669</td>\n",
       "      <td>55.892841</td>\n",
       "      <td>187.9</td>\n",
       "      <td>41</td>\n",
       "      <td>2</td>\n",
       "      <td>-0.519547</td>\n",
       "      <td>5.477036</td>\n",
       "      <td>7.882904</td>\n",
       "    </tr>\n",
       "  </tbody>\n",
       "</table>\n",
       "</div>"
      ]
     },
     "execution_count": 13,
     "metadata": {},
     "output_type": "execute_result"
    }
   ],
   "execution_count": 13
  },
  {
   "metadata": {
    "ExecuteTime": {
     "end_time": "2025-04-16T12:12:06.087927Z",
     "start_time": "2025-04-16T12:12:06.012930Z"
    }
   },
   "cell_type": "code",
   "source": "test_data2.info()",
   "id": "d88df54dd3954f77",
   "outputs": [
    {
     "name": "stdout",
     "output_type": "stream",
     "text": [
      "<class 'pandas.core.frame.DataFrame'>\n",
      "RangeIndex: 161215 entries, 0 to 161214\n",
      "Data columns (total 16 columns):\n",
      " #   Column                    Non-Null Count   Dtype         \n",
      "---  ------                    --------------   -----         \n",
      " 0   Наименование (device ID)  161215 non-null  object        \n",
      " 1   Время отправки гео        161215 non-null  datetime64[us]\n",
      " 2   bearing                   161215 non-null  int64         \n",
      " 3   Акселерометр              161215 non-null  object        \n",
      " 4   Гироскоп                  161215 non-null  object        \n",
      " 5   Счетчик шагов             161215 non-null  int64         \n",
      " 6   Скорость                  161215 non-null  float64       \n",
      " 7   Точность, м               161215 non-null  int64         \n",
      " 8   Долгота                   161215 non-null  float64       \n",
      " 9   Широта                    161215 non-null  float64       \n",
      " 10  Высота                    161215 non-null  float64       \n",
      " 11  Уровень заряда            161215 non-null  int64         \n",
      " 12  timestamp_rownum          161215 non-null  int64         \n",
      " 13  acc_x                     161215 non-null  float64       \n",
      " 14  acc_y                     161215 non-null  float64       \n",
      " 15  acc_z                     161215 non-null  float64       \n",
      "dtypes: datetime64[us](1), float64(7), int64(5), object(3)\n",
      "memory usage: 19.7+ MB\n"
     ]
    }
   ],
   "execution_count": 14
  },
  {
   "metadata": {
    "ExecuteTime": {
     "end_time": "2025-04-16T12:18:22.762111Z",
     "start_time": "2025-04-16T12:18:22.735112Z"
    }
   },
   "cell_type": "code",
   "source": "test_data3 = pd.read_parquet(\"../data/sample_11_02_all_features_high_radius.parquet\")",
   "id": "8b1f69ad97501596",
   "outputs": [],
   "execution_count": 15
  },
  {
   "metadata": {
    "ExecuteTime": {
     "end_time": "2025-04-16T12:18:31.151863Z",
     "start_time": "2025-04-16T12:18:31.100865Z"
    }
   },
   "cell_type": "code",
   "source": "test_data3.head()",
   "id": "7eaf601b6384592c",
   "outputs": [
    {
     "data": {
      "text/plain": [
       "        date            datetime                              dev_id_1  \\\n",
       "0 2022-12-01 2022-12-01 10:48:18  D4909E26-0469-4045-B426-211006C38915   \n",
       "1 2022-12-01 2022-12-01 10:53:18  D4909E26-0469-4045-B426-211006C38915   \n",
       "2 2022-12-01 2022-12-01 10:58:18  D4909E26-0469-4045-B426-211006C38915   \n",
       "3 2022-12-01 2022-12-01 11:03:18  D4909E26-0469-4045-B426-211006C38915   \n",
       "4 2022-12-01 2022-12-01 11:08:18  D4909E26-0469-4045-B426-211006C38915   \n",
       "\n",
       "   id_1_last_lon  id_1_last_lat                              dev_id_2  \\\n",
       "0      37.613123      55.894199  E9B9C64C-B66D-416D-BACD-3F0C9C2E1767   \n",
       "1      37.613346      55.894110  E9B9C64C-B66D-416D-BACD-3F0C9C2E1767   \n",
       "2      37.613084      55.893969  E9B9C64C-B66D-416D-BACD-3F0C9C2E1767   \n",
       "3      37.613346      55.894205  E9B9C64C-B66D-416D-BACD-3F0C9C2E1767   \n",
       "4      37.613375      55.894186  E9B9C64C-B66D-416D-BACD-3F0C9C2E1767   \n",
       "\n",
       "   id_2_last_lon  id_2_last_lat  accelerometer_x_corr  \\\n",
       "0      37.597539      55.891541              0.020848   \n",
       "1      37.597614      55.891387              0.024866   \n",
       "2      37.597684      55.891430              0.019898   \n",
       "3      37.597931      55.889485              0.030749   \n",
       "4      37.599243      55.889024              0.063623   \n",
       "\n",
       "   accelerometer_x_diff_corr  ...  bearing_corr  speed_corr  height_diff_corr  \\\n",
       "0                   0.013961  ...      0.003843    0.040824      2.342438e-18   \n",
       "1                   0.003584  ...      0.045900    0.044286      3.524988e-02   \n",
       "2                   0.030826  ...      0.089580    0.078751      2.599786e-19   \n",
       "3                   0.033406  ...      0.154146    0.058034      3.337160e-03   \n",
       "4                   0.093234  ...      0.057259    0.059225      2.638958e-03   \n",
       "\n",
       "   bearing_diff_corr  speed_diff_corr  speed_mean_abs_diff  speed_mean_diff  \\\n",
       "0           0.132480         0.033372             1.394553         0.712902   \n",
       "1           0.002435         0.019051             2.427950         0.921701   \n",
       "2           0.000066         0.108915             2.373555         1.524765   \n",
       "3           0.037221         0.062985             2.975291         0.145192   \n",
       "4           0.000309         0.074824             1.477277        -0.082662   \n",
       "\n",
       "   speed_std_diff  distance_mean  distance_std  \n",
       "0        4.810753    2054.569542     19.910991  \n",
       "1        6.956017    2037.886971     28.447167  \n",
       "2        7.726640    2030.144925     26.966362  \n",
       "3        7.078031    2010.692280     34.467854  \n",
       "4        3.710233    1936.012978     54.545285  \n",
       "\n",
       "[5 rows x 29 columns]"
      ],
      "text/html": [
       "<div>\n",
       "<style scoped>\n",
       "    .dataframe tbody tr th:only-of-type {\n",
       "        vertical-align: middle;\n",
       "    }\n",
       "\n",
       "    .dataframe tbody tr th {\n",
       "        vertical-align: top;\n",
       "    }\n",
       "\n",
       "    .dataframe thead th {\n",
       "        text-align: right;\n",
       "    }\n",
       "</style>\n",
       "<table border=\"1\" class=\"dataframe\">\n",
       "  <thead>\n",
       "    <tr style=\"text-align: right;\">\n",
       "      <th></th>\n",
       "      <th>date</th>\n",
       "      <th>datetime</th>\n",
       "      <th>dev_id_1</th>\n",
       "      <th>id_1_last_lon</th>\n",
       "      <th>id_1_last_lat</th>\n",
       "      <th>dev_id_2</th>\n",
       "      <th>id_2_last_lon</th>\n",
       "      <th>id_2_last_lat</th>\n",
       "      <th>accelerometer_x_corr</th>\n",
       "      <th>accelerometer_x_diff_corr</th>\n",
       "      <th>...</th>\n",
       "      <th>bearing_corr</th>\n",
       "      <th>speed_corr</th>\n",
       "      <th>height_diff_corr</th>\n",
       "      <th>bearing_diff_corr</th>\n",
       "      <th>speed_diff_corr</th>\n",
       "      <th>speed_mean_abs_diff</th>\n",
       "      <th>speed_mean_diff</th>\n",
       "      <th>speed_std_diff</th>\n",
       "      <th>distance_mean</th>\n",
       "      <th>distance_std</th>\n",
       "    </tr>\n",
       "  </thead>\n",
       "  <tbody>\n",
       "    <tr>\n",
       "      <th>0</th>\n",
       "      <td>2022-12-01</td>\n",
       "      <td>2022-12-01 10:48:18</td>\n",
       "      <td>D4909E26-0469-4045-B426-211006C38915</td>\n",
       "      <td>37.613123</td>\n",
       "      <td>55.894199</td>\n",
       "      <td>E9B9C64C-B66D-416D-BACD-3F0C9C2E1767</td>\n",
       "      <td>37.597539</td>\n",
       "      <td>55.891541</td>\n",
       "      <td>0.020848</td>\n",
       "      <td>0.013961</td>\n",
       "      <td>...</td>\n",
       "      <td>0.003843</td>\n",
       "      <td>0.040824</td>\n",
       "      <td>2.342438e-18</td>\n",
       "      <td>0.132480</td>\n",
       "      <td>0.033372</td>\n",
       "      <td>1.394553</td>\n",
       "      <td>0.712902</td>\n",
       "      <td>4.810753</td>\n",
       "      <td>2054.569542</td>\n",
       "      <td>19.910991</td>\n",
       "    </tr>\n",
       "    <tr>\n",
       "      <th>1</th>\n",
       "      <td>2022-12-01</td>\n",
       "      <td>2022-12-01 10:53:18</td>\n",
       "      <td>D4909E26-0469-4045-B426-211006C38915</td>\n",
       "      <td>37.613346</td>\n",
       "      <td>55.894110</td>\n",
       "      <td>E9B9C64C-B66D-416D-BACD-3F0C9C2E1767</td>\n",
       "      <td>37.597614</td>\n",
       "      <td>55.891387</td>\n",
       "      <td>0.024866</td>\n",
       "      <td>0.003584</td>\n",
       "      <td>...</td>\n",
       "      <td>0.045900</td>\n",
       "      <td>0.044286</td>\n",
       "      <td>3.524988e-02</td>\n",
       "      <td>0.002435</td>\n",
       "      <td>0.019051</td>\n",
       "      <td>2.427950</td>\n",
       "      <td>0.921701</td>\n",
       "      <td>6.956017</td>\n",
       "      <td>2037.886971</td>\n",
       "      <td>28.447167</td>\n",
       "    </tr>\n",
       "    <tr>\n",
       "      <th>2</th>\n",
       "      <td>2022-12-01</td>\n",
       "      <td>2022-12-01 10:58:18</td>\n",
       "      <td>D4909E26-0469-4045-B426-211006C38915</td>\n",
       "      <td>37.613084</td>\n",
       "      <td>55.893969</td>\n",
       "      <td>E9B9C64C-B66D-416D-BACD-3F0C9C2E1767</td>\n",
       "      <td>37.597684</td>\n",
       "      <td>55.891430</td>\n",
       "      <td>0.019898</td>\n",
       "      <td>0.030826</td>\n",
       "      <td>...</td>\n",
       "      <td>0.089580</td>\n",
       "      <td>0.078751</td>\n",
       "      <td>2.599786e-19</td>\n",
       "      <td>0.000066</td>\n",
       "      <td>0.108915</td>\n",
       "      <td>2.373555</td>\n",
       "      <td>1.524765</td>\n",
       "      <td>7.726640</td>\n",
       "      <td>2030.144925</td>\n",
       "      <td>26.966362</td>\n",
       "    </tr>\n",
       "    <tr>\n",
       "      <th>3</th>\n",
       "      <td>2022-12-01</td>\n",
       "      <td>2022-12-01 11:03:18</td>\n",
       "      <td>D4909E26-0469-4045-B426-211006C38915</td>\n",
       "      <td>37.613346</td>\n",
       "      <td>55.894205</td>\n",
       "      <td>E9B9C64C-B66D-416D-BACD-3F0C9C2E1767</td>\n",
       "      <td>37.597931</td>\n",
       "      <td>55.889485</td>\n",
       "      <td>0.030749</td>\n",
       "      <td>0.033406</td>\n",
       "      <td>...</td>\n",
       "      <td>0.154146</td>\n",
       "      <td>0.058034</td>\n",
       "      <td>3.337160e-03</td>\n",
       "      <td>0.037221</td>\n",
       "      <td>0.062985</td>\n",
       "      <td>2.975291</td>\n",
       "      <td>0.145192</td>\n",
       "      <td>7.078031</td>\n",
       "      <td>2010.692280</td>\n",
       "      <td>34.467854</td>\n",
       "    </tr>\n",
       "    <tr>\n",
       "      <th>4</th>\n",
       "      <td>2022-12-01</td>\n",
       "      <td>2022-12-01 11:08:18</td>\n",
       "      <td>D4909E26-0469-4045-B426-211006C38915</td>\n",
       "      <td>37.613375</td>\n",
       "      <td>55.894186</td>\n",
       "      <td>E9B9C64C-B66D-416D-BACD-3F0C9C2E1767</td>\n",
       "      <td>37.599243</td>\n",
       "      <td>55.889024</td>\n",
       "      <td>0.063623</td>\n",
       "      <td>0.093234</td>\n",
       "      <td>...</td>\n",
       "      <td>0.057259</td>\n",
       "      <td>0.059225</td>\n",
       "      <td>2.638958e-03</td>\n",
       "      <td>0.000309</td>\n",
       "      <td>0.074824</td>\n",
       "      <td>1.477277</td>\n",
       "      <td>-0.082662</td>\n",
       "      <td>3.710233</td>\n",
       "      <td>1936.012978</td>\n",
       "      <td>54.545285</td>\n",
       "    </tr>\n",
       "  </tbody>\n",
       "</table>\n",
       "<p>5 rows × 29 columns</p>\n",
       "</div>"
      ]
     },
     "execution_count": 16,
     "metadata": {},
     "output_type": "execute_result"
    }
   ],
   "execution_count": 16
  },
  {
   "metadata": {
    "ExecuteTime": {
     "end_time": "2025-04-16T12:18:40.757924Z",
     "start_time": "2025-04-16T12:18:40.706923Z"
    }
   },
   "cell_type": "code",
   "source": "test_data3.info()",
   "id": "f9c1230bdbc656ce",
   "outputs": [
    {
     "name": "stdout",
     "output_type": "stream",
     "text": [
      "<class 'pandas.core.frame.DataFrame'>\n",
      "RangeIndex: 483 entries, 0 to 482\n",
      "Data columns (total 29 columns):\n",
      " #   Column                     Non-Null Count  Dtype         \n",
      "---  ------                     --------------  -----         \n",
      " 0   date                       483 non-null    datetime64[us]\n",
      " 1   datetime                   483 non-null    datetime64[us]\n",
      " 2   dev_id_1                   483 non-null    object        \n",
      " 3   id_1_last_lon              483 non-null    float64       \n",
      " 4   id_1_last_lat              483 non-null    float64       \n",
      " 5   dev_id_2                   483 non-null    object        \n",
      " 6   id_2_last_lon              483 non-null    float64       \n",
      " 7   id_2_last_lat              483 non-null    float64       \n",
      " 8   accelerometer_x_corr       435 non-null    float64       \n",
      " 9   accelerometer_x_diff_corr  435 non-null    float64       \n",
      " 10  accelerometer_y_corr       441 non-null    float64       \n",
      " 11  accelerometer_y_diff_corr  441 non-null    float64       \n",
      " 12  accelerometer_z_corr       440 non-null    float64       \n",
      " 13  accelerometer_z_diff_corr  440 non-null    float64       \n",
      " 14  x_metres_corr              431 non-null    float64       \n",
      " 15  x_diff_metres_corr         431 non-null    float64       \n",
      " 16  y_metres_corr              431 non-null    float64       \n",
      " 17  y_diff_metres_corr         431 non-null    float64       \n",
      " 18  height_corr                367 non-null    float64       \n",
      " 19  bearing_corr               417 non-null    float64       \n",
      " 20  speed_corr                 431 non-null    float64       \n",
      " 21  height_diff_corr           367 non-null    float64       \n",
      " 22  bearing_diff_corr          417 non-null    float64       \n",
      " 23  speed_diff_corr            431 non-null    float64       \n",
      " 24  speed_mean_abs_diff        446 non-null    float64       \n",
      " 25  speed_mean_diff            446 non-null    float64       \n",
      " 26  speed_std_diff             446 non-null    float64       \n",
      " 27  distance_mean              446 non-null    float64       \n",
      " 28  distance_std               446 non-null    float64       \n",
      "dtypes: datetime64[us](2), float64(25), object(2)\n",
      "memory usage: 109.6+ KB\n"
     ]
    }
   ],
   "execution_count": 17
  },
  {
   "cell_type": "code",
   "execution_count": 2,
   "id": "a5188ffd",
   "metadata": {},
   "outputs": [],
   "source": [
    "data = pd.read_parquet(\"../../data/02_interim/sample_06_12_all_features.parquet\")"
   ]
  },
  {
   "metadata": {
    "ExecuteTime": {
     "end_time": "2025-04-16T12:20:40.369176Z",
     "start_time": "2025-04-16T12:20:40.324187Z"
    }
   },
   "cell_type": "code",
   "source": "data = pd.read_parquet(\"../data/second_departure_parquet_feats/sample_06.09.2022_all_features.parquet\")",
   "id": "bc4bc35bdb3c69bf",
   "outputs": [],
   "execution_count": 18
  },
  {
   "cell_type": "code",
   "id": "26929157",
   "metadata": {
    "ExecuteTime": {
     "end_time": "2025-04-16T12:21:30.084218Z",
     "start_time": "2025-04-16T12:21:30.058076Z"
    }
   },
   "source": [
    "list_of_files = list()\n",
    "for (dirpath, dirnames, filenames) in os.walk(\"../data/second_departure_parquet_preprocessed/\"):\n",
    "    list_of_files += [os.path.join(dirpath, file) for file in filenames if \".parquet\" in file]"
   ],
   "outputs": [],
   "execution_count": 19
  },
  {
   "cell_type": "code",
   "id": "bf846e85",
   "metadata": {
    "ExecuteTime": {
     "end_time": "2025-04-16T12:21:33.450472Z",
     "start_time": "2025-04-16T12:21:33.434472Z"
    }
   },
   "source": [
    "list_of_files = [each for each in list_of_files if \"Данные\" in each]"
   ],
   "outputs": [],
   "execution_count": 20
  },
  {
   "metadata": {
    "ExecuteTime": {
     "end_time": "2025-04-16T13:13:34.902427Z",
     "start_time": "2025-04-16T13:13:34.886430Z"
    }
   },
   "cell_type": "code",
   "source": "list_of_files",
   "id": "519ec75c4619f82",
   "outputs": [
    {
     "data": {
      "text/plain": [
       "['../data/second_departure_parquet_preprocessed/Данные_за_06.09-12.09\\\\Тест_5hz_-2\\\\Тест_5hz_-_2_06.09.2022_2-е_устройство.parquet',\n",
       " '../data/second_departure_parquet_preprocessed/Данные_за_06.09-12.09\\\\Тест_5hz_-2\\\\Тест_5hz_-_2_07.09.2022_2-е_устройство.parquet',\n",
       " '../data/second_departure_parquet_preprocessed/Данные_за_06.09-12.09\\\\Тест_5hz_-2\\\\Тест_5hz_-_2_08.09.2022_2-е_устройство.parquet',\n",
       " '../data/second_departure_parquet_preprocessed/Данные_за_06.09-12.09\\\\Тест_5hz_-2\\\\Тест_5hz_-_2_09.09.2022_2-е_устройство.parquet',\n",
       " '../data/second_departure_parquet_preprocessed/Данные_за_06.09-12.09\\\\Тест_5hz_-2\\\\Тест_5_Hz_-2_06.09.2022.parquet',\n",
       " '../data/second_departure_parquet_preprocessed/Данные_за_06.09-12.09\\\\Тест_5hz_-2\\\\Тест_5_Hz_-2_07.09.2022.parquet',\n",
       " '../data/second_departure_parquet_preprocessed/Данные_за_06.09-12.09\\\\Тест_5hz_-2\\\\Тест_5_Hz_-2_08.09.2022.parquet',\n",
       " '../data/second_departure_parquet_preprocessed/Данные_за_06.09-12.09\\\\Тест_5hz_-2\\\\Тест_5_Hz_-2_09.09.2022.parquet',\n",
       " '../data/second_departure_parquet_preprocessed/Данные_за_06.09-12.09\\\\Тест_5hz_-2\\\\Тест_5_Hz_-2_12.09.2022.parquet',\n",
       " '../data/second_departure_parquet_preprocessed/Данные_за_06.09-12.09\\\\Тест_5hz_-_10\\\\Тест_5_Hz_-10_06.09.2022.parquet',\n",
       " '../data/second_departure_parquet_preprocessed/Данные_за_06.09-12.09\\\\Тест_5hz_-_10\\\\Тест_5_Hz_-10_07.09.2022.parquet',\n",
       " '../data/second_departure_parquet_preprocessed/Данные_за_06.09-12.09\\\\Тест_5hz_-_10\\\\Тест_5_Hz_-10_08.09.2022.parquet',\n",
       " '../data/second_departure_parquet_preprocessed/Данные_за_06.09-12.09\\\\Тест_5hz_-_10\\\\Тест_5_Hz_-10_09.09.2022.parquet',\n",
       " '../data/second_departure_parquet_preprocessed/Данные_за_06.09-12.09\\\\Тест_5hz_-_10\\\\Тест_5_Hz_-10_12.09.2022.parquet',\n",
       " '../data/second_departure_parquet_preprocessed/Данные_за_06.09-12.09\\\\Тест_5hz_-_11\\\\Тест_5_Hz_-11_06.09.2022.parquet',\n",
       " '../data/second_departure_parquet_preprocessed/Данные_за_06.09-12.09\\\\Тест_5hz_-_11\\\\Тест_5_Hz_-11_07.09.2022.parquet',\n",
       " '../data/second_departure_parquet_preprocessed/Данные_за_06.09-12.09\\\\Тест_5hz_-_11\\\\Тест_5_Hz_-11_08.09.2022.parquet',\n",
       " '../data/second_departure_parquet_preprocessed/Данные_за_06.09-12.09\\\\Тест_5hz_-_11\\\\Тест_5_Hz_-11_09.09.2022.parquet',\n",
       " '../data/second_departure_parquet_preprocessed/Данные_за_06.09-12.09\\\\Тест_5hz_-_11\\\\Тест_5_Hz_-11_12.09.2022.parquet',\n",
       " '../data/second_departure_parquet_preprocessed/Данные_за_06.09-12.09\\\\Тест_5hz_-_13\\\\Тест_5_Hz_-13_06.09.2022.parquet',\n",
       " '../data/second_departure_parquet_preprocessed/Данные_за_06.09-12.09\\\\Тест_5hz_-_13\\\\Тест_5_Hz_-13_07.09.2022.parquet',\n",
       " '../data/second_departure_parquet_preprocessed/Данные_за_06.09-12.09\\\\Тест_5hz_-_13\\\\Тест_5_Hz_-13_08.09.2022.parquet',\n",
       " '../data/second_departure_parquet_preprocessed/Данные_за_06.09-12.09\\\\Тест_5hz_-_13\\\\Тест_5_Hz_-13_09.09.2022.parquet',\n",
       " '../data/second_departure_parquet_preprocessed/Данные_за_06.09-12.09\\\\Тест_5hz_-_13\\\\Тест_5_Hz_-13_12.09.2022.parquet',\n",
       " '../data/second_departure_parquet_preprocessed/Данные_за_06.09-12.09\\\\Тест_5hz_-_15\\\\Тест_5_Hz_-15_07.09.2022.parquet',\n",
       " '../data/second_departure_parquet_preprocessed/Данные_за_06.09-12.09\\\\Тест_5hz_-_15\\\\Тест_5_Hz_-15_12.09.2022.parquet',\n",
       " '../data/second_departure_parquet_preprocessed/Данные_за_06.09-12.09\\\\Тест_5hz_-_16\\\\Тест_5_Hz_-16_06.09.2022.parquet',\n",
       " '../data/second_departure_parquet_preprocessed/Данные_за_06.09-12.09\\\\Тест_5hz_-_16\\\\Тест_5_Hz_-16_07.09.2022.parquet',\n",
       " '../data/second_departure_parquet_preprocessed/Данные_за_06.09-12.09\\\\Тест_5hz_-_16\\\\Тест_5_Hz_-16_08.09.2022.parquet',\n",
       " '../data/second_departure_parquet_preprocessed/Данные_за_06.09-12.09\\\\Тест_5hz_-_16\\\\Тест_5_Hz_-16_09.09.2022.parquet',\n",
       " '../data/second_departure_parquet_preprocessed/Данные_за_06.09-12.09\\\\Тест_5hz_-_17\\\\Тест_5_Hz_-17_06.09.2022.parquet',\n",
       " '../data/second_departure_parquet_preprocessed/Данные_за_06.09-12.09\\\\Тест_5hz_-_17\\\\Тест_5_Hz_-17_08.09.2022.parquet',\n",
       " '../data/second_departure_parquet_preprocessed/Данные_за_06.09-12.09\\\\Тест_5hz_-_17\\\\Тест_5_Hz_-17_12.09.2022.parquet',\n",
       " '../data/second_departure_parquet_preprocessed/Данные_за_06.09-12.09\\\\Тест_5hz_-_18\\\\Тест_5_Hz_-18_06.09.2022.parquet',\n",
       " '../data/second_departure_parquet_preprocessed/Данные_за_06.09-12.09\\\\Тест_5hz_-_18\\\\Тест_5_Hz_-18_07.09.2022.parquet',\n",
       " '../data/second_departure_parquet_preprocessed/Данные_за_06.09-12.09\\\\Тест_5hz_-_19\\\\Тест_5_Hz_-19_06.09.2022.parquet',\n",
       " '../data/second_departure_parquet_preprocessed/Данные_за_06.09-12.09\\\\Тест_5hz_-_19\\\\Тест_5_Hz_-19_08.09.2022.parquet',\n",
       " '../data/second_departure_parquet_preprocessed/Данные_за_06.09-12.09\\\\Тест_5hz_-_19\\\\Тест_5_Hz_-19_09.09.2022.parquet',\n",
       " '../data/second_departure_parquet_preprocessed/Данные_за_06.09-12.09\\\\Тест_5hz_-_19\\\\Тест_5_Hz_-19_12.09.2022.parquet',\n",
       " '../data/second_departure_parquet_preprocessed/Данные_за_06.09-12.09\\\\Тест_5hz_-_20\\\\Тест_5_Hz_-20_06.09.2022.parquet',\n",
       " '../data/second_departure_parquet_preprocessed/Данные_за_06.09-12.09\\\\Тест_5hz_-_20\\\\Тест_5_Hz_-20_07.09.2022.parquet',\n",
       " '../data/second_departure_parquet_preprocessed/Данные_за_06.09-12.09\\\\Тест_5hz_-_20\\\\Тест_5_Hz_-20_08.09.2022.parquet',\n",
       " '../data/second_departure_parquet_preprocessed/Данные_за_06.09-12.09\\\\Тест_5hz_-_20\\\\Тест_5_Hz_-20_12.09.2022.parquet',\n",
       " '../data/second_departure_parquet_preprocessed/Данные_за_06.09-12.09\\\\Тест_5hz_-_3\\\\Тест_5_Hz_-3_06.09.2022.parquet',\n",
       " '../data/second_departure_parquet_preprocessed/Данные_за_06.09-12.09\\\\Тест_5hz_-_3\\\\Тест_5_Hz_-3_09.09.2022.parquet',\n",
       " '../data/second_departure_parquet_preprocessed/Данные_за_06.09-12.09\\\\Тест_5hz_-_4\\\\Тест_5_Hz_-4_08.09.2022.parquet',\n",
       " '../data/second_departure_parquet_preprocessed/Данные_за_06.09-12.09\\\\Тест_5hz_-_4\\\\Тест_5_Hz_-4_09.09.2022.parquet',\n",
       " '../data/second_departure_parquet_preprocessed/Данные_за_06.09-12.09\\\\Тест_5hz_-_4\\\\Тест_5_Hz_-4_12.09.2022.parquet',\n",
       " '../data/second_departure_parquet_preprocessed/Данные_за_06.09-12.09\\\\Тест_5hz_-_5\\\\Тест_5hz_-_5_06.09.2022_2-е_устройство.parquet',\n",
       " '../data/second_departure_parquet_preprocessed/Данные_за_06.09-12.09\\\\Тест_5hz_-_5\\\\Тест_5hz_-_5_07.09.2022_2-е_устройство.parquet',\n",
       " '../data/second_departure_parquet_preprocessed/Данные_за_06.09-12.09\\\\Тест_5hz_-_5\\\\Тест_5hz_-_5_08.09.2022_2-е_устройство.parquet',\n",
       " '../data/second_departure_parquet_preprocessed/Данные_за_06.09-12.09\\\\Тест_5hz_-_5\\\\Тест_5hz_-_5_09.09.2022_2-е_устройство.parquet',\n",
       " '../data/second_departure_parquet_preprocessed/Данные_за_06.09-12.09\\\\Тест_5hz_-_5\\\\Тест_5hz_-_5_12.09.2022_2-е_устройство.parquet',\n",
       " '../data/second_departure_parquet_preprocessed/Данные_за_06.09-12.09\\\\Тест_5hz_-_5\\\\Тест_5_Hz_-5_06.09.2022.parquet',\n",
       " '../data/second_departure_parquet_preprocessed/Данные_за_06.09-12.09\\\\Тест_5hz_-_5\\\\Тест_5_Hz_-5_07.09.2022.parquet',\n",
       " '../data/second_departure_parquet_preprocessed/Данные_за_06.09-12.09\\\\Тест_5hz_-_5\\\\Тест_5_Hz_-5_08.09.2022.parquet',\n",
       " '../data/second_departure_parquet_preprocessed/Данные_за_06.09-12.09\\\\Тест_5hz_-_5\\\\Тест_5_Hz_-5_09.09.2022.parquet',\n",
       " '../data/second_departure_parquet_preprocessed/Данные_за_06.09-12.09\\\\Тест_5hz_-_5\\\\Тест_5_Hz_-5_12.09.2022.parquet',\n",
       " '../data/second_departure_parquet_preprocessed/Данные_за_06.09-12.09\\\\Тест_5hz_-_6\\\\Тест_5hz_-_6_06.09.2022_2-е_устройство.parquet',\n",
       " '../data/second_departure_parquet_preprocessed/Данные_за_06.09-12.09\\\\Тест_5hz_-_6\\\\Тест_5hz_-_6_07.09.2022_2-е_устройство.parquet',\n",
       " '../data/second_departure_parquet_preprocessed/Данные_за_06.09-12.09\\\\Тест_5hz_-_6\\\\Тест_5hz_-_6_09.09.2022_2-е_устройство.parquet',\n",
       " '../data/second_departure_parquet_preprocessed/Данные_за_06.09-12.09\\\\Тест_5hz_-_6\\\\Тест_5_Hz_-6_06.09.2022.parquet',\n",
       " '../data/second_departure_parquet_preprocessed/Данные_за_06.09-12.09\\\\Тест_5hz_-_6\\\\Тест_5_Hz_-6_07.09.2022.parquet',\n",
       " '../data/second_departure_parquet_preprocessed/Данные_за_06.09-12.09\\\\Тест_5hz_-_6\\\\Тест_5_Hz_-6_08.09.2022.parquet',\n",
       " '../data/second_departure_parquet_preprocessed/Данные_за_06.09-12.09\\\\Тест_5hz_-_6\\\\Тест_5_Hz_-6_12.09.2022.parquet',\n",
       " '../data/second_departure_parquet_preprocessed/Данные_за_06.09-12.09\\\\Тест_5hz_-_9\\\\Тест_5_Hz_-9_06.09.2022.parquet',\n",
       " '../data/second_departure_parquet_preprocessed/Данные_за_06.09-12.09\\\\Тест_5hz_-_9\\\\Тест_5_Hz_-9_07.09.2022.parquet',\n",
       " '../data/second_departure_parquet_preprocessed/Данные_за_06.09-12.09\\\\Тест_5hz_-_9\\\\Тест_5_Hz_-9_08.09.2022.parquet',\n",
       " '../data/second_departure_parquet_preprocessed/Данные_за_06.09-12.09\\\\Тест_5hz_-_9\\\\Тест_5_Hz_-9_09.09.2022.parquet',\n",
       " '../data/second_departure_parquet_preprocessed/Данные_за_06.09-12.09\\\\Тест_5hz_-_9\\\\Тест_5_Hz_-9_12.09.2022.parquet']"
      ]
     },
     "execution_count": 56,
     "metadata": {},
     "output_type": "execute_result"
    }
   ],
   "execution_count": 56
  },
  {
   "cell_type": "code",
   "id": "4def2336",
   "metadata": {
    "ExecuteTime": {
     "end_time": "2025-04-16T12:21:37.492283Z",
     "start_time": "2025-04-16T12:21:37.475617Z"
    }
   },
   "source": [
    "second_device = [each for each in list_of_files if \"устройство\" in each]"
   ],
   "outputs": [],
   "execution_count": 21
  },
  {
   "metadata": {
    "ExecuteTime": {
     "end_time": "2025-04-16T13:14:03.155744Z",
     "start_time": "2025-04-16T13:14:03.145747Z"
    }
   },
   "cell_type": "code",
   "source": "second_device",
   "id": "aa23505c7395db25",
   "outputs": [
    {
     "data": {
      "text/plain": [
       "['../data/second_departure_parquet_preprocessed/Данные_за_06.09-12.09\\\\Тест_5hz_-2\\\\Тест_5hz_-_2_06.09.2022_2-е_устройство.parquet',\n",
       " '../data/second_departure_parquet_preprocessed/Данные_за_06.09-12.09\\\\Тест_5hz_-2\\\\Тест_5hz_-_2_07.09.2022_2-е_устройство.parquet',\n",
       " '../data/second_departure_parquet_preprocessed/Данные_за_06.09-12.09\\\\Тест_5hz_-2\\\\Тест_5hz_-_2_08.09.2022_2-е_устройство.parquet',\n",
       " '../data/second_departure_parquet_preprocessed/Данные_за_06.09-12.09\\\\Тест_5hz_-2\\\\Тест_5hz_-_2_09.09.2022_2-е_устройство.parquet',\n",
       " '../data/second_departure_parquet_preprocessed/Данные_за_06.09-12.09\\\\Тест_5hz_-_5\\\\Тест_5hz_-_5_06.09.2022_2-е_устройство.parquet',\n",
       " '../data/second_departure_parquet_preprocessed/Данные_за_06.09-12.09\\\\Тест_5hz_-_5\\\\Тест_5hz_-_5_07.09.2022_2-е_устройство.parquet',\n",
       " '../data/second_departure_parquet_preprocessed/Данные_за_06.09-12.09\\\\Тест_5hz_-_5\\\\Тест_5hz_-_5_08.09.2022_2-е_устройство.parquet',\n",
       " '../data/second_departure_parquet_preprocessed/Данные_за_06.09-12.09\\\\Тест_5hz_-_5\\\\Тест_5hz_-_5_09.09.2022_2-е_устройство.parquet',\n",
       " '../data/second_departure_parquet_preprocessed/Данные_за_06.09-12.09\\\\Тест_5hz_-_5\\\\Тест_5hz_-_5_12.09.2022_2-е_устройство.parquet',\n",
       " '../data/second_departure_parquet_preprocessed/Данные_за_06.09-12.09\\\\Тест_5hz_-_6\\\\Тест_5hz_-_6_06.09.2022_2-е_устройство.parquet',\n",
       " '../data/second_departure_parquet_preprocessed/Данные_за_06.09-12.09\\\\Тест_5hz_-_6\\\\Тест_5hz_-_6_07.09.2022_2-е_устройство.parquet',\n",
       " '../data/second_departure_parquet_preprocessed/Данные_за_06.09-12.09\\\\Тест_5hz_-_6\\\\Тест_5hz_-_6_09.09.2022_2-е_устройство.parquet']"
      ]
     },
     "execution_count": 57,
     "metadata": {},
     "output_type": "execute_result"
    }
   ],
   "execution_count": 57
  },
  {
   "cell_type": "code",
   "id": "c5c526a3",
   "metadata": {
    "ExecuteTime": {
     "end_time": "2025-04-16T12:22:13.107782Z",
     "start_time": "2025-04-16T12:22:13.099727Z"
    }
   },
   "source": [
    "def get_date_from_filename(filename):\n",
    "    filename_list = filename.replace('.parquet', '').split(\"_\")\n",
    "    for each in filename_list:\n",
    "        found_date = re.search(\"[0-9][0-9](.)[0-9][0-9](.)20[0-9][0-9]$\", each)\n",
    "        if found_date is not None:\n",
    "            return found_date.group()"
   ],
   "outputs": [],
   "execution_count": 24
  },
  {
   "cell_type": "code",
   "id": "d2d2217f",
   "metadata": {
    "ExecuteTime": {
     "end_time": "2025-04-16T13:24:26.684487Z",
     "start_time": "2025-04-16T13:24:26.666491Z"
    }
   },
   "source": [
    "def find_original_file(path, date):\n",
    "    all_files = os.listdir(path)\n",
    "    all_files = [each for each in all_files if date in each]\n",
    "    all_files = [each for each in all_files if \"устройство\" not in each]\n",
    "    all_files.reverse()\n",
    "    return all_files"
   ],
   "outputs": [],
   "execution_count": 64
  },
  {
   "cell_type": "code",
   "id": "1ac3aee1",
   "metadata": {
    "ExecuteTime": {
     "end_time": "2025-04-16T13:24:29.994368Z",
     "start_time": "2025-04-16T13:24:29.981370Z"
    }
   },
   "source": [
    "import os\n",
    "\n",
    "\n",
    "files = []\n",
    "for path in second_device:\n",
    "    folder = path.rsplit(\"\\\\\", 1)[0]  # тут мб поменяете на обратный слеш \\ для винды\n",
    "    date = get_date_from_filename(path)\n",
    "    original_filepath = find_original_file(folder, date)\n",
    "    if len(original_filepath) < 1:\n",
    "        original_filepath = np.nan\n",
    "    else:\n",
    "        original_filepath = os.path.join(folder, original_filepath[0])\n",
    "    files.append((path, original_filepath))"
   ],
   "outputs": [],
   "execution_count": 65
  },
  {
   "cell_type": "code",
   "id": "07f0cdad",
   "metadata": {
    "ExecuteTime": {
     "end_time": "2025-04-16T13:24:46.843822Z",
     "start_time": "2025-04-16T13:24:41.808831Z"
    }
   },
   "source": [
    "targets_df = []\n",
    "for second_filepath, initial_filepath in files:\n",
    "    if len(initial_filepath) != 0:\n",
    "        second_df = pd.read_parquet(second_filepath)\n",
    "        initial_df = pd.read_parquet(initial_filepath)\n",
    "        date = initial_df[\"Время отправки гео\"].dt.to_period(\"D\").dt.to_timestamp()[0]\n",
    "        second_name = second_df[\"Наименование (device ID)\"][0]\n",
    "        initial_name = initial_df[\"Наименование (device ID)\"][0]\n",
    "        tmp_df = pd.DataFrame([[date, second_name, initial_name]], columns=[\"date\", \"sec_name\", \"init_name\"])\n",
    "        targets_df.append(tmp_df)"
   ],
   "outputs": [],
   "execution_count": 66
  },
  {
   "cell_type": "code",
   "id": "1e8efffa",
   "metadata": {
    "ExecuteTime": {
     "end_time": "2025-04-16T13:24:49.898184Z",
     "start_time": "2025-04-16T13:24:49.891185Z"
    }
   },
   "source": [
    "targets_df = pd.concat(targets_df, ignore_index=True)"
   ],
   "outputs": [],
   "execution_count": 67
  },
  {
   "metadata": {
    "ExecuteTime": {
     "end_time": "2025-04-16T13:24:52.427573Z",
     "start_time": "2025-04-16T13:24:52.392572Z"
    }
   },
   "cell_type": "code",
   "source": "targets_df",
   "id": "37c2f56fb81d631e",
   "outputs": [
    {
     "data": {
      "text/plain": [
       "         date                              sec_name  \\\n",
       "0  2022-09-06  8A8813E7-6012-4600-835D-1C286EADE837   \n",
       "1  2022-09-07  8A8813E7-6012-4600-835D-1C286EADE837   \n",
       "2  2022-09-08  8A8813E7-6012-4600-835D-1C286EADE837   \n",
       "3  2022-09-09  8A8813E7-6012-4600-835D-1C286EADE837   \n",
       "4  2022-09-06  B94A4D90-F127-487B-9373-5FEE1A34A04F   \n",
       "5  2022-09-07  B94A4D90-F127-487B-9373-5FEE1A34A04F   \n",
       "6  2022-09-08  B94A4D90-F127-487B-9373-5FEE1A34A04F   \n",
       "7  2022-09-09  B94A4D90-F127-487B-9373-5FEE1A34A04F   \n",
       "8  2022-09-12  B94A4D90-F127-487B-9373-5FEE1A34A04F   \n",
       "9  2022-09-06  294A06F3-F7FE-4AAC-8099-049733BA1315   \n",
       "10 2022-09-07  294A06F3-F7FE-4AAC-8099-049733BA1315   \n",
       "11 2022-09-09  294A06F3-F7FE-4AAC-8099-049733BA1315   \n",
       "\n",
       "                               init_name  \n",
       "0   40808752-2CEE-454B-B6E6-95EC9615999D  \n",
       "1   40808752-2CEE-454B-B6E6-95EC9615999D  \n",
       "2   40808752-2CEE-454B-B6E6-95EC9615999D  \n",
       "3   40808752-2CEE-454B-B6E6-95EC9615999D  \n",
       "4   38702660-F4AA-472F-8FAB-B3B47B5889AC  \n",
       "5   38702660-F4AA-472F-8FAB-B3B47B5889AC  \n",
       "6   38702660-F4AA-472F-8FAB-B3B47B5889AC  \n",
       "7   38702660-F4AA-472F-8FAB-B3B47B5889AC  \n",
       "8   38702660-F4AA-472F-8FAB-B3B47B5889AC  \n",
       "9   0699B415-A73E-4CFA-B910-079AA0408B1B  \n",
       "10  0699B415-A73E-4CFA-B910-079AA0408B1B  \n",
       "11  294A06F3-F7FE-4AAC-8099-049733BA1315  "
      ],
      "text/html": [
       "<div>\n",
       "<style scoped>\n",
       "    .dataframe tbody tr th:only-of-type {\n",
       "        vertical-align: middle;\n",
       "    }\n",
       "\n",
       "    .dataframe tbody tr th {\n",
       "        vertical-align: top;\n",
       "    }\n",
       "\n",
       "    .dataframe thead th {\n",
       "        text-align: right;\n",
       "    }\n",
       "</style>\n",
       "<table border=\"1\" class=\"dataframe\">\n",
       "  <thead>\n",
       "    <tr style=\"text-align: right;\">\n",
       "      <th></th>\n",
       "      <th>date</th>\n",
       "      <th>sec_name</th>\n",
       "      <th>init_name</th>\n",
       "    </tr>\n",
       "  </thead>\n",
       "  <tbody>\n",
       "    <tr>\n",
       "      <th>0</th>\n",
       "      <td>2022-09-06</td>\n",
       "      <td>8A8813E7-6012-4600-835D-1C286EADE837</td>\n",
       "      <td>40808752-2CEE-454B-B6E6-95EC9615999D</td>\n",
       "    </tr>\n",
       "    <tr>\n",
       "      <th>1</th>\n",
       "      <td>2022-09-07</td>\n",
       "      <td>8A8813E7-6012-4600-835D-1C286EADE837</td>\n",
       "      <td>40808752-2CEE-454B-B6E6-95EC9615999D</td>\n",
       "    </tr>\n",
       "    <tr>\n",
       "      <th>2</th>\n",
       "      <td>2022-09-08</td>\n",
       "      <td>8A8813E7-6012-4600-835D-1C286EADE837</td>\n",
       "      <td>40808752-2CEE-454B-B6E6-95EC9615999D</td>\n",
       "    </tr>\n",
       "    <tr>\n",
       "      <th>3</th>\n",
       "      <td>2022-09-09</td>\n",
       "      <td>8A8813E7-6012-4600-835D-1C286EADE837</td>\n",
       "      <td>40808752-2CEE-454B-B6E6-95EC9615999D</td>\n",
       "    </tr>\n",
       "    <tr>\n",
       "      <th>4</th>\n",
       "      <td>2022-09-06</td>\n",
       "      <td>B94A4D90-F127-487B-9373-5FEE1A34A04F</td>\n",
       "      <td>38702660-F4AA-472F-8FAB-B3B47B5889AC</td>\n",
       "    </tr>\n",
       "    <tr>\n",
       "      <th>5</th>\n",
       "      <td>2022-09-07</td>\n",
       "      <td>B94A4D90-F127-487B-9373-5FEE1A34A04F</td>\n",
       "      <td>38702660-F4AA-472F-8FAB-B3B47B5889AC</td>\n",
       "    </tr>\n",
       "    <tr>\n",
       "      <th>6</th>\n",
       "      <td>2022-09-08</td>\n",
       "      <td>B94A4D90-F127-487B-9373-5FEE1A34A04F</td>\n",
       "      <td>38702660-F4AA-472F-8FAB-B3B47B5889AC</td>\n",
       "    </tr>\n",
       "    <tr>\n",
       "      <th>7</th>\n",
       "      <td>2022-09-09</td>\n",
       "      <td>B94A4D90-F127-487B-9373-5FEE1A34A04F</td>\n",
       "      <td>38702660-F4AA-472F-8FAB-B3B47B5889AC</td>\n",
       "    </tr>\n",
       "    <tr>\n",
       "      <th>8</th>\n",
       "      <td>2022-09-12</td>\n",
       "      <td>B94A4D90-F127-487B-9373-5FEE1A34A04F</td>\n",
       "      <td>38702660-F4AA-472F-8FAB-B3B47B5889AC</td>\n",
       "    </tr>\n",
       "    <tr>\n",
       "      <th>9</th>\n",
       "      <td>2022-09-06</td>\n",
       "      <td>294A06F3-F7FE-4AAC-8099-049733BA1315</td>\n",
       "      <td>0699B415-A73E-4CFA-B910-079AA0408B1B</td>\n",
       "    </tr>\n",
       "    <tr>\n",
       "      <th>10</th>\n",
       "      <td>2022-09-07</td>\n",
       "      <td>294A06F3-F7FE-4AAC-8099-049733BA1315</td>\n",
       "      <td>0699B415-A73E-4CFA-B910-079AA0408B1B</td>\n",
       "    </tr>\n",
       "    <tr>\n",
       "      <th>11</th>\n",
       "      <td>2022-09-09</td>\n",
       "      <td>294A06F3-F7FE-4AAC-8099-049733BA1315</td>\n",
       "      <td>294A06F3-F7FE-4AAC-8099-049733BA1315</td>\n",
       "    </tr>\n",
       "  </tbody>\n",
       "</table>\n",
       "</div>"
      ]
     },
     "execution_count": 68,
     "metadata": {},
     "output_type": "execute_result"
    }
   ],
   "execution_count": 68
  },
  {
   "metadata": {
    "ExecuteTime": {
     "end_time": "2025-04-16T13:09:47.890386Z",
     "start_time": "2025-04-16T13:09:47.816391Z"
    }
   },
   "cell_type": "code",
   "source": [
    "list_of_files_test = list()\n",
    "list_of_feats_test = list()\n",
    "for (dirpath, dirnames, filenames) in os.walk(\"../data/second_departure_parquet_feats\"):\n",
    "    list_of_files_test += [os.path.join(dirpath, file) for file in filenames if \".parquet\" in file]\n",
    "for filename in list_of_files_test:\n",
    "    df = pd.read_parquet(filename)\n",
    "    list_of_feats_test += [df]\n",
    "data = pd.concat(list_of_feats_test, ignore_index=True)"
   ],
   "id": "d66db1a0d4a535c8",
   "outputs": [],
   "execution_count": 52
  },
  {
   "cell_type": "code",
   "id": "5e7af957",
   "metadata": {
    "ExecuteTime": {
     "end_time": "2025-04-16T13:25:33.456979Z",
     "start_time": "2025-04-16T13:25:33.371983Z"
    }
   },
   "source": [
    "data_final = data.copy(deep=True)\n",
    "for _, row in targets_df.iterrows():\n",
    "    date_condition = data[\"date\"] == row[\"date\"]\n",
    "    comparison_condition_1 = (data[\"dev_id_1\"] == row[\"sec_name\"]) & (data[\"dev_id_2\"] == row[\"init_name\"])\n",
    "    comparison_condition_2 = (data[\"dev_id_2\"] == row[\"sec_name\"]) & (data[\"dev_id_1\"] == row[\"init_name\"])\n",
    "    comparison_condition = comparison_condition_1 | comparison_condition_2\n",
    "    condition = date_condition & comparison_condition\n",
    "    data_final.loc[condition, \"target\"] = 1"
   ],
   "outputs": [],
   "execution_count": 69
  },
  {
   "metadata": {
    "ExecuteTime": {
     "end_time": "2025-04-16T13:25:37.492397Z",
     "start_time": "2025-04-16T13:25:37.411395Z"
    }
   },
   "cell_type": "code",
   "source": "data_final",
   "id": "408d890f145db4d1",
   "outputs": [
    {
     "data": {
      "text/plain": [
       "           date            datetime                              dev_id_1  \\\n",
       "0    2022-09-06 2022-09-06 07:38:07  1CB8D3E9-04BE-465D-B334-0E1F7F026A98   \n",
       "1    2022-09-06 2022-09-06 07:38:07  1CB8D3E9-04BE-465D-B334-0E1F7F026A98   \n",
       "2    2022-09-06 2022-09-06 07:38:07  3744EED3-A474-458B-AA4F-5357B8EE7FBF   \n",
       "3    2022-09-06 2022-09-06 07:48:07  1CB8D3E9-04BE-465D-B334-0E1F7F026A98   \n",
       "4    2022-09-06 2022-09-06 08:13:07  40808752-2CEE-454B-B6E6-95EC9615999D   \n",
       "...         ...                 ...                                   ...   \n",
       "6547 2022-09-12 2022-09-12 17:21:39  2D7135B3-1208-45BA-9B5A-0FC27C13B9B0   \n",
       "6548 2022-09-12 2022-09-12 17:21:39  0699B415-A73E-4CFA-B910-079AA0408B1B   \n",
       "6549 2022-09-12 2022-09-12 17:26:39  329C29F6-A464-4174-867E-50D7D163206C   \n",
       "6550 2022-09-12 2022-09-12 17:26:39  0699B415-A73E-4CFA-B910-079AA0408B1B   \n",
       "6551 2022-09-12 2022-09-12 17:31:39  329C29F6-A464-4174-867E-50D7D163206C   \n",
       "\n",
       "      id_1_last_lon  id_1_last_lat                              dev_id_2  \\\n",
       "0         37.602788      55.893562  3744EED3-A474-458B-AA4F-5357B8EE7FBF   \n",
       "1         37.602788      55.893562  393B6105-4D72-4E11-BEA1-394CD0AFC499   \n",
       "2         37.606185      55.894089  393B6105-4D72-4E11-BEA1-394CD0AFC499   \n",
       "3         37.602780      55.893606  7F921169-FB12-471F-B244-62840E543DD7   \n",
       "4         37.603324      55.892073  8A8813E7-6012-4600-835D-1C286EADE837   \n",
       "...             ...            ...                                   ...   \n",
       "6547      37.611783      55.892302  329C29F6-A464-4174-867E-50D7D163206C   \n",
       "6548      37.611192      55.887478  40808752-2CEE-454B-B6E6-95EC9615999D   \n",
       "6549      37.610725      55.890972  55464DF0-C385-4349-801B-C8E1CB861CB5   \n",
       "6550      37.611192      55.887478  40808752-2CEE-454B-B6E6-95EC9615999D   \n",
       "6551      37.610599      55.891109  55464DF0-C385-4349-801B-C8E1CB861CB5   \n",
       "\n",
       "      id_2_last_lon  id_2_last_lat  accelerometer_x_corr  \\\n",
       "0         37.606185      55.894089              0.000661   \n",
       "1         37.604149      55.895599              0.029039   \n",
       "2         37.604149      55.895599              0.002194   \n",
       "3         37.603513      55.892299              0.024953   \n",
       "4         37.602763      55.892618              0.203208   \n",
       "...             ...            ...                   ...   \n",
       "6547      37.610464      55.891030                   NaN   \n",
       "6548      37.610962      55.887849              0.793525   \n",
       "6549      37.610891      55.890427              0.025361   \n",
       "6550      37.611027      55.887835                   NaN   \n",
       "6551      37.610878      55.890400              0.073817   \n",
       "\n",
       "      accelerometer_x_diff_corr  ...  speed_corr  height_diff_corr  \\\n",
       "0                      0.035777  ...    0.082422      1.421230e-02   \n",
       "1                      0.067258  ...    0.052211      1.114944e-02   \n",
       "2                      0.077567  ...    0.012220      1.329316e-03   \n",
       "3                      0.069213  ...    0.009875      1.156702e-02   \n",
       "4                      0.009416  ...    0.112317      1.025583e-02   \n",
       "...                         ...  ...         ...               ...   \n",
       "6547                        NaN  ...         NaN               NaN   \n",
       "6548                   0.601976  ...    0.665669               NaN   \n",
       "6549                   0.161036  ...    0.070157      1.767547e-18   \n",
       "6550                        NaN  ...         NaN               NaN   \n",
       "6551                   0.082404  ...    0.058963      1.123006e-18   \n",
       "\n",
       "      bearing_diff_corr  speed_diff_corr  speed_mean_abs_diff  \\\n",
       "0              0.098073         0.029655             3.504287   \n",
       "1              0.152548         0.059629             2.732987   \n",
       "2              0.043845         0.007309             4.445489   \n",
       "3              0.269572         0.014251             3.261829   \n",
       "4              0.058706         0.119389             3.765288   \n",
       "...                 ...              ...                  ...   \n",
       "6547                NaN              NaN                  NaN   \n",
       "6548                NaN         0.619808             3.918556   \n",
       "6549           0.000059         0.050241             3.430670   \n",
       "6550                NaN              NaN                  NaN   \n",
       "6551           0.010025         0.001586             2.252057   \n",
       "\n",
       "      speed_mean_diff  speed_std_diff  distance_mean  distance_std  target  \n",
       "0           -1.845214        9.843380     165.717646    141.099882     NaN  \n",
       "1           -1.196340        6.964679     133.042537     72.842306     NaN  \n",
       "2            0.413304       11.253297      88.975281     98.468099     NaN  \n",
       "3           -0.938763        8.793781     118.765372     16.460189     NaN  \n",
       "4            0.098938       10.963710      38.229802     39.078068     1.0  \n",
       "...               ...             ...            ...           ...     ...  \n",
       "6547              NaN             NaN            NaN           NaN     NaN  \n",
       "6548         2.154666        7.304032      98.934811     30.686367     NaN  \n",
       "6549        -1.592060        9.831637      65.952005      7.381049     NaN  \n",
       "6550              NaN             NaN            NaN           NaN     NaN  \n",
       "6551        -1.625043        7.767349      68.507405      6.410588     NaN  \n",
       "\n",
       "[6552 rows x 30 columns]"
      ],
      "text/html": [
       "<div>\n",
       "<style scoped>\n",
       "    .dataframe tbody tr th:only-of-type {\n",
       "        vertical-align: middle;\n",
       "    }\n",
       "\n",
       "    .dataframe tbody tr th {\n",
       "        vertical-align: top;\n",
       "    }\n",
       "\n",
       "    .dataframe thead th {\n",
       "        text-align: right;\n",
       "    }\n",
       "</style>\n",
       "<table border=\"1\" class=\"dataframe\">\n",
       "  <thead>\n",
       "    <tr style=\"text-align: right;\">\n",
       "      <th></th>\n",
       "      <th>date</th>\n",
       "      <th>datetime</th>\n",
       "      <th>dev_id_1</th>\n",
       "      <th>id_1_last_lon</th>\n",
       "      <th>id_1_last_lat</th>\n",
       "      <th>dev_id_2</th>\n",
       "      <th>id_2_last_lon</th>\n",
       "      <th>id_2_last_lat</th>\n",
       "      <th>accelerometer_x_corr</th>\n",
       "      <th>accelerometer_x_diff_corr</th>\n",
       "      <th>...</th>\n",
       "      <th>speed_corr</th>\n",
       "      <th>height_diff_corr</th>\n",
       "      <th>bearing_diff_corr</th>\n",
       "      <th>speed_diff_corr</th>\n",
       "      <th>speed_mean_abs_diff</th>\n",
       "      <th>speed_mean_diff</th>\n",
       "      <th>speed_std_diff</th>\n",
       "      <th>distance_mean</th>\n",
       "      <th>distance_std</th>\n",
       "      <th>target</th>\n",
       "    </tr>\n",
       "  </thead>\n",
       "  <tbody>\n",
       "    <tr>\n",
       "      <th>0</th>\n",
       "      <td>2022-09-06</td>\n",
       "      <td>2022-09-06 07:38:07</td>\n",
       "      <td>1CB8D3E9-04BE-465D-B334-0E1F7F026A98</td>\n",
       "      <td>37.602788</td>\n",
       "      <td>55.893562</td>\n",
       "      <td>3744EED3-A474-458B-AA4F-5357B8EE7FBF</td>\n",
       "      <td>37.606185</td>\n",
       "      <td>55.894089</td>\n",
       "      <td>0.000661</td>\n",
       "      <td>0.035777</td>\n",
       "      <td>...</td>\n",
       "      <td>0.082422</td>\n",
       "      <td>1.421230e-02</td>\n",
       "      <td>0.098073</td>\n",
       "      <td>0.029655</td>\n",
       "      <td>3.504287</td>\n",
       "      <td>-1.845214</td>\n",
       "      <td>9.843380</td>\n",
       "      <td>165.717646</td>\n",
       "      <td>141.099882</td>\n",
       "      <td>NaN</td>\n",
       "    </tr>\n",
       "    <tr>\n",
       "      <th>1</th>\n",
       "      <td>2022-09-06</td>\n",
       "      <td>2022-09-06 07:38:07</td>\n",
       "      <td>1CB8D3E9-04BE-465D-B334-0E1F7F026A98</td>\n",
       "      <td>37.602788</td>\n",
       "      <td>55.893562</td>\n",
       "      <td>393B6105-4D72-4E11-BEA1-394CD0AFC499</td>\n",
       "      <td>37.604149</td>\n",
       "      <td>55.895599</td>\n",
       "      <td>0.029039</td>\n",
       "      <td>0.067258</td>\n",
       "      <td>...</td>\n",
       "      <td>0.052211</td>\n",
       "      <td>1.114944e-02</td>\n",
       "      <td>0.152548</td>\n",
       "      <td>0.059629</td>\n",
       "      <td>2.732987</td>\n",
       "      <td>-1.196340</td>\n",
       "      <td>6.964679</td>\n",
       "      <td>133.042537</td>\n",
       "      <td>72.842306</td>\n",
       "      <td>NaN</td>\n",
       "    </tr>\n",
       "    <tr>\n",
       "      <th>2</th>\n",
       "      <td>2022-09-06</td>\n",
       "      <td>2022-09-06 07:38:07</td>\n",
       "      <td>3744EED3-A474-458B-AA4F-5357B8EE7FBF</td>\n",
       "      <td>37.606185</td>\n",
       "      <td>55.894089</td>\n",
       "      <td>393B6105-4D72-4E11-BEA1-394CD0AFC499</td>\n",
       "      <td>37.604149</td>\n",
       "      <td>55.895599</td>\n",
       "      <td>0.002194</td>\n",
       "      <td>0.077567</td>\n",
       "      <td>...</td>\n",
       "      <td>0.012220</td>\n",
       "      <td>1.329316e-03</td>\n",
       "      <td>0.043845</td>\n",
       "      <td>0.007309</td>\n",
       "      <td>4.445489</td>\n",
       "      <td>0.413304</td>\n",
       "      <td>11.253297</td>\n",
       "      <td>88.975281</td>\n",
       "      <td>98.468099</td>\n",
       "      <td>NaN</td>\n",
       "    </tr>\n",
       "    <tr>\n",
       "      <th>3</th>\n",
       "      <td>2022-09-06</td>\n",
       "      <td>2022-09-06 07:48:07</td>\n",
       "      <td>1CB8D3E9-04BE-465D-B334-0E1F7F026A98</td>\n",
       "      <td>37.602780</td>\n",
       "      <td>55.893606</td>\n",
       "      <td>7F921169-FB12-471F-B244-62840E543DD7</td>\n",
       "      <td>37.603513</td>\n",
       "      <td>55.892299</td>\n",
       "      <td>0.024953</td>\n",
       "      <td>0.069213</td>\n",
       "      <td>...</td>\n",
       "      <td>0.009875</td>\n",
       "      <td>1.156702e-02</td>\n",
       "      <td>0.269572</td>\n",
       "      <td>0.014251</td>\n",
       "      <td>3.261829</td>\n",
       "      <td>-0.938763</td>\n",
       "      <td>8.793781</td>\n",
       "      <td>118.765372</td>\n",
       "      <td>16.460189</td>\n",
       "      <td>NaN</td>\n",
       "    </tr>\n",
       "    <tr>\n",
       "      <th>4</th>\n",
       "      <td>2022-09-06</td>\n",
       "      <td>2022-09-06 08:13:07</td>\n",
       "      <td>40808752-2CEE-454B-B6E6-95EC9615999D</td>\n",
       "      <td>37.603324</td>\n",
       "      <td>55.892073</td>\n",
       "      <td>8A8813E7-6012-4600-835D-1C286EADE837</td>\n",
       "      <td>37.602763</td>\n",
       "      <td>55.892618</td>\n",
       "      <td>0.203208</td>\n",
       "      <td>0.009416</td>\n",
       "      <td>...</td>\n",
       "      <td>0.112317</td>\n",
       "      <td>1.025583e-02</td>\n",
       "      <td>0.058706</td>\n",
       "      <td>0.119389</td>\n",
       "      <td>3.765288</td>\n",
       "      <td>0.098938</td>\n",
       "      <td>10.963710</td>\n",
       "      <td>38.229802</td>\n",
       "      <td>39.078068</td>\n",
       "      <td>1.0</td>\n",
       "    </tr>\n",
       "    <tr>\n",
       "      <th>...</th>\n",
       "      <td>...</td>\n",
       "      <td>...</td>\n",
       "      <td>...</td>\n",
       "      <td>...</td>\n",
       "      <td>...</td>\n",
       "      <td>...</td>\n",
       "      <td>...</td>\n",
       "      <td>...</td>\n",
       "      <td>...</td>\n",
       "      <td>...</td>\n",
       "      <td>...</td>\n",
       "      <td>...</td>\n",
       "      <td>...</td>\n",
       "      <td>...</td>\n",
       "      <td>...</td>\n",
       "      <td>...</td>\n",
       "      <td>...</td>\n",
       "      <td>...</td>\n",
       "      <td>...</td>\n",
       "      <td>...</td>\n",
       "      <td>...</td>\n",
       "    </tr>\n",
       "    <tr>\n",
       "      <th>6547</th>\n",
       "      <td>2022-09-12</td>\n",
       "      <td>2022-09-12 17:21:39</td>\n",
       "      <td>2D7135B3-1208-45BA-9B5A-0FC27C13B9B0</td>\n",
       "      <td>37.611783</td>\n",
       "      <td>55.892302</td>\n",
       "      <td>329C29F6-A464-4174-867E-50D7D163206C</td>\n",
       "      <td>37.610464</td>\n",
       "      <td>55.891030</td>\n",
       "      <td>NaN</td>\n",
       "      <td>NaN</td>\n",
       "      <td>...</td>\n",
       "      <td>NaN</td>\n",
       "      <td>NaN</td>\n",
       "      <td>NaN</td>\n",
       "      <td>NaN</td>\n",
       "      <td>NaN</td>\n",
       "      <td>NaN</td>\n",
       "      <td>NaN</td>\n",
       "      <td>NaN</td>\n",
       "      <td>NaN</td>\n",
       "      <td>NaN</td>\n",
       "    </tr>\n",
       "    <tr>\n",
       "      <th>6548</th>\n",
       "      <td>2022-09-12</td>\n",
       "      <td>2022-09-12 17:21:39</td>\n",
       "      <td>0699B415-A73E-4CFA-B910-079AA0408B1B</td>\n",
       "      <td>37.611192</td>\n",
       "      <td>55.887478</td>\n",
       "      <td>40808752-2CEE-454B-B6E6-95EC9615999D</td>\n",
       "      <td>37.610962</td>\n",
       "      <td>55.887849</td>\n",
       "      <td>0.793525</td>\n",
       "      <td>0.601976</td>\n",
       "      <td>...</td>\n",
       "      <td>0.665669</td>\n",
       "      <td>NaN</td>\n",
       "      <td>NaN</td>\n",
       "      <td>0.619808</td>\n",
       "      <td>3.918556</td>\n",
       "      <td>2.154666</td>\n",
       "      <td>7.304032</td>\n",
       "      <td>98.934811</td>\n",
       "      <td>30.686367</td>\n",
       "      <td>NaN</td>\n",
       "    </tr>\n",
       "    <tr>\n",
       "      <th>6549</th>\n",
       "      <td>2022-09-12</td>\n",
       "      <td>2022-09-12 17:26:39</td>\n",
       "      <td>329C29F6-A464-4174-867E-50D7D163206C</td>\n",
       "      <td>37.610725</td>\n",
       "      <td>55.890972</td>\n",
       "      <td>55464DF0-C385-4349-801B-C8E1CB861CB5</td>\n",
       "      <td>37.610891</td>\n",
       "      <td>55.890427</td>\n",
       "      <td>0.025361</td>\n",
       "      <td>0.161036</td>\n",
       "      <td>...</td>\n",
       "      <td>0.070157</td>\n",
       "      <td>1.767547e-18</td>\n",
       "      <td>0.000059</td>\n",
       "      <td>0.050241</td>\n",
       "      <td>3.430670</td>\n",
       "      <td>-1.592060</td>\n",
       "      <td>9.831637</td>\n",
       "      <td>65.952005</td>\n",
       "      <td>7.381049</td>\n",
       "      <td>NaN</td>\n",
       "    </tr>\n",
       "    <tr>\n",
       "      <th>6550</th>\n",
       "      <td>2022-09-12</td>\n",
       "      <td>2022-09-12 17:26:39</td>\n",
       "      <td>0699B415-A73E-4CFA-B910-079AA0408B1B</td>\n",
       "      <td>37.611192</td>\n",
       "      <td>55.887478</td>\n",
       "      <td>40808752-2CEE-454B-B6E6-95EC9615999D</td>\n",
       "      <td>37.611027</td>\n",
       "      <td>55.887835</td>\n",
       "      <td>NaN</td>\n",
       "      <td>NaN</td>\n",
       "      <td>...</td>\n",
       "      <td>NaN</td>\n",
       "      <td>NaN</td>\n",
       "      <td>NaN</td>\n",
       "      <td>NaN</td>\n",
       "      <td>NaN</td>\n",
       "      <td>NaN</td>\n",
       "      <td>NaN</td>\n",
       "      <td>NaN</td>\n",
       "      <td>NaN</td>\n",
       "      <td>NaN</td>\n",
       "    </tr>\n",
       "    <tr>\n",
       "      <th>6551</th>\n",
       "      <td>2022-09-12</td>\n",
       "      <td>2022-09-12 17:31:39</td>\n",
       "      <td>329C29F6-A464-4174-867E-50D7D163206C</td>\n",
       "      <td>37.610599</td>\n",
       "      <td>55.891109</td>\n",
       "      <td>55464DF0-C385-4349-801B-C8E1CB861CB5</td>\n",
       "      <td>37.610878</td>\n",
       "      <td>55.890400</td>\n",
       "      <td>0.073817</td>\n",
       "      <td>0.082404</td>\n",
       "      <td>...</td>\n",
       "      <td>0.058963</td>\n",
       "      <td>1.123006e-18</td>\n",
       "      <td>0.010025</td>\n",
       "      <td>0.001586</td>\n",
       "      <td>2.252057</td>\n",
       "      <td>-1.625043</td>\n",
       "      <td>7.767349</td>\n",
       "      <td>68.507405</td>\n",
       "      <td>6.410588</td>\n",
       "      <td>NaN</td>\n",
       "    </tr>\n",
       "  </tbody>\n",
       "</table>\n",
       "<p>6552 rows × 30 columns</p>\n",
       "</div>"
      ]
     },
     "execution_count": 70,
     "metadata": {},
     "output_type": "execute_result"
    }
   ],
   "execution_count": 70
  },
  {
   "cell_type": "code",
   "execution_count": 25,
   "id": "299cf629",
   "metadata": {},
   "outputs": [
    {
     "data": {
      "text/html": [
       "<div>\n",
       "<style scoped>\n",
       "    .dataframe tbody tr th:only-of-type {\n",
       "        vertical-align: middle;\n",
       "    }\n",
       "\n",
       "    .dataframe tbody tr th {\n",
       "        vertical-align: top;\n",
       "    }\n",
       "\n",
       "    .dataframe thead th {\n",
       "        text-align: right;\n",
       "    }\n",
       "</style>\n",
       "<table border=\"1\" class=\"dataframe\">\n",
       "  <thead>\n",
       "    <tr style=\"text-align: right;\">\n",
       "      <th></th>\n",
       "      <th>date</th>\n",
       "      <th>datetime</th>\n",
       "      <th>dev_id_1</th>\n",
       "      <th>id_1_last_lon</th>\n",
       "      <th>id_1_last_lat</th>\n",
       "      <th>dev_id_2</th>\n",
       "      <th>id_2_last_lon</th>\n",
       "      <th>id_2_last_lat</th>\n",
       "      <th>accelerometer_x_corr</th>\n",
       "      <th>accelerometer_x_diff_corr</th>\n",
       "      <th>...</th>\n",
       "      <th>speed_corr</th>\n",
       "      <th>height_diff_corr</th>\n",
       "      <th>bearing_diff_corr</th>\n",
       "      <th>speed_diff_corr</th>\n",
       "      <th>speed_mean_abs_diff</th>\n",
       "      <th>speed_mean_diff</th>\n",
       "      <th>speed_std_diff</th>\n",
       "      <th>distance_mean</th>\n",
       "      <th>distance_std</th>\n",
       "      <th>target</th>\n",
       "    </tr>\n",
       "  </thead>\n",
       "  <tbody>\n",
       "    <tr>\n",
       "      <th>0</th>\n",
       "      <td>2022-09-06</td>\n",
       "      <td>2022-09-06 07:38:07</td>\n",
       "      <td>1CB8D3E9-04BE-465D-B334-0E1F7F026A98</td>\n",
       "      <td>37.602788</td>\n",
       "      <td>55.893562</td>\n",
       "      <td>3744EED3-A474-458B-AA4F-5357B8EE7FBF</td>\n",
       "      <td>37.606185</td>\n",
       "      <td>55.894089</td>\n",
       "      <td>0.000661</td>\n",
       "      <td>0.035777</td>\n",
       "      <td>...</td>\n",
       "      <td>0.082422</td>\n",
       "      <td>1.421230e-02</td>\n",
       "      <td>0.098073</td>\n",
       "      <td>0.029655</td>\n",
       "      <td>3.504287</td>\n",
       "      <td>-1.845214</td>\n",
       "      <td>9.843380</td>\n",
       "      <td>165.717646</td>\n",
       "      <td>141.099882</td>\n",
       "      <td>NaN</td>\n",
       "    </tr>\n",
       "    <tr>\n",
       "      <th>1</th>\n",
       "      <td>2022-09-06</td>\n",
       "      <td>2022-09-06 07:38:07</td>\n",
       "      <td>3744EED3-A474-458B-AA4F-5357B8EE7FBF</td>\n",
       "      <td>37.606185</td>\n",
       "      <td>55.894089</td>\n",
       "      <td>393B6105-4D72-4E11-BEA1-394CD0AFC499</td>\n",
       "      <td>37.604149</td>\n",
       "      <td>55.895599</td>\n",
       "      <td>0.002194</td>\n",
       "      <td>0.077567</td>\n",
       "      <td>...</td>\n",
       "      <td>0.012220</td>\n",
       "      <td>1.329316e-03</td>\n",
       "      <td>0.043845</td>\n",
       "      <td>0.007309</td>\n",
       "      <td>4.445489</td>\n",
       "      <td>0.413304</td>\n",
       "      <td>11.253297</td>\n",
       "      <td>88.975281</td>\n",
       "      <td>98.468099</td>\n",
       "      <td>NaN</td>\n",
       "    </tr>\n",
       "    <tr>\n",
       "      <th>2</th>\n",
       "      <td>2022-09-06</td>\n",
       "      <td>2022-09-06 07:38:07</td>\n",
       "      <td>1CB8D3E9-04BE-465D-B334-0E1F7F026A98</td>\n",
       "      <td>37.602788</td>\n",
       "      <td>55.893562</td>\n",
       "      <td>393B6105-4D72-4E11-BEA1-394CD0AFC499</td>\n",
       "      <td>37.604149</td>\n",
       "      <td>55.895599</td>\n",
       "      <td>0.029039</td>\n",
       "      <td>0.067258</td>\n",
       "      <td>...</td>\n",
       "      <td>0.052211</td>\n",
       "      <td>1.114944e-02</td>\n",
       "      <td>0.152548</td>\n",
       "      <td>0.059629</td>\n",
       "      <td>2.732987</td>\n",
       "      <td>-1.196340</td>\n",
       "      <td>6.964679</td>\n",
       "      <td>133.042537</td>\n",
       "      <td>72.842306</td>\n",
       "      <td>NaN</td>\n",
       "    </tr>\n",
       "    <tr>\n",
       "      <th>3</th>\n",
       "      <td>2022-09-06</td>\n",
       "      <td>2022-09-06 07:48:07</td>\n",
       "      <td>1CB8D3E9-04BE-465D-B334-0E1F7F026A98</td>\n",
       "      <td>37.602780</td>\n",
       "      <td>55.893606</td>\n",
       "      <td>7F921169-FB12-471F-B244-62840E543DD7</td>\n",
       "      <td>37.603513</td>\n",
       "      <td>55.892299</td>\n",
       "      <td>0.024953</td>\n",
       "      <td>0.069213</td>\n",
       "      <td>...</td>\n",
       "      <td>0.009875</td>\n",
       "      <td>1.156702e-02</td>\n",
       "      <td>0.269572</td>\n",
       "      <td>0.014251</td>\n",
       "      <td>3.261829</td>\n",
       "      <td>-0.938763</td>\n",
       "      <td>8.793781</td>\n",
       "      <td>118.765372</td>\n",
       "      <td>16.460189</td>\n",
       "      <td>NaN</td>\n",
       "    </tr>\n",
       "    <tr>\n",
       "      <th>4</th>\n",
       "      <td>2022-09-06</td>\n",
       "      <td>2022-09-06 08:13:07</td>\n",
       "      <td>40808752-2CEE-454B-B6E6-95EC9615999D</td>\n",
       "      <td>37.603324</td>\n",
       "      <td>55.892073</td>\n",
       "      <td>AE6C3F14-5263-4BF1-AD06-3A8CE0A27AAB</td>\n",
       "      <td>37.603368</td>\n",
       "      <td>55.892132</td>\n",
       "      <td>0.157693</td>\n",
       "      <td>0.012551</td>\n",
       "      <td>...</td>\n",
       "      <td>0.023942</td>\n",
       "      <td>5.139841e-03</td>\n",
       "      <td>0.754217</td>\n",
       "      <td>0.042451</td>\n",
       "      <td>4.843979</td>\n",
       "      <td>1.013350</td>\n",
       "      <td>12.424083</td>\n",
       "      <td>17.029361</td>\n",
       "      <td>15.709145</td>\n",
       "      <td>NaN</td>\n",
       "    </tr>\n",
       "    <tr>\n",
       "      <th>...</th>\n",
       "      <td>...</td>\n",
       "      <td>...</td>\n",
       "      <td>...</td>\n",
       "      <td>...</td>\n",
       "      <td>...</td>\n",
       "      <td>...</td>\n",
       "      <td>...</td>\n",
       "      <td>...</td>\n",
       "      <td>...</td>\n",
       "      <td>...</td>\n",
       "      <td>...</td>\n",
       "      <td>...</td>\n",
       "      <td>...</td>\n",
       "      <td>...</td>\n",
       "      <td>...</td>\n",
       "      <td>...</td>\n",
       "      <td>...</td>\n",
       "      <td>...</td>\n",
       "      <td>...</td>\n",
       "      <td>...</td>\n",
       "      <td>...</td>\n",
       "    </tr>\n",
       "    <tr>\n",
       "      <th>6547</th>\n",
       "      <td>2022-09-12</td>\n",
       "      <td>2022-09-12 17:21:39</td>\n",
       "      <td>2D7135B3-1208-45BA-9B5A-0FC27C13B9B0</td>\n",
       "      <td>37.611783</td>\n",
       "      <td>55.892302</td>\n",
       "      <td>329C29F6-A464-4174-867E-50D7D163206C</td>\n",
       "      <td>37.610464</td>\n",
       "      <td>55.891030</td>\n",
       "      <td>NaN</td>\n",
       "      <td>NaN</td>\n",
       "      <td>...</td>\n",
       "      <td>NaN</td>\n",
       "      <td>NaN</td>\n",
       "      <td>NaN</td>\n",
       "      <td>NaN</td>\n",
       "      <td>NaN</td>\n",
       "      <td>NaN</td>\n",
       "      <td>NaN</td>\n",
       "      <td>NaN</td>\n",
       "      <td>NaN</td>\n",
       "      <td>NaN</td>\n",
       "    </tr>\n",
       "    <tr>\n",
       "      <th>6548</th>\n",
       "      <td>2022-09-12</td>\n",
       "      <td>2022-09-12 17:21:39</td>\n",
       "      <td>0699B415-A73E-4CFA-B910-079AA0408B1B</td>\n",
       "      <td>37.611192</td>\n",
       "      <td>55.887478</td>\n",
       "      <td>40808752-2CEE-454B-B6E6-95EC9615999D</td>\n",
       "      <td>37.610962</td>\n",
       "      <td>55.887849</td>\n",
       "      <td>0.793525</td>\n",
       "      <td>0.601976</td>\n",
       "      <td>...</td>\n",
       "      <td>0.665669</td>\n",
       "      <td>NaN</td>\n",
       "      <td>NaN</td>\n",
       "      <td>0.619808</td>\n",
       "      <td>3.918556</td>\n",
       "      <td>2.154666</td>\n",
       "      <td>7.304032</td>\n",
       "      <td>98.934811</td>\n",
       "      <td>30.686367</td>\n",
       "      <td>NaN</td>\n",
       "    </tr>\n",
       "    <tr>\n",
       "      <th>6549</th>\n",
       "      <td>2022-09-12</td>\n",
       "      <td>2022-09-12 17:26:39</td>\n",
       "      <td>329C29F6-A464-4174-867E-50D7D163206C</td>\n",
       "      <td>37.610725</td>\n",
       "      <td>55.890972</td>\n",
       "      <td>55464DF0-C385-4349-801B-C8E1CB861CB5</td>\n",
       "      <td>37.610891</td>\n",
       "      <td>55.890427</td>\n",
       "      <td>0.025361</td>\n",
       "      <td>0.161036</td>\n",
       "      <td>...</td>\n",
       "      <td>0.070157</td>\n",
       "      <td>1.767547e-18</td>\n",
       "      <td>0.000059</td>\n",
       "      <td>0.050241</td>\n",
       "      <td>3.430670</td>\n",
       "      <td>-1.592060</td>\n",
       "      <td>9.831637</td>\n",
       "      <td>65.952005</td>\n",
       "      <td>7.381049</td>\n",
       "      <td>NaN</td>\n",
       "    </tr>\n",
       "    <tr>\n",
       "      <th>6550</th>\n",
       "      <td>2022-09-12</td>\n",
       "      <td>2022-09-12 17:26:39</td>\n",
       "      <td>0699B415-A73E-4CFA-B910-079AA0408B1B</td>\n",
       "      <td>37.611192</td>\n",
       "      <td>55.887478</td>\n",
       "      <td>40808752-2CEE-454B-B6E6-95EC9615999D</td>\n",
       "      <td>37.611027</td>\n",
       "      <td>55.887835</td>\n",
       "      <td>NaN</td>\n",
       "      <td>NaN</td>\n",
       "      <td>...</td>\n",
       "      <td>NaN</td>\n",
       "      <td>NaN</td>\n",
       "      <td>NaN</td>\n",
       "      <td>NaN</td>\n",
       "      <td>NaN</td>\n",
       "      <td>NaN</td>\n",
       "      <td>NaN</td>\n",
       "      <td>NaN</td>\n",
       "      <td>NaN</td>\n",
       "      <td>NaN</td>\n",
       "    </tr>\n",
       "    <tr>\n",
       "      <th>6551</th>\n",
       "      <td>2022-09-12</td>\n",
       "      <td>2022-09-12 17:31:39</td>\n",
       "      <td>329C29F6-A464-4174-867E-50D7D163206C</td>\n",
       "      <td>37.610599</td>\n",
       "      <td>55.891109</td>\n",
       "      <td>55464DF0-C385-4349-801B-C8E1CB861CB5</td>\n",
       "      <td>37.610878</td>\n",
       "      <td>55.890400</td>\n",
       "      <td>0.073817</td>\n",
       "      <td>0.082404</td>\n",
       "      <td>...</td>\n",
       "      <td>0.058963</td>\n",
       "      <td>1.123006e-18</td>\n",
       "      <td>0.010025</td>\n",
       "      <td>0.001586</td>\n",
       "      <td>2.252057</td>\n",
       "      <td>-1.625043</td>\n",
       "      <td>7.767349</td>\n",
       "      <td>68.507405</td>\n",
       "      <td>6.410588</td>\n",
       "      <td>NaN</td>\n",
       "    </tr>\n",
       "  </tbody>\n",
       "</table>\n",
       "<p>6552 rows × 30 columns</p>\n",
       "</div>"
      ],
      "text/plain": [
       "           date            datetime                              dev_id_1  \\\n",
       "0    2022-09-06 2022-09-06 07:38:07  1CB8D3E9-04BE-465D-B334-0E1F7F026A98   \n",
       "1    2022-09-06 2022-09-06 07:38:07  3744EED3-A474-458B-AA4F-5357B8EE7FBF   \n",
       "2    2022-09-06 2022-09-06 07:38:07  1CB8D3E9-04BE-465D-B334-0E1F7F026A98   \n",
       "3    2022-09-06 2022-09-06 07:48:07  1CB8D3E9-04BE-465D-B334-0E1F7F026A98   \n",
       "4    2022-09-06 2022-09-06 08:13:07  40808752-2CEE-454B-B6E6-95EC9615999D   \n",
       "...         ...                 ...                                   ...   \n",
       "6547 2022-09-12 2022-09-12 17:21:39  2D7135B3-1208-45BA-9B5A-0FC27C13B9B0   \n",
       "6548 2022-09-12 2022-09-12 17:21:39  0699B415-A73E-4CFA-B910-079AA0408B1B   \n",
       "6549 2022-09-12 2022-09-12 17:26:39  329C29F6-A464-4174-867E-50D7D163206C   \n",
       "6550 2022-09-12 2022-09-12 17:26:39  0699B415-A73E-4CFA-B910-079AA0408B1B   \n",
       "6551 2022-09-12 2022-09-12 17:31:39  329C29F6-A464-4174-867E-50D7D163206C   \n",
       "\n",
       "      id_1_last_lon  id_1_last_lat                              dev_id_2  \\\n",
       "0         37.602788      55.893562  3744EED3-A474-458B-AA4F-5357B8EE7FBF   \n",
       "1         37.606185      55.894089  393B6105-4D72-4E11-BEA1-394CD0AFC499   \n",
       "2         37.602788      55.893562  393B6105-4D72-4E11-BEA1-394CD0AFC499   \n",
       "3         37.602780      55.893606  7F921169-FB12-471F-B244-62840E543DD7   \n",
       "4         37.603324      55.892073  AE6C3F14-5263-4BF1-AD06-3A8CE0A27AAB   \n",
       "...             ...            ...                                   ...   \n",
       "6547      37.611783      55.892302  329C29F6-A464-4174-867E-50D7D163206C   \n",
       "6548      37.611192      55.887478  40808752-2CEE-454B-B6E6-95EC9615999D   \n",
       "6549      37.610725      55.890972  55464DF0-C385-4349-801B-C8E1CB861CB5   \n",
       "6550      37.611192      55.887478  40808752-2CEE-454B-B6E6-95EC9615999D   \n",
       "6551      37.610599      55.891109  55464DF0-C385-4349-801B-C8E1CB861CB5   \n",
       "\n",
       "      id_2_last_lon  id_2_last_lat  accelerometer_x_corr  \\\n",
       "0         37.606185      55.894089              0.000661   \n",
       "1         37.604149      55.895599              0.002194   \n",
       "2         37.604149      55.895599              0.029039   \n",
       "3         37.603513      55.892299              0.024953   \n",
       "4         37.603368      55.892132              0.157693   \n",
       "...             ...            ...                   ...   \n",
       "6547      37.610464      55.891030                   NaN   \n",
       "6548      37.610962      55.887849              0.793525   \n",
       "6549      37.610891      55.890427              0.025361   \n",
       "6550      37.611027      55.887835                   NaN   \n",
       "6551      37.610878      55.890400              0.073817   \n",
       "\n",
       "      accelerometer_x_diff_corr  ...  speed_corr  height_diff_corr  \\\n",
       "0                      0.035777  ...    0.082422      1.421230e-02   \n",
       "1                      0.077567  ...    0.012220      1.329316e-03   \n",
       "2                      0.067258  ...    0.052211      1.114944e-02   \n",
       "3                      0.069213  ...    0.009875      1.156702e-02   \n",
       "4                      0.012551  ...    0.023942      5.139841e-03   \n",
       "...                         ...  ...         ...               ...   \n",
       "6547                        NaN  ...         NaN               NaN   \n",
       "6548                   0.601976  ...    0.665669               NaN   \n",
       "6549                   0.161036  ...    0.070157      1.767547e-18   \n",
       "6550                        NaN  ...         NaN               NaN   \n",
       "6551                   0.082404  ...    0.058963      1.123006e-18   \n",
       "\n",
       "      bearing_diff_corr  speed_diff_corr  speed_mean_abs_diff  \\\n",
       "0              0.098073         0.029655             3.504287   \n",
       "1              0.043845         0.007309             4.445489   \n",
       "2              0.152548         0.059629             2.732987   \n",
       "3              0.269572         0.014251             3.261829   \n",
       "4              0.754217         0.042451             4.843979   \n",
       "...                 ...              ...                  ...   \n",
       "6547                NaN              NaN                  NaN   \n",
       "6548                NaN         0.619808             3.918556   \n",
       "6549           0.000059         0.050241             3.430670   \n",
       "6550                NaN              NaN                  NaN   \n",
       "6551           0.010025         0.001586             2.252057   \n",
       "\n",
       "      speed_mean_diff  speed_std_diff  distance_mean  distance_std  target  \n",
       "0           -1.845214        9.843380     165.717646    141.099882     NaN  \n",
       "1            0.413304       11.253297      88.975281     98.468099     NaN  \n",
       "2           -1.196340        6.964679     133.042537     72.842306     NaN  \n",
       "3           -0.938763        8.793781     118.765372     16.460189     NaN  \n",
       "4            1.013350       12.424083      17.029361     15.709145     NaN  \n",
       "...               ...             ...            ...           ...     ...  \n",
       "6547              NaN             NaN            NaN           NaN     NaN  \n",
       "6548         2.154666        7.304032      98.934811     30.686367     NaN  \n",
       "6549        -1.592060        9.831637      65.952005      7.381049     NaN  \n",
       "6550              NaN             NaN            NaN           NaN     NaN  \n",
       "6551        -1.625043        7.767349      68.507405      6.410588     NaN  \n",
       "\n",
       "[6552 rows x 30 columns]"
      ]
     },
     "execution_count": 25,
     "metadata": {},
     "output_type": "execute_result"
    }
   ],
   "source": [
    "data_final"
   ]
  },
  {
   "metadata": {
    "ExecuteTime": {
     "end_time": "2025-04-16T12:33:11.873905Z",
     "start_time": "2025-04-16T12:33:11.853901Z"
    }
   },
   "cell_type": "code",
   "source": "data_final.info()",
   "id": "e7025b1359261b1c",
   "outputs": [
    {
     "name": "stdout",
     "output_type": "stream",
     "text": [
      "<class 'pandas.core.frame.DataFrame'>\n",
      "RangeIndex: 1679 entries, 0 to 1678\n",
      "Data columns (total 30 columns):\n",
      " #   Column                     Non-Null Count  Dtype         \n",
      "---  ------                     --------------  -----         \n",
      " 0   date                       1679 non-null   datetime64[ns]\n",
      " 1   datetime                   1679 non-null   datetime64[ns]\n",
      " 2   dev_id_1                   1679 non-null   object        \n",
      " 3   id_1_last_lon              1679 non-null   float64       \n",
      " 4   id_1_last_lat              1679 non-null   float64       \n",
      " 5   dev_id_2                   1679 non-null   object        \n",
      " 6   id_2_last_lon              1679 non-null   float64       \n",
      " 7   id_2_last_lat              1679 non-null   float64       \n",
      " 8   accelerometer_x_corr       1411 non-null   float64       \n",
      " 9   accelerometer_x_diff_corr  1411 non-null   float64       \n",
      " 10  accelerometer_y_corr       1492 non-null   float64       \n",
      " 11  accelerometer_y_diff_corr  1492 non-null   float64       \n",
      " 12  accelerometer_z_corr       1454 non-null   float64       \n",
      " 13  accelerometer_z_diff_corr  1454 non-null   float64       \n",
      " 14  x_metres_corr              1488 non-null   float64       \n",
      " 15  x_diff_metres_corr         1488 non-null   float64       \n",
      " 16  y_metres_corr              1488 non-null   float64       \n",
      " 17  y_diff_metres_corr         1488 non-null   float64       \n",
      " 18  height_corr                890 non-null    float64       \n",
      " 19  bearing_corr               1376 non-null   float64       \n",
      " 20  speed_corr                 1488 non-null   float64       \n",
      " 21  height_diff_corr           890 non-null    float64       \n",
      " 22  bearing_diff_corr          1376 non-null   float64       \n",
      " 23  speed_diff_corr            1488 non-null   float64       \n",
      " 24  speed_mean_abs_diff        1523 non-null   float64       \n",
      " 25  speed_mean_diff            1523 non-null   float64       \n",
      " 26  speed_std_diff             1523 non-null   float64       \n",
      " 27  distance_mean              1523 non-null   float64       \n",
      " 28  distance_std               1523 non-null   float64       \n",
      " 29  target                     0 non-null      float64       \n",
      "dtypes: datetime64[ns](2), float64(26), object(2)\n",
      "memory usage: 393.6+ KB\n"
     ]
    }
   ],
   "execution_count": 37
  },
  {
   "metadata": {
    "ExecuteTime": {
     "end_time": "2025-04-16T12:48:47.028689Z",
     "start_time": "2025-04-16T12:48:46.973696Z"
    }
   },
   "cell_type": "code",
   "source": [
    "list_of_files_test = list()\n",
    "list_of_feats_test = list()\n",
    "for (dirpath, dirnames, filenames) in os.walk(\"../data/second_departure_parquet_feats\"):\n",
    "    list_of_files_test += [os.path.join(dirpath, file) for file in filenames if \".parquet\" in file]\n",
    "for filename in list_of_files_test:\n",
    "    df = pd.read_parquet(filename)\n",
    "    list_of_feats_test += [df]"
   ],
   "id": "f1ac97dac185d773",
   "outputs": [],
   "execution_count": 46
  },
  {
   "metadata": {
    "ExecuteTime": {
     "end_time": "2025-04-16T12:50:26.549131Z",
     "start_time": "2025-04-16T12:50:26.526134Z"
    }
   },
   "cell_type": "code",
   "source": "test_df = pd.concat(list_of_feats_test, ignore_index=True)",
   "id": "ed2a1857ab87b5de",
   "outputs": [],
   "execution_count": 49
  },
  {
   "metadata": {
    "ExecuteTime": {
     "end_time": "2025-04-16T12:51:07.449657Z",
     "start_time": "2025-04-16T12:51:07.374657Z"
    }
   },
   "cell_type": "code",
   "source": "test_df",
   "id": "2eb1f4e76a315d7d",
   "outputs": [
    {
     "data": {
      "text/plain": [
       "           date            datetime                              dev_id_1  \\\n",
       "0    2022-09-06 2022-09-06 07:38:07  1CB8D3E9-04BE-465D-B334-0E1F7F026A98   \n",
       "1    2022-09-06 2022-09-06 07:38:07  1CB8D3E9-04BE-465D-B334-0E1F7F026A98   \n",
       "2    2022-09-06 2022-09-06 07:38:07  3744EED3-A474-458B-AA4F-5357B8EE7FBF   \n",
       "3    2022-09-06 2022-09-06 07:48:07  1CB8D3E9-04BE-465D-B334-0E1F7F026A98   \n",
       "4    2022-09-06 2022-09-06 08:13:07  40808752-2CEE-454B-B6E6-95EC9615999D   \n",
       "...         ...                 ...                                   ...   \n",
       "6547 2022-09-12 2022-09-12 17:21:39  2D7135B3-1208-45BA-9B5A-0FC27C13B9B0   \n",
       "6548 2022-09-12 2022-09-12 17:21:39  0699B415-A73E-4CFA-B910-079AA0408B1B   \n",
       "6549 2022-09-12 2022-09-12 17:26:39  329C29F6-A464-4174-867E-50D7D163206C   \n",
       "6550 2022-09-12 2022-09-12 17:26:39  0699B415-A73E-4CFA-B910-079AA0408B1B   \n",
       "6551 2022-09-12 2022-09-12 17:31:39  329C29F6-A464-4174-867E-50D7D163206C   \n",
       "\n",
       "      id_1_last_lon  id_1_last_lat                              dev_id_2  \\\n",
       "0         37.602788      55.893562  3744EED3-A474-458B-AA4F-5357B8EE7FBF   \n",
       "1         37.602788      55.893562  393B6105-4D72-4E11-BEA1-394CD0AFC499   \n",
       "2         37.606185      55.894089  393B6105-4D72-4E11-BEA1-394CD0AFC499   \n",
       "3         37.602780      55.893606  7F921169-FB12-471F-B244-62840E543DD7   \n",
       "4         37.603324      55.892073  8A8813E7-6012-4600-835D-1C286EADE837   \n",
       "...             ...            ...                                   ...   \n",
       "6547      37.611783      55.892302  329C29F6-A464-4174-867E-50D7D163206C   \n",
       "6548      37.611192      55.887478  40808752-2CEE-454B-B6E6-95EC9615999D   \n",
       "6549      37.610725      55.890972  55464DF0-C385-4349-801B-C8E1CB861CB5   \n",
       "6550      37.611192      55.887478  40808752-2CEE-454B-B6E6-95EC9615999D   \n",
       "6551      37.610599      55.891109  55464DF0-C385-4349-801B-C8E1CB861CB5   \n",
       "\n",
       "      id_2_last_lon  id_2_last_lat  accelerometer_x_corr  \\\n",
       "0         37.606185      55.894089              0.000661   \n",
       "1         37.604149      55.895599              0.029039   \n",
       "2         37.604149      55.895599              0.002194   \n",
       "3         37.603513      55.892299              0.024953   \n",
       "4         37.602763      55.892618              0.203208   \n",
       "...             ...            ...                   ...   \n",
       "6547      37.610464      55.891030                   NaN   \n",
       "6548      37.610962      55.887849              0.793525   \n",
       "6549      37.610891      55.890427              0.025361   \n",
       "6550      37.611027      55.887835                   NaN   \n",
       "6551      37.610878      55.890400              0.073817   \n",
       "\n",
       "      accelerometer_x_diff_corr  ...  bearing_corr  speed_corr  \\\n",
       "0                      0.035777  ...      0.205053    0.082422   \n",
       "1                      0.067258  ...      0.144063    0.052211   \n",
       "2                      0.077567  ...      0.306874    0.012220   \n",
       "3                      0.069213  ...      0.046329    0.009875   \n",
       "4                      0.009416  ...      0.204592    0.112317   \n",
       "...                         ...  ...           ...         ...   \n",
       "6547                        NaN  ...           NaN         NaN   \n",
       "6548                   0.601976  ...           NaN    0.665669   \n",
       "6549                   0.161036  ...      0.246894    0.070157   \n",
       "6550                        NaN  ...           NaN         NaN   \n",
       "6551                   0.082404  ...      0.133028    0.058963   \n",
       "\n",
       "      height_diff_corr  bearing_diff_corr  speed_diff_corr  \\\n",
       "0         1.421230e-02           0.098073         0.029655   \n",
       "1         1.114944e-02           0.152548         0.059629   \n",
       "2         1.329316e-03           0.043845         0.007309   \n",
       "3         1.156702e-02           0.269572         0.014251   \n",
       "4         1.025583e-02           0.058706         0.119389   \n",
       "...                ...                ...              ...   \n",
       "6547               NaN                NaN              NaN   \n",
       "6548               NaN                NaN         0.619808   \n",
       "6549      1.767547e-18           0.000059         0.050241   \n",
       "6550               NaN                NaN              NaN   \n",
       "6551      1.123006e-18           0.010025         0.001586   \n",
       "\n",
       "      speed_mean_abs_diff  speed_mean_diff  speed_std_diff  distance_mean  \\\n",
       "0                3.504287        -1.845214        9.843380     165.717646   \n",
       "1                2.732987        -1.196340        6.964679     133.042537   \n",
       "2                4.445489         0.413304       11.253297      88.975281   \n",
       "3                3.261829        -0.938763        8.793781     118.765372   \n",
       "4                3.765288         0.098938       10.963710      38.229802   \n",
       "...                   ...              ...             ...            ...   \n",
       "6547                  NaN              NaN             NaN            NaN   \n",
       "6548             3.918556         2.154666        7.304032      98.934811   \n",
       "6549             3.430670        -1.592060        9.831637      65.952005   \n",
       "6550                  NaN              NaN             NaN            NaN   \n",
       "6551             2.252057        -1.625043        7.767349      68.507405   \n",
       "\n",
       "      distance_std  \n",
       "0       141.099882  \n",
       "1        72.842306  \n",
       "2        98.468099  \n",
       "3        16.460189  \n",
       "4        39.078068  \n",
       "...            ...  \n",
       "6547           NaN  \n",
       "6548     30.686367  \n",
       "6549      7.381049  \n",
       "6550           NaN  \n",
       "6551      6.410588  \n",
       "\n",
       "[6552 rows x 29 columns]"
      ],
      "text/html": [
       "<div>\n",
       "<style scoped>\n",
       "    .dataframe tbody tr th:only-of-type {\n",
       "        vertical-align: middle;\n",
       "    }\n",
       "\n",
       "    .dataframe tbody tr th {\n",
       "        vertical-align: top;\n",
       "    }\n",
       "\n",
       "    .dataframe thead th {\n",
       "        text-align: right;\n",
       "    }\n",
       "</style>\n",
       "<table border=\"1\" class=\"dataframe\">\n",
       "  <thead>\n",
       "    <tr style=\"text-align: right;\">\n",
       "      <th></th>\n",
       "      <th>date</th>\n",
       "      <th>datetime</th>\n",
       "      <th>dev_id_1</th>\n",
       "      <th>id_1_last_lon</th>\n",
       "      <th>id_1_last_lat</th>\n",
       "      <th>dev_id_2</th>\n",
       "      <th>id_2_last_lon</th>\n",
       "      <th>id_2_last_lat</th>\n",
       "      <th>accelerometer_x_corr</th>\n",
       "      <th>accelerometer_x_diff_corr</th>\n",
       "      <th>...</th>\n",
       "      <th>bearing_corr</th>\n",
       "      <th>speed_corr</th>\n",
       "      <th>height_diff_corr</th>\n",
       "      <th>bearing_diff_corr</th>\n",
       "      <th>speed_diff_corr</th>\n",
       "      <th>speed_mean_abs_diff</th>\n",
       "      <th>speed_mean_diff</th>\n",
       "      <th>speed_std_diff</th>\n",
       "      <th>distance_mean</th>\n",
       "      <th>distance_std</th>\n",
       "    </tr>\n",
       "  </thead>\n",
       "  <tbody>\n",
       "    <tr>\n",
       "      <th>0</th>\n",
       "      <td>2022-09-06</td>\n",
       "      <td>2022-09-06 07:38:07</td>\n",
       "      <td>1CB8D3E9-04BE-465D-B334-0E1F7F026A98</td>\n",
       "      <td>37.602788</td>\n",
       "      <td>55.893562</td>\n",
       "      <td>3744EED3-A474-458B-AA4F-5357B8EE7FBF</td>\n",
       "      <td>37.606185</td>\n",
       "      <td>55.894089</td>\n",
       "      <td>0.000661</td>\n",
       "      <td>0.035777</td>\n",
       "      <td>...</td>\n",
       "      <td>0.205053</td>\n",
       "      <td>0.082422</td>\n",
       "      <td>1.421230e-02</td>\n",
       "      <td>0.098073</td>\n",
       "      <td>0.029655</td>\n",
       "      <td>3.504287</td>\n",
       "      <td>-1.845214</td>\n",
       "      <td>9.843380</td>\n",
       "      <td>165.717646</td>\n",
       "      <td>141.099882</td>\n",
       "    </tr>\n",
       "    <tr>\n",
       "      <th>1</th>\n",
       "      <td>2022-09-06</td>\n",
       "      <td>2022-09-06 07:38:07</td>\n",
       "      <td>1CB8D3E9-04BE-465D-B334-0E1F7F026A98</td>\n",
       "      <td>37.602788</td>\n",
       "      <td>55.893562</td>\n",
       "      <td>393B6105-4D72-4E11-BEA1-394CD0AFC499</td>\n",
       "      <td>37.604149</td>\n",
       "      <td>55.895599</td>\n",
       "      <td>0.029039</td>\n",
       "      <td>0.067258</td>\n",
       "      <td>...</td>\n",
       "      <td>0.144063</td>\n",
       "      <td>0.052211</td>\n",
       "      <td>1.114944e-02</td>\n",
       "      <td>0.152548</td>\n",
       "      <td>0.059629</td>\n",
       "      <td>2.732987</td>\n",
       "      <td>-1.196340</td>\n",
       "      <td>6.964679</td>\n",
       "      <td>133.042537</td>\n",
       "      <td>72.842306</td>\n",
       "    </tr>\n",
       "    <tr>\n",
       "      <th>2</th>\n",
       "      <td>2022-09-06</td>\n",
       "      <td>2022-09-06 07:38:07</td>\n",
       "      <td>3744EED3-A474-458B-AA4F-5357B8EE7FBF</td>\n",
       "      <td>37.606185</td>\n",
       "      <td>55.894089</td>\n",
       "      <td>393B6105-4D72-4E11-BEA1-394CD0AFC499</td>\n",
       "      <td>37.604149</td>\n",
       "      <td>55.895599</td>\n",
       "      <td>0.002194</td>\n",
       "      <td>0.077567</td>\n",
       "      <td>...</td>\n",
       "      <td>0.306874</td>\n",
       "      <td>0.012220</td>\n",
       "      <td>1.329316e-03</td>\n",
       "      <td>0.043845</td>\n",
       "      <td>0.007309</td>\n",
       "      <td>4.445489</td>\n",
       "      <td>0.413304</td>\n",
       "      <td>11.253297</td>\n",
       "      <td>88.975281</td>\n",
       "      <td>98.468099</td>\n",
       "    </tr>\n",
       "    <tr>\n",
       "      <th>3</th>\n",
       "      <td>2022-09-06</td>\n",
       "      <td>2022-09-06 07:48:07</td>\n",
       "      <td>1CB8D3E9-04BE-465D-B334-0E1F7F026A98</td>\n",
       "      <td>37.602780</td>\n",
       "      <td>55.893606</td>\n",
       "      <td>7F921169-FB12-471F-B244-62840E543DD7</td>\n",
       "      <td>37.603513</td>\n",
       "      <td>55.892299</td>\n",
       "      <td>0.024953</td>\n",
       "      <td>0.069213</td>\n",
       "      <td>...</td>\n",
       "      <td>0.046329</td>\n",
       "      <td>0.009875</td>\n",
       "      <td>1.156702e-02</td>\n",
       "      <td>0.269572</td>\n",
       "      <td>0.014251</td>\n",
       "      <td>3.261829</td>\n",
       "      <td>-0.938763</td>\n",
       "      <td>8.793781</td>\n",
       "      <td>118.765372</td>\n",
       "      <td>16.460189</td>\n",
       "    </tr>\n",
       "    <tr>\n",
       "      <th>4</th>\n",
       "      <td>2022-09-06</td>\n",
       "      <td>2022-09-06 08:13:07</td>\n",
       "      <td>40808752-2CEE-454B-B6E6-95EC9615999D</td>\n",
       "      <td>37.603324</td>\n",
       "      <td>55.892073</td>\n",
       "      <td>8A8813E7-6012-4600-835D-1C286EADE837</td>\n",
       "      <td>37.602763</td>\n",
       "      <td>55.892618</td>\n",
       "      <td>0.203208</td>\n",
       "      <td>0.009416</td>\n",
       "      <td>...</td>\n",
       "      <td>0.204592</td>\n",
       "      <td>0.112317</td>\n",
       "      <td>1.025583e-02</td>\n",
       "      <td>0.058706</td>\n",
       "      <td>0.119389</td>\n",
       "      <td>3.765288</td>\n",
       "      <td>0.098938</td>\n",
       "      <td>10.963710</td>\n",
       "      <td>38.229802</td>\n",
       "      <td>39.078068</td>\n",
       "    </tr>\n",
       "    <tr>\n",
       "      <th>...</th>\n",
       "      <td>...</td>\n",
       "      <td>...</td>\n",
       "      <td>...</td>\n",
       "      <td>...</td>\n",
       "      <td>...</td>\n",
       "      <td>...</td>\n",
       "      <td>...</td>\n",
       "      <td>...</td>\n",
       "      <td>...</td>\n",
       "      <td>...</td>\n",
       "      <td>...</td>\n",
       "      <td>...</td>\n",
       "      <td>...</td>\n",
       "      <td>...</td>\n",
       "      <td>...</td>\n",
       "      <td>...</td>\n",
       "      <td>...</td>\n",
       "      <td>...</td>\n",
       "      <td>...</td>\n",
       "      <td>...</td>\n",
       "      <td>...</td>\n",
       "    </tr>\n",
       "    <tr>\n",
       "      <th>6547</th>\n",
       "      <td>2022-09-12</td>\n",
       "      <td>2022-09-12 17:21:39</td>\n",
       "      <td>2D7135B3-1208-45BA-9B5A-0FC27C13B9B0</td>\n",
       "      <td>37.611783</td>\n",
       "      <td>55.892302</td>\n",
       "      <td>329C29F6-A464-4174-867E-50D7D163206C</td>\n",
       "      <td>37.610464</td>\n",
       "      <td>55.891030</td>\n",
       "      <td>NaN</td>\n",
       "      <td>NaN</td>\n",
       "      <td>...</td>\n",
       "      <td>NaN</td>\n",
       "      <td>NaN</td>\n",
       "      <td>NaN</td>\n",
       "      <td>NaN</td>\n",
       "      <td>NaN</td>\n",
       "      <td>NaN</td>\n",
       "      <td>NaN</td>\n",
       "      <td>NaN</td>\n",
       "      <td>NaN</td>\n",
       "      <td>NaN</td>\n",
       "    </tr>\n",
       "    <tr>\n",
       "      <th>6548</th>\n",
       "      <td>2022-09-12</td>\n",
       "      <td>2022-09-12 17:21:39</td>\n",
       "      <td>0699B415-A73E-4CFA-B910-079AA0408B1B</td>\n",
       "      <td>37.611192</td>\n",
       "      <td>55.887478</td>\n",
       "      <td>40808752-2CEE-454B-B6E6-95EC9615999D</td>\n",
       "      <td>37.610962</td>\n",
       "      <td>55.887849</td>\n",
       "      <td>0.793525</td>\n",
       "      <td>0.601976</td>\n",
       "      <td>...</td>\n",
       "      <td>NaN</td>\n",
       "      <td>0.665669</td>\n",
       "      <td>NaN</td>\n",
       "      <td>NaN</td>\n",
       "      <td>0.619808</td>\n",
       "      <td>3.918556</td>\n",
       "      <td>2.154666</td>\n",
       "      <td>7.304032</td>\n",
       "      <td>98.934811</td>\n",
       "      <td>30.686367</td>\n",
       "    </tr>\n",
       "    <tr>\n",
       "      <th>6549</th>\n",
       "      <td>2022-09-12</td>\n",
       "      <td>2022-09-12 17:26:39</td>\n",
       "      <td>329C29F6-A464-4174-867E-50D7D163206C</td>\n",
       "      <td>37.610725</td>\n",
       "      <td>55.890972</td>\n",
       "      <td>55464DF0-C385-4349-801B-C8E1CB861CB5</td>\n",
       "      <td>37.610891</td>\n",
       "      <td>55.890427</td>\n",
       "      <td>0.025361</td>\n",
       "      <td>0.161036</td>\n",
       "      <td>...</td>\n",
       "      <td>0.246894</td>\n",
       "      <td>0.070157</td>\n",
       "      <td>1.767547e-18</td>\n",
       "      <td>0.000059</td>\n",
       "      <td>0.050241</td>\n",
       "      <td>3.430670</td>\n",
       "      <td>-1.592060</td>\n",
       "      <td>9.831637</td>\n",
       "      <td>65.952005</td>\n",
       "      <td>7.381049</td>\n",
       "    </tr>\n",
       "    <tr>\n",
       "      <th>6550</th>\n",
       "      <td>2022-09-12</td>\n",
       "      <td>2022-09-12 17:26:39</td>\n",
       "      <td>0699B415-A73E-4CFA-B910-079AA0408B1B</td>\n",
       "      <td>37.611192</td>\n",
       "      <td>55.887478</td>\n",
       "      <td>40808752-2CEE-454B-B6E6-95EC9615999D</td>\n",
       "      <td>37.611027</td>\n",
       "      <td>55.887835</td>\n",
       "      <td>NaN</td>\n",
       "      <td>NaN</td>\n",
       "      <td>...</td>\n",
       "      <td>NaN</td>\n",
       "      <td>NaN</td>\n",
       "      <td>NaN</td>\n",
       "      <td>NaN</td>\n",
       "      <td>NaN</td>\n",
       "      <td>NaN</td>\n",
       "      <td>NaN</td>\n",
       "      <td>NaN</td>\n",
       "      <td>NaN</td>\n",
       "      <td>NaN</td>\n",
       "    </tr>\n",
       "    <tr>\n",
       "      <th>6551</th>\n",
       "      <td>2022-09-12</td>\n",
       "      <td>2022-09-12 17:31:39</td>\n",
       "      <td>329C29F6-A464-4174-867E-50D7D163206C</td>\n",
       "      <td>37.610599</td>\n",
       "      <td>55.891109</td>\n",
       "      <td>55464DF0-C385-4349-801B-C8E1CB861CB5</td>\n",
       "      <td>37.610878</td>\n",
       "      <td>55.890400</td>\n",
       "      <td>0.073817</td>\n",
       "      <td>0.082404</td>\n",
       "      <td>...</td>\n",
       "      <td>0.133028</td>\n",
       "      <td>0.058963</td>\n",
       "      <td>1.123006e-18</td>\n",
       "      <td>0.010025</td>\n",
       "      <td>0.001586</td>\n",
       "      <td>2.252057</td>\n",
       "      <td>-1.625043</td>\n",
       "      <td>7.767349</td>\n",
       "      <td>68.507405</td>\n",
       "      <td>6.410588</td>\n",
       "    </tr>\n",
       "  </tbody>\n",
       "</table>\n",
       "<p>6552 rows × 29 columns</p>\n",
       "</div>"
      ]
     },
     "execution_count": 51,
     "metadata": {},
     "output_type": "execute_result"
    }
   ],
   "execution_count": 51
  },
  {
   "cell_type": "code",
   "id": "02dcf40b",
   "metadata": {
    "ExecuteTime": {
     "end_time": "2025-04-16T13:28:28.716122Z",
     "start_time": "2025-04-16T13:28:26.465148Z"
    }
   },
   "source": [
    "from sklearn.linear_model import LogisticRegression\n",
    "from sklearn.model_selection import train_test_split"
   ],
   "outputs": [],
   "execution_count": 71
  },
  {
   "cell_type": "code",
   "id": "087ba39b",
   "metadata": {
    "ExecuteTime": {
     "end_time": "2025-04-16T13:28:58.788461Z",
     "start_time": "2025-04-16T13:28:58.768461Z"
    }
   },
   "source": [
    "data_final.reset_index(drop=True, inplace=True)"
   ],
   "outputs": [],
   "execution_count": 72
  },
  {
   "cell_type": "code",
   "id": "a6e5f3f2",
   "metadata": {
    "ExecuteTime": {
     "end_time": "2025-04-16T13:29:00.487050Z",
     "start_time": "2025-04-16T13:29:00.466051Z"
    }
   },
   "source": [
    "data_final[\"target\"] = data_final[\"target\"].fillna(0)"
   ],
   "outputs": [],
   "execution_count": 73
  },
  {
   "cell_type": "code",
   "id": "b8971431",
   "metadata": {
    "ExecuteTime": {
     "end_time": "2025-04-16T13:29:04.409919Z",
     "start_time": "2025-04-16T13:29:04.382913Z"
    }
   },
   "source": [
    "data_final[\"target\"].value_counts()"
   ],
   "outputs": [
    {
     "data": {
      "text/plain": [
       "target\n",
       "0.0    5372\n",
       "1.0    1180\n",
       "Name: count, dtype: int64"
      ]
     },
     "execution_count": 74,
     "metadata": {},
     "output_type": "execute_result"
    }
   ],
   "execution_count": 74
  },
  {
   "cell_type": "code",
   "id": "25d2139f",
   "metadata": {
    "ExecuteTime": {
     "end_time": "2025-04-16T13:29:46.119778Z",
     "start_time": "2025-04-16T13:29:46.101782Z"
    }
   },
   "source": [
    "data_final.reset_index(drop=True, inplace=True)\n",
    "X = data_final.iloc[:, 8:-1]\n",
    "# X = X.dropna(how=\"any\")\n",
    "X = X.fillna(-999)\n",
    "y = data_final.loc[X.index, \"target\"]"
   ],
   "outputs": [],
   "execution_count": 75
  },
  {
   "cell_type": "code",
   "id": "b8fe14d4",
   "metadata": {
    "ExecuteTime": {
     "end_time": "2025-04-16T13:29:49.518993Z",
     "start_time": "2025-04-16T13:29:49.500979Z"
    }
   },
   "source": [
    "X_train, X_test, y_train, y_test = train_test_split(X, y, test_size=0.2, random_state=17)"
   ],
   "outputs": [],
   "execution_count": 76
  },
  {
   "cell_type": "code",
   "id": "a78b4fcc",
   "metadata": {
    "ExecuteTime": {
     "end_time": "2025-04-16T13:29:58.167228Z",
     "start_time": "2025-04-16T13:29:58.151232Z"
    }
   },
   "source": [
    "features = X_train.columns.to_list()"
   ],
   "outputs": [],
   "execution_count": 77
  },
  {
   "metadata": {
    "ExecuteTime": {
     "end_time": "2025-04-16T13:30:07.303472Z",
     "start_time": "2025-04-16T13:30:07.291471Z"
    }
   },
   "cell_type": "code",
   "source": "features",
   "id": "e97b33d6c67e7771",
   "outputs": [
    {
     "data": {
      "text/plain": [
       "['accelerometer_x_corr',\n",
       " 'accelerometer_x_diff_corr',\n",
       " 'accelerometer_y_corr',\n",
       " 'accelerometer_y_diff_corr',\n",
       " 'accelerometer_z_corr',\n",
       " 'accelerometer_z_diff_corr',\n",
       " 'x_metres_corr',\n",
       " 'x_diff_metres_corr',\n",
       " 'y_metres_corr',\n",
       " 'y_diff_metres_corr',\n",
       " 'height_corr',\n",
       " 'bearing_corr',\n",
       " 'speed_corr',\n",
       " 'height_diff_corr',\n",
       " 'bearing_diff_corr',\n",
       " 'speed_diff_corr',\n",
       " 'speed_mean_abs_diff',\n",
       " 'speed_mean_diff',\n",
       " 'speed_std_diff',\n",
       " 'distance_mean',\n",
       " 'distance_std']"
      ]
     },
     "execution_count": 78,
     "metadata": {},
     "output_type": "execute_result"
    }
   ],
   "execution_count": 78
  },
  {
   "cell_type": "code",
   "execution_count": 22,
   "id": "b0dd81f0",
   "metadata": {},
   "outputs": [],
   "source": [
    "import yaml"
   ]
  },
  {
   "cell_type": "code",
   "execution_count": 26,
   "id": "f4c3b05d",
   "metadata": {},
   "outputs": [],
   "source": [
    "with open(\"features.yaml\", \"w\") as fin:\n",
    "    yaml.safe_dump(features, fin)"
   ]
  },
  {
   "cell_type": "code",
   "id": "3b3961c1",
   "metadata": {
    "ExecuteTime": {
     "end_time": "2025-04-16T14:17:38.252794Z",
     "start_time": "2025-04-16T14:17:38.229795Z"
    }
   },
   "source": [
    "from sklearn.ensemble import RandomForestClassifier\n",
    "from sklearn.ensemble import GradientBoostingClassifier\n",
    "from sklearn.ensemble import AdaBoostClassifier\n",
    "from sklearn.ensemble import BaggingClassifier\n",
    "from sklearn.ensemble import ExtraTreesClassifier\n",
    "from sklearn.ensemble import HistGradientBoostingClassifier"
   ],
   "outputs": [],
   "execution_count": 103
  },
  {
   "cell_type": "code",
   "id": "1025ef4c",
   "metadata": {
    "ExecuteTime": {
     "end_time": "2025-04-16T13:39:22.129532Z",
     "start_time": "2025-04-16T13:39:15.310544Z"
    }
   },
   "source": [
    "rf = RandomForestClassifier(n_estimators=500)\n",
    "rf.fit(X_train, y_train)"
   ],
   "outputs": [
    {
     "data": {
      "text/plain": [
       "RandomForestClassifier(n_estimators=500)"
      ],
      "text/html": [
       "<style>#sk-container-id-1 {color: black;background-color: white;}#sk-container-id-1 pre{padding: 0;}#sk-container-id-1 div.sk-toggleable {background-color: white;}#sk-container-id-1 label.sk-toggleable__label {cursor: pointer;display: block;width: 100%;margin-bottom: 0;padding: 0.3em;box-sizing: border-box;text-align: center;}#sk-container-id-1 label.sk-toggleable__label-arrow:before {content: \"▸\";float: left;margin-right: 0.25em;color: #696969;}#sk-container-id-1 label.sk-toggleable__label-arrow:hover:before {color: black;}#sk-container-id-1 div.sk-estimator:hover label.sk-toggleable__label-arrow:before {color: black;}#sk-container-id-1 div.sk-toggleable__content {max-height: 0;max-width: 0;overflow: hidden;text-align: left;background-color: #f0f8ff;}#sk-container-id-1 div.sk-toggleable__content pre {margin: 0.2em;color: black;border-radius: 0.25em;background-color: #f0f8ff;}#sk-container-id-1 input.sk-toggleable__control:checked~div.sk-toggleable__content {max-height: 200px;max-width: 100%;overflow: auto;}#sk-container-id-1 input.sk-toggleable__control:checked~label.sk-toggleable__label-arrow:before {content: \"▾\";}#sk-container-id-1 div.sk-estimator input.sk-toggleable__control:checked~label.sk-toggleable__label {background-color: #d4ebff;}#sk-container-id-1 div.sk-label input.sk-toggleable__control:checked~label.sk-toggleable__label {background-color: #d4ebff;}#sk-container-id-1 input.sk-hidden--visually {border: 0;clip: rect(1px 1px 1px 1px);clip: rect(1px, 1px, 1px, 1px);height: 1px;margin: -1px;overflow: hidden;padding: 0;position: absolute;width: 1px;}#sk-container-id-1 div.sk-estimator {font-family: monospace;background-color: #f0f8ff;border: 1px dotted black;border-radius: 0.25em;box-sizing: border-box;margin-bottom: 0.5em;}#sk-container-id-1 div.sk-estimator:hover {background-color: #d4ebff;}#sk-container-id-1 div.sk-parallel-item::after {content: \"\";width: 100%;border-bottom: 1px solid gray;flex-grow: 1;}#sk-container-id-1 div.sk-label:hover label.sk-toggleable__label {background-color: #d4ebff;}#sk-container-id-1 div.sk-serial::before {content: \"\";position: absolute;border-left: 1px solid gray;box-sizing: border-box;top: 0;bottom: 0;left: 50%;z-index: 0;}#sk-container-id-1 div.sk-serial {display: flex;flex-direction: column;align-items: center;background-color: white;padding-right: 0.2em;padding-left: 0.2em;position: relative;}#sk-container-id-1 div.sk-item {position: relative;z-index: 1;}#sk-container-id-1 div.sk-parallel {display: flex;align-items: stretch;justify-content: center;background-color: white;position: relative;}#sk-container-id-1 div.sk-item::before, #sk-container-id-1 div.sk-parallel-item::before {content: \"\";position: absolute;border-left: 1px solid gray;box-sizing: border-box;top: 0;bottom: 0;left: 50%;z-index: -1;}#sk-container-id-1 div.sk-parallel-item {display: flex;flex-direction: column;z-index: 1;position: relative;background-color: white;}#sk-container-id-1 div.sk-parallel-item:first-child::after {align-self: flex-end;width: 50%;}#sk-container-id-1 div.sk-parallel-item:last-child::after {align-self: flex-start;width: 50%;}#sk-container-id-1 div.sk-parallel-item:only-child::after {width: 0;}#sk-container-id-1 div.sk-dashed-wrapped {border: 1px dashed gray;margin: 0 0.4em 0.5em 0.4em;box-sizing: border-box;padding-bottom: 0.4em;background-color: white;}#sk-container-id-1 div.sk-label label {font-family: monospace;font-weight: bold;display: inline-block;line-height: 1.2em;}#sk-container-id-1 div.sk-label-container {text-align: center;}#sk-container-id-1 div.sk-container {/* jupyter's `normalize.less` sets `[hidden] { display: none; }` but bootstrap.min.css set `[hidden] { display: none !important; }` so we also need the `!important` here to be able to override the default hidden behavior on the sphinx rendered scikit-learn.org. See: https://github.com/scikit-learn/scikit-learn/issues/21755 */display: inline-block !important;position: relative;}#sk-container-id-1 div.sk-text-repr-fallback {display: none;}</style><div id=\"sk-container-id-1\" class=\"sk-top-container\"><div class=\"sk-text-repr-fallback\"><pre>RandomForestClassifier(n_estimators=500)</pre><b>In a Jupyter environment, please rerun this cell to show the HTML representation or trust the notebook. <br />On GitHub, the HTML representation is unable to render, please try loading this page with nbviewer.org.</b></div><div class=\"sk-container\" hidden><div class=\"sk-item\"><div class=\"sk-estimator sk-toggleable\"><input class=\"sk-toggleable__control sk-hidden--visually\" id=\"sk-estimator-id-1\" type=\"checkbox\" checked><label for=\"sk-estimator-id-1\" class=\"sk-toggleable__label sk-toggleable__label-arrow\">RandomForestClassifier</label><div class=\"sk-toggleable__content\"><pre>RandomForestClassifier(n_estimators=500)</pre></div></div></div></div></div>"
      ]
     },
     "execution_count": 80,
     "metadata": {},
     "output_type": "execute_result"
    }
   ],
   "execution_count": 80
  },
  {
   "metadata": {
    "ExecuteTime": {
     "end_time": "2025-04-16T14:05:12.265549Z",
     "start_time": "2025-04-16T14:04:58.071884Z"
    }
   },
   "cell_type": "code",
   "source": [
    "gb = GradientBoostingClassifier(n_estimators=500)\n",
    "gb.fit(X_train, y_train)"
   ],
   "id": "e1fbe008919226a2",
   "outputs": [
    {
     "data": {
      "text/plain": [
       "GradientBoostingClassifier(n_estimators=500)"
      ],
      "text/html": [
       "<style>#sk-container-id-2 {color: black;background-color: white;}#sk-container-id-2 pre{padding: 0;}#sk-container-id-2 div.sk-toggleable {background-color: white;}#sk-container-id-2 label.sk-toggleable__label {cursor: pointer;display: block;width: 100%;margin-bottom: 0;padding: 0.3em;box-sizing: border-box;text-align: center;}#sk-container-id-2 label.sk-toggleable__label-arrow:before {content: \"▸\";float: left;margin-right: 0.25em;color: #696969;}#sk-container-id-2 label.sk-toggleable__label-arrow:hover:before {color: black;}#sk-container-id-2 div.sk-estimator:hover label.sk-toggleable__label-arrow:before {color: black;}#sk-container-id-2 div.sk-toggleable__content {max-height: 0;max-width: 0;overflow: hidden;text-align: left;background-color: #f0f8ff;}#sk-container-id-2 div.sk-toggleable__content pre {margin: 0.2em;color: black;border-radius: 0.25em;background-color: #f0f8ff;}#sk-container-id-2 input.sk-toggleable__control:checked~div.sk-toggleable__content {max-height: 200px;max-width: 100%;overflow: auto;}#sk-container-id-2 input.sk-toggleable__control:checked~label.sk-toggleable__label-arrow:before {content: \"▾\";}#sk-container-id-2 div.sk-estimator input.sk-toggleable__control:checked~label.sk-toggleable__label {background-color: #d4ebff;}#sk-container-id-2 div.sk-label input.sk-toggleable__control:checked~label.sk-toggleable__label {background-color: #d4ebff;}#sk-container-id-2 input.sk-hidden--visually {border: 0;clip: rect(1px 1px 1px 1px);clip: rect(1px, 1px, 1px, 1px);height: 1px;margin: -1px;overflow: hidden;padding: 0;position: absolute;width: 1px;}#sk-container-id-2 div.sk-estimator {font-family: monospace;background-color: #f0f8ff;border: 1px dotted black;border-radius: 0.25em;box-sizing: border-box;margin-bottom: 0.5em;}#sk-container-id-2 div.sk-estimator:hover {background-color: #d4ebff;}#sk-container-id-2 div.sk-parallel-item::after {content: \"\";width: 100%;border-bottom: 1px solid gray;flex-grow: 1;}#sk-container-id-2 div.sk-label:hover label.sk-toggleable__label {background-color: #d4ebff;}#sk-container-id-2 div.sk-serial::before {content: \"\";position: absolute;border-left: 1px solid gray;box-sizing: border-box;top: 0;bottom: 0;left: 50%;z-index: 0;}#sk-container-id-2 div.sk-serial {display: flex;flex-direction: column;align-items: center;background-color: white;padding-right: 0.2em;padding-left: 0.2em;position: relative;}#sk-container-id-2 div.sk-item {position: relative;z-index: 1;}#sk-container-id-2 div.sk-parallel {display: flex;align-items: stretch;justify-content: center;background-color: white;position: relative;}#sk-container-id-2 div.sk-item::before, #sk-container-id-2 div.sk-parallel-item::before {content: \"\";position: absolute;border-left: 1px solid gray;box-sizing: border-box;top: 0;bottom: 0;left: 50%;z-index: -1;}#sk-container-id-2 div.sk-parallel-item {display: flex;flex-direction: column;z-index: 1;position: relative;background-color: white;}#sk-container-id-2 div.sk-parallel-item:first-child::after {align-self: flex-end;width: 50%;}#sk-container-id-2 div.sk-parallel-item:last-child::after {align-self: flex-start;width: 50%;}#sk-container-id-2 div.sk-parallel-item:only-child::after {width: 0;}#sk-container-id-2 div.sk-dashed-wrapped {border: 1px dashed gray;margin: 0 0.4em 0.5em 0.4em;box-sizing: border-box;padding-bottom: 0.4em;background-color: white;}#sk-container-id-2 div.sk-label label {font-family: monospace;font-weight: bold;display: inline-block;line-height: 1.2em;}#sk-container-id-2 div.sk-label-container {text-align: center;}#sk-container-id-2 div.sk-container {/* jupyter's `normalize.less` sets `[hidden] { display: none; }` but bootstrap.min.css set `[hidden] { display: none !important; }` so we also need the `!important` here to be able to override the default hidden behavior on the sphinx rendered scikit-learn.org. See: https://github.com/scikit-learn/scikit-learn/issues/21755 */display: inline-block !important;position: relative;}#sk-container-id-2 div.sk-text-repr-fallback {display: none;}</style><div id=\"sk-container-id-2\" class=\"sk-top-container\"><div class=\"sk-text-repr-fallback\"><pre>GradientBoostingClassifier(n_estimators=500)</pre><b>In a Jupyter environment, please rerun this cell to show the HTML representation or trust the notebook. <br />On GitHub, the HTML representation is unable to render, please try loading this page with nbviewer.org.</b></div><div class=\"sk-container\" hidden><div class=\"sk-item\"><div class=\"sk-estimator sk-toggleable\"><input class=\"sk-toggleable__control sk-hidden--visually\" id=\"sk-estimator-id-2\" type=\"checkbox\" checked><label for=\"sk-estimator-id-2\" class=\"sk-toggleable__label sk-toggleable__label-arrow\">GradientBoostingClassifier</label><div class=\"sk-toggleable__content\"><pre>GradientBoostingClassifier(n_estimators=500)</pre></div></div></div></div></div>"
      ]
     },
     "execution_count": 95,
     "metadata": {},
     "output_type": "execute_result"
    }
   ],
   "execution_count": 95
  },
  {
   "metadata": {
    "ExecuteTime": {
     "end_time": "2025-04-16T14:10:11.603587Z",
     "start_time": "2025-04-16T14:10:04.138655Z"
    }
   },
   "cell_type": "code",
   "source": [
    "ab = AdaBoostClassifier(n_estimators=500)\n",
    "ab.fit(X_train, y_train)"
   ],
   "id": "10a9b65f333273cb",
   "outputs": [
    {
     "data": {
      "text/plain": [
       "AdaBoostClassifier(n_estimators=500)"
      ],
      "text/html": [
       "<style>#sk-container-id-3 {color: black;background-color: white;}#sk-container-id-3 pre{padding: 0;}#sk-container-id-3 div.sk-toggleable {background-color: white;}#sk-container-id-3 label.sk-toggleable__label {cursor: pointer;display: block;width: 100%;margin-bottom: 0;padding: 0.3em;box-sizing: border-box;text-align: center;}#sk-container-id-3 label.sk-toggleable__label-arrow:before {content: \"▸\";float: left;margin-right: 0.25em;color: #696969;}#sk-container-id-3 label.sk-toggleable__label-arrow:hover:before {color: black;}#sk-container-id-3 div.sk-estimator:hover label.sk-toggleable__label-arrow:before {color: black;}#sk-container-id-3 div.sk-toggleable__content {max-height: 0;max-width: 0;overflow: hidden;text-align: left;background-color: #f0f8ff;}#sk-container-id-3 div.sk-toggleable__content pre {margin: 0.2em;color: black;border-radius: 0.25em;background-color: #f0f8ff;}#sk-container-id-3 input.sk-toggleable__control:checked~div.sk-toggleable__content {max-height: 200px;max-width: 100%;overflow: auto;}#sk-container-id-3 input.sk-toggleable__control:checked~label.sk-toggleable__label-arrow:before {content: \"▾\";}#sk-container-id-3 div.sk-estimator input.sk-toggleable__control:checked~label.sk-toggleable__label {background-color: #d4ebff;}#sk-container-id-3 div.sk-label input.sk-toggleable__control:checked~label.sk-toggleable__label {background-color: #d4ebff;}#sk-container-id-3 input.sk-hidden--visually {border: 0;clip: rect(1px 1px 1px 1px);clip: rect(1px, 1px, 1px, 1px);height: 1px;margin: -1px;overflow: hidden;padding: 0;position: absolute;width: 1px;}#sk-container-id-3 div.sk-estimator {font-family: monospace;background-color: #f0f8ff;border: 1px dotted black;border-radius: 0.25em;box-sizing: border-box;margin-bottom: 0.5em;}#sk-container-id-3 div.sk-estimator:hover {background-color: #d4ebff;}#sk-container-id-3 div.sk-parallel-item::after {content: \"\";width: 100%;border-bottom: 1px solid gray;flex-grow: 1;}#sk-container-id-3 div.sk-label:hover label.sk-toggleable__label {background-color: #d4ebff;}#sk-container-id-3 div.sk-serial::before {content: \"\";position: absolute;border-left: 1px solid gray;box-sizing: border-box;top: 0;bottom: 0;left: 50%;z-index: 0;}#sk-container-id-3 div.sk-serial {display: flex;flex-direction: column;align-items: center;background-color: white;padding-right: 0.2em;padding-left: 0.2em;position: relative;}#sk-container-id-3 div.sk-item {position: relative;z-index: 1;}#sk-container-id-3 div.sk-parallel {display: flex;align-items: stretch;justify-content: center;background-color: white;position: relative;}#sk-container-id-3 div.sk-item::before, #sk-container-id-3 div.sk-parallel-item::before {content: \"\";position: absolute;border-left: 1px solid gray;box-sizing: border-box;top: 0;bottom: 0;left: 50%;z-index: -1;}#sk-container-id-3 div.sk-parallel-item {display: flex;flex-direction: column;z-index: 1;position: relative;background-color: white;}#sk-container-id-3 div.sk-parallel-item:first-child::after {align-self: flex-end;width: 50%;}#sk-container-id-3 div.sk-parallel-item:last-child::after {align-self: flex-start;width: 50%;}#sk-container-id-3 div.sk-parallel-item:only-child::after {width: 0;}#sk-container-id-3 div.sk-dashed-wrapped {border: 1px dashed gray;margin: 0 0.4em 0.5em 0.4em;box-sizing: border-box;padding-bottom: 0.4em;background-color: white;}#sk-container-id-3 div.sk-label label {font-family: monospace;font-weight: bold;display: inline-block;line-height: 1.2em;}#sk-container-id-3 div.sk-label-container {text-align: center;}#sk-container-id-3 div.sk-container {/* jupyter's `normalize.less` sets `[hidden] { display: none; }` but bootstrap.min.css set `[hidden] { display: none !important; }` so we also need the `!important` here to be able to override the default hidden behavior on the sphinx rendered scikit-learn.org. See: https://github.com/scikit-learn/scikit-learn/issues/21755 */display: inline-block !important;position: relative;}#sk-container-id-3 div.sk-text-repr-fallback {display: none;}</style><div id=\"sk-container-id-3\" class=\"sk-top-container\"><div class=\"sk-text-repr-fallback\"><pre>AdaBoostClassifier(n_estimators=500)</pre><b>In a Jupyter environment, please rerun this cell to show the HTML representation or trust the notebook. <br />On GitHub, the HTML representation is unable to render, please try loading this page with nbviewer.org.</b></div><div class=\"sk-container\" hidden><div class=\"sk-item\"><div class=\"sk-estimator sk-toggleable\"><input class=\"sk-toggleable__control sk-hidden--visually\" id=\"sk-estimator-id-3\" type=\"checkbox\" checked><label for=\"sk-estimator-id-3\" class=\"sk-toggleable__label sk-toggleable__label-arrow\">AdaBoostClassifier</label><div class=\"sk-toggleable__content\"><pre>AdaBoostClassifier(n_estimators=500)</pre></div></div></div></div></div>"
      ]
     },
     "execution_count": 97,
     "metadata": {},
     "output_type": "execute_result"
    }
   ],
   "execution_count": 97
  },
  {
   "metadata": {
    "ExecuteTime": {
     "end_time": "2025-04-16T14:11:53.563173Z",
     "start_time": "2025-04-16T14:11:20.631132Z"
    }
   },
   "cell_type": "code",
   "source": [
    "bagging = BaggingClassifier(n_estimators=500)\n",
    "bagging.fit(X_train, y_train)"
   ],
   "id": "224e801932d212",
   "outputs": [
    {
     "data": {
      "text/plain": [
       "BaggingClassifier(n_estimators=500)"
      ],
      "text/html": [
       "<style>#sk-container-id-4 {color: black;background-color: white;}#sk-container-id-4 pre{padding: 0;}#sk-container-id-4 div.sk-toggleable {background-color: white;}#sk-container-id-4 label.sk-toggleable__label {cursor: pointer;display: block;width: 100%;margin-bottom: 0;padding: 0.3em;box-sizing: border-box;text-align: center;}#sk-container-id-4 label.sk-toggleable__label-arrow:before {content: \"▸\";float: left;margin-right: 0.25em;color: #696969;}#sk-container-id-4 label.sk-toggleable__label-arrow:hover:before {color: black;}#sk-container-id-4 div.sk-estimator:hover label.sk-toggleable__label-arrow:before {color: black;}#sk-container-id-4 div.sk-toggleable__content {max-height: 0;max-width: 0;overflow: hidden;text-align: left;background-color: #f0f8ff;}#sk-container-id-4 div.sk-toggleable__content pre {margin: 0.2em;color: black;border-radius: 0.25em;background-color: #f0f8ff;}#sk-container-id-4 input.sk-toggleable__control:checked~div.sk-toggleable__content {max-height: 200px;max-width: 100%;overflow: auto;}#sk-container-id-4 input.sk-toggleable__control:checked~label.sk-toggleable__label-arrow:before {content: \"▾\";}#sk-container-id-4 div.sk-estimator input.sk-toggleable__control:checked~label.sk-toggleable__label {background-color: #d4ebff;}#sk-container-id-4 div.sk-label input.sk-toggleable__control:checked~label.sk-toggleable__label {background-color: #d4ebff;}#sk-container-id-4 input.sk-hidden--visually {border: 0;clip: rect(1px 1px 1px 1px);clip: rect(1px, 1px, 1px, 1px);height: 1px;margin: -1px;overflow: hidden;padding: 0;position: absolute;width: 1px;}#sk-container-id-4 div.sk-estimator {font-family: monospace;background-color: #f0f8ff;border: 1px dotted black;border-radius: 0.25em;box-sizing: border-box;margin-bottom: 0.5em;}#sk-container-id-4 div.sk-estimator:hover {background-color: #d4ebff;}#sk-container-id-4 div.sk-parallel-item::after {content: \"\";width: 100%;border-bottom: 1px solid gray;flex-grow: 1;}#sk-container-id-4 div.sk-label:hover label.sk-toggleable__label {background-color: #d4ebff;}#sk-container-id-4 div.sk-serial::before {content: \"\";position: absolute;border-left: 1px solid gray;box-sizing: border-box;top: 0;bottom: 0;left: 50%;z-index: 0;}#sk-container-id-4 div.sk-serial {display: flex;flex-direction: column;align-items: center;background-color: white;padding-right: 0.2em;padding-left: 0.2em;position: relative;}#sk-container-id-4 div.sk-item {position: relative;z-index: 1;}#sk-container-id-4 div.sk-parallel {display: flex;align-items: stretch;justify-content: center;background-color: white;position: relative;}#sk-container-id-4 div.sk-item::before, #sk-container-id-4 div.sk-parallel-item::before {content: \"\";position: absolute;border-left: 1px solid gray;box-sizing: border-box;top: 0;bottom: 0;left: 50%;z-index: -1;}#sk-container-id-4 div.sk-parallel-item {display: flex;flex-direction: column;z-index: 1;position: relative;background-color: white;}#sk-container-id-4 div.sk-parallel-item:first-child::after {align-self: flex-end;width: 50%;}#sk-container-id-4 div.sk-parallel-item:last-child::after {align-self: flex-start;width: 50%;}#sk-container-id-4 div.sk-parallel-item:only-child::after {width: 0;}#sk-container-id-4 div.sk-dashed-wrapped {border: 1px dashed gray;margin: 0 0.4em 0.5em 0.4em;box-sizing: border-box;padding-bottom: 0.4em;background-color: white;}#sk-container-id-4 div.sk-label label {font-family: monospace;font-weight: bold;display: inline-block;line-height: 1.2em;}#sk-container-id-4 div.sk-label-container {text-align: center;}#sk-container-id-4 div.sk-container {/* jupyter's `normalize.less` sets `[hidden] { display: none; }` but bootstrap.min.css set `[hidden] { display: none !important; }` so we also need the `!important` here to be able to override the default hidden behavior on the sphinx rendered scikit-learn.org. See: https://github.com/scikit-learn/scikit-learn/issues/21755 */display: inline-block !important;position: relative;}#sk-container-id-4 div.sk-text-repr-fallback {display: none;}</style><div id=\"sk-container-id-4\" class=\"sk-top-container\"><div class=\"sk-text-repr-fallback\"><pre>BaggingClassifier(n_estimators=500)</pre><b>In a Jupyter environment, please rerun this cell to show the HTML representation or trust the notebook. <br />On GitHub, the HTML representation is unable to render, please try loading this page with nbviewer.org.</b></div><div class=\"sk-container\" hidden><div class=\"sk-item\"><div class=\"sk-estimator sk-toggleable\"><input class=\"sk-toggleable__control sk-hidden--visually\" id=\"sk-estimator-id-4\" type=\"checkbox\" checked><label for=\"sk-estimator-id-4\" class=\"sk-toggleable__label sk-toggleable__label-arrow\">BaggingClassifier</label><div class=\"sk-toggleable__content\"><pre>BaggingClassifier(n_estimators=500)</pre></div></div></div></div></div>"
      ]
     },
     "execution_count": 99,
     "metadata": {},
     "output_type": "execute_result"
    }
   ],
   "execution_count": 99
  },
  {
   "metadata": {
    "ExecuteTime": {
     "end_time": "2025-04-16T14:12:28.285885Z",
     "start_time": "2025-04-16T14:12:24.964799Z"
    }
   },
   "cell_type": "code",
   "source": [
    "et = ExtraTreesClassifier(n_estimators=500)\n",
    "et.fit(X_train, y_train)"
   ],
   "id": "3eedde694de0f596",
   "outputs": [
    {
     "data": {
      "text/plain": [
       "ExtraTreesClassifier(n_estimators=500)"
      ],
      "text/html": [
       "<style>#sk-container-id-5 {color: black;background-color: white;}#sk-container-id-5 pre{padding: 0;}#sk-container-id-5 div.sk-toggleable {background-color: white;}#sk-container-id-5 label.sk-toggleable__label {cursor: pointer;display: block;width: 100%;margin-bottom: 0;padding: 0.3em;box-sizing: border-box;text-align: center;}#sk-container-id-5 label.sk-toggleable__label-arrow:before {content: \"▸\";float: left;margin-right: 0.25em;color: #696969;}#sk-container-id-5 label.sk-toggleable__label-arrow:hover:before {color: black;}#sk-container-id-5 div.sk-estimator:hover label.sk-toggleable__label-arrow:before {color: black;}#sk-container-id-5 div.sk-toggleable__content {max-height: 0;max-width: 0;overflow: hidden;text-align: left;background-color: #f0f8ff;}#sk-container-id-5 div.sk-toggleable__content pre {margin: 0.2em;color: black;border-radius: 0.25em;background-color: #f0f8ff;}#sk-container-id-5 input.sk-toggleable__control:checked~div.sk-toggleable__content {max-height: 200px;max-width: 100%;overflow: auto;}#sk-container-id-5 input.sk-toggleable__control:checked~label.sk-toggleable__label-arrow:before {content: \"▾\";}#sk-container-id-5 div.sk-estimator input.sk-toggleable__control:checked~label.sk-toggleable__label {background-color: #d4ebff;}#sk-container-id-5 div.sk-label input.sk-toggleable__control:checked~label.sk-toggleable__label {background-color: #d4ebff;}#sk-container-id-5 input.sk-hidden--visually {border: 0;clip: rect(1px 1px 1px 1px);clip: rect(1px, 1px, 1px, 1px);height: 1px;margin: -1px;overflow: hidden;padding: 0;position: absolute;width: 1px;}#sk-container-id-5 div.sk-estimator {font-family: monospace;background-color: #f0f8ff;border: 1px dotted black;border-radius: 0.25em;box-sizing: border-box;margin-bottom: 0.5em;}#sk-container-id-5 div.sk-estimator:hover {background-color: #d4ebff;}#sk-container-id-5 div.sk-parallel-item::after {content: \"\";width: 100%;border-bottom: 1px solid gray;flex-grow: 1;}#sk-container-id-5 div.sk-label:hover label.sk-toggleable__label {background-color: #d4ebff;}#sk-container-id-5 div.sk-serial::before {content: \"\";position: absolute;border-left: 1px solid gray;box-sizing: border-box;top: 0;bottom: 0;left: 50%;z-index: 0;}#sk-container-id-5 div.sk-serial {display: flex;flex-direction: column;align-items: center;background-color: white;padding-right: 0.2em;padding-left: 0.2em;position: relative;}#sk-container-id-5 div.sk-item {position: relative;z-index: 1;}#sk-container-id-5 div.sk-parallel {display: flex;align-items: stretch;justify-content: center;background-color: white;position: relative;}#sk-container-id-5 div.sk-item::before, #sk-container-id-5 div.sk-parallel-item::before {content: \"\";position: absolute;border-left: 1px solid gray;box-sizing: border-box;top: 0;bottom: 0;left: 50%;z-index: -1;}#sk-container-id-5 div.sk-parallel-item {display: flex;flex-direction: column;z-index: 1;position: relative;background-color: white;}#sk-container-id-5 div.sk-parallel-item:first-child::after {align-self: flex-end;width: 50%;}#sk-container-id-5 div.sk-parallel-item:last-child::after {align-self: flex-start;width: 50%;}#sk-container-id-5 div.sk-parallel-item:only-child::after {width: 0;}#sk-container-id-5 div.sk-dashed-wrapped {border: 1px dashed gray;margin: 0 0.4em 0.5em 0.4em;box-sizing: border-box;padding-bottom: 0.4em;background-color: white;}#sk-container-id-5 div.sk-label label {font-family: monospace;font-weight: bold;display: inline-block;line-height: 1.2em;}#sk-container-id-5 div.sk-label-container {text-align: center;}#sk-container-id-5 div.sk-container {/* jupyter's `normalize.less` sets `[hidden] { display: none; }` but bootstrap.min.css set `[hidden] { display: none !important; }` so we also need the `!important` here to be able to override the default hidden behavior on the sphinx rendered scikit-learn.org. See: https://github.com/scikit-learn/scikit-learn/issues/21755 */display: inline-block !important;position: relative;}#sk-container-id-5 div.sk-text-repr-fallback {display: none;}</style><div id=\"sk-container-id-5\" class=\"sk-top-container\"><div class=\"sk-text-repr-fallback\"><pre>ExtraTreesClassifier(n_estimators=500)</pre><b>In a Jupyter environment, please rerun this cell to show the HTML representation or trust the notebook. <br />On GitHub, the HTML representation is unable to render, please try loading this page with nbviewer.org.</b></div><div class=\"sk-container\" hidden><div class=\"sk-item\"><div class=\"sk-estimator sk-toggleable\"><input class=\"sk-toggleable__control sk-hidden--visually\" id=\"sk-estimator-id-5\" type=\"checkbox\" checked><label for=\"sk-estimator-id-5\" class=\"sk-toggleable__label sk-toggleable__label-arrow\">ExtraTreesClassifier</label><div class=\"sk-toggleable__content\"><pre>ExtraTreesClassifier(n_estimators=500)</pre></div></div></div></div></div>"
      ]
     },
     "execution_count": 101,
     "metadata": {},
     "output_type": "execute_result"
    }
   ],
   "execution_count": 101
  },
  {
   "metadata": {
    "ExecuteTime": {
     "end_time": "2025-04-16T14:18:22.632866Z",
     "start_time": "2025-04-16T14:18:21.437246Z"
    }
   },
   "cell_type": "code",
   "source": [
    "hist = HistGradientBoostingClassifier()\n",
    "hist.fit(X_train, y_train)"
   ],
   "id": "94038ccc6f9db107",
   "outputs": [
    {
     "data": {
      "text/plain": [
       "HistGradientBoostingClassifier()"
      ],
      "text/html": [
       "<style>#sk-container-id-6 {color: black;background-color: white;}#sk-container-id-6 pre{padding: 0;}#sk-container-id-6 div.sk-toggleable {background-color: white;}#sk-container-id-6 label.sk-toggleable__label {cursor: pointer;display: block;width: 100%;margin-bottom: 0;padding: 0.3em;box-sizing: border-box;text-align: center;}#sk-container-id-6 label.sk-toggleable__label-arrow:before {content: \"▸\";float: left;margin-right: 0.25em;color: #696969;}#sk-container-id-6 label.sk-toggleable__label-arrow:hover:before {color: black;}#sk-container-id-6 div.sk-estimator:hover label.sk-toggleable__label-arrow:before {color: black;}#sk-container-id-6 div.sk-toggleable__content {max-height: 0;max-width: 0;overflow: hidden;text-align: left;background-color: #f0f8ff;}#sk-container-id-6 div.sk-toggleable__content pre {margin: 0.2em;color: black;border-radius: 0.25em;background-color: #f0f8ff;}#sk-container-id-6 input.sk-toggleable__control:checked~div.sk-toggleable__content {max-height: 200px;max-width: 100%;overflow: auto;}#sk-container-id-6 input.sk-toggleable__control:checked~label.sk-toggleable__label-arrow:before {content: \"▾\";}#sk-container-id-6 div.sk-estimator input.sk-toggleable__control:checked~label.sk-toggleable__label {background-color: #d4ebff;}#sk-container-id-6 div.sk-label input.sk-toggleable__control:checked~label.sk-toggleable__label {background-color: #d4ebff;}#sk-container-id-6 input.sk-hidden--visually {border: 0;clip: rect(1px 1px 1px 1px);clip: rect(1px, 1px, 1px, 1px);height: 1px;margin: -1px;overflow: hidden;padding: 0;position: absolute;width: 1px;}#sk-container-id-6 div.sk-estimator {font-family: monospace;background-color: #f0f8ff;border: 1px dotted black;border-radius: 0.25em;box-sizing: border-box;margin-bottom: 0.5em;}#sk-container-id-6 div.sk-estimator:hover {background-color: #d4ebff;}#sk-container-id-6 div.sk-parallel-item::after {content: \"\";width: 100%;border-bottom: 1px solid gray;flex-grow: 1;}#sk-container-id-6 div.sk-label:hover label.sk-toggleable__label {background-color: #d4ebff;}#sk-container-id-6 div.sk-serial::before {content: \"\";position: absolute;border-left: 1px solid gray;box-sizing: border-box;top: 0;bottom: 0;left: 50%;z-index: 0;}#sk-container-id-6 div.sk-serial {display: flex;flex-direction: column;align-items: center;background-color: white;padding-right: 0.2em;padding-left: 0.2em;position: relative;}#sk-container-id-6 div.sk-item {position: relative;z-index: 1;}#sk-container-id-6 div.sk-parallel {display: flex;align-items: stretch;justify-content: center;background-color: white;position: relative;}#sk-container-id-6 div.sk-item::before, #sk-container-id-6 div.sk-parallel-item::before {content: \"\";position: absolute;border-left: 1px solid gray;box-sizing: border-box;top: 0;bottom: 0;left: 50%;z-index: -1;}#sk-container-id-6 div.sk-parallel-item {display: flex;flex-direction: column;z-index: 1;position: relative;background-color: white;}#sk-container-id-6 div.sk-parallel-item:first-child::after {align-self: flex-end;width: 50%;}#sk-container-id-6 div.sk-parallel-item:last-child::after {align-self: flex-start;width: 50%;}#sk-container-id-6 div.sk-parallel-item:only-child::after {width: 0;}#sk-container-id-6 div.sk-dashed-wrapped {border: 1px dashed gray;margin: 0 0.4em 0.5em 0.4em;box-sizing: border-box;padding-bottom: 0.4em;background-color: white;}#sk-container-id-6 div.sk-label label {font-family: monospace;font-weight: bold;display: inline-block;line-height: 1.2em;}#sk-container-id-6 div.sk-label-container {text-align: center;}#sk-container-id-6 div.sk-container {/* jupyter's `normalize.less` sets `[hidden] { display: none; }` but bootstrap.min.css set `[hidden] { display: none !important; }` so we also need the `!important` here to be able to override the default hidden behavior on the sphinx rendered scikit-learn.org. See: https://github.com/scikit-learn/scikit-learn/issues/21755 */display: inline-block !important;position: relative;}#sk-container-id-6 div.sk-text-repr-fallback {display: none;}</style><div id=\"sk-container-id-6\" class=\"sk-top-container\"><div class=\"sk-text-repr-fallback\"><pre>HistGradientBoostingClassifier()</pre><b>In a Jupyter environment, please rerun this cell to show the HTML representation or trust the notebook. <br />On GitHub, the HTML representation is unable to render, please try loading this page with nbviewer.org.</b></div><div class=\"sk-container\" hidden><div class=\"sk-item\"><div class=\"sk-estimator sk-toggleable\"><input class=\"sk-toggleable__control sk-hidden--visually\" id=\"sk-estimator-id-6\" type=\"checkbox\" checked><label for=\"sk-estimator-id-6\" class=\"sk-toggleable__label sk-toggleable__label-arrow\">HistGradientBoostingClassifier</label><div class=\"sk-toggleable__content\"><pre>HistGradientBoostingClassifier()</pre></div></div></div></div></div>"
      ]
     },
     "execution_count": 104,
     "metadata": {},
     "output_type": "execute_result"
    }
   ],
   "execution_count": 104
  },
  {
   "cell_type": "code",
   "id": "82b8a9ea",
   "metadata": {
    "ExecuteTime": {
     "end_time": "2025-04-16T13:43:37.464237Z",
     "start_time": "2025-04-16T13:43:37.452239Z"
    }
   },
   "source": [
    "from sklearn.metrics import roc_auc_score"
   ],
   "outputs": [],
   "execution_count": 81
  },
  {
   "cell_type": "code",
   "id": "ee056991",
   "metadata": {
    "ExecuteTime": {
     "end_time": "2025-04-16T13:43:39.833284Z",
     "start_time": "2025-04-16T13:43:39.674286Z"
    }
   },
   "source": [
    "y_test_pred = rf.predict_proba(X_test)[:, 1]\n",
    "roc_auc_score(y_test, y_test_pred)"
   ],
   "outputs": [
    {
     "data": {
      "text/plain": [
       "0.9356379501004932"
      ]
     },
     "execution_count": 82,
     "metadata": {},
     "output_type": "execute_result"
    }
   ],
   "execution_count": 82
  },
  {
   "metadata": {
    "ExecuteTime": {
     "end_time": "2025-04-16T14:08:27.834445Z",
     "start_time": "2025-04-16T14:08:27.788446Z"
    }
   },
   "cell_type": "code",
   "source": [
    "y_test_pred_gb = gb.predict_proba(X_test)[:, 1]\n",
    "roc_auc_score(y_test, y_test_pred_gb)"
   ],
   "id": "97eb8f9bef1e7d57",
   "outputs": [
    {
     "data": {
      "text/plain": [
       "0.9293157584612031"
      ]
     },
     "execution_count": 96,
     "metadata": {},
     "output_type": "execute_result"
    }
   ],
   "execution_count": 96
  },
  {
   "metadata": {
    "ExecuteTime": {
     "end_time": "2025-04-16T14:10:52.297520Z",
     "start_time": "2025-04-16T14:10:52.059522Z"
    }
   },
   "cell_type": "code",
   "source": [
    "y_test_pred_ab = ab.predict_proba(X_test)[:, 1]\n",
    "roc_auc_score(y_test, y_test_pred_ab)"
   ],
   "id": "a3241635a4011ad9",
   "outputs": [
    {
     "data": {
      "text/plain": [
       "0.9251144169377425"
      ]
     },
     "execution_count": 98,
     "metadata": {},
     "output_type": "execute_result"
    }
   ],
   "execution_count": 98
  },
  {
   "metadata": {
    "ExecuteTime": {
     "end_time": "2025-04-16T14:11:53.807169Z",
     "start_time": "2025-04-16T14:11:53.576176Z"
    }
   },
   "cell_type": "code",
   "source": [
    "y_test_pred_bagging = bagging.predict_proba(X_test)[:, 1]\n",
    "roc_auc_score(y_test, y_test_pred_bagging)"
   ],
   "id": "d0b92c0dc60970fb",
   "outputs": [
    {
     "data": {
      "text/plain": [
       "0.9299433363736893"
      ]
     },
     "execution_count": 100,
     "metadata": {},
     "output_type": "execute_result"
    }
   ],
   "execution_count": 100
  },
  {
   "metadata": {
    "ExecuteTime": {
     "end_time": "2025-04-16T14:13:05.110467Z",
     "start_time": "2025-04-16T14:13:04.870474Z"
    }
   },
   "cell_type": "code",
   "source": [
    "y_test_pred_et = et.predict_proba(X_test)[:, 1]\n",
    "roc_auc_score(y_test, y_test_pred_et)"
   ],
   "id": "682091b3c9d13507",
   "outputs": [
    {
     "data": {
      "text/plain": [
       "0.9201402061522814"
      ]
     },
     "execution_count": 102,
     "metadata": {},
     "output_type": "execute_result"
    }
   ],
   "execution_count": 102
  },
  {
   "metadata": {
    "ExecuteTime": {
     "end_time": "2025-04-16T14:18:50.847227Z",
     "start_time": "2025-04-16T14:18:50.809225Z"
    }
   },
   "cell_type": "code",
   "source": [
    "y_test_pred_hist = hist.predict_proba(X_test)[:, 1]\n",
    "roc_auc_score(y_test, y_test_pred_hist)"
   ],
   "id": "72d6b2575ee0e9",
   "outputs": [
    {
     "data": {
      "text/plain": [
       "0.9422749396637312"
      ]
     },
     "execution_count": 105,
     "metadata": {},
     "output_type": "execute_result"
    }
   ],
   "execution_count": 105
  },
  {
   "cell_type": "code",
   "id": "4c86a885",
   "metadata": {
    "ExecuteTime": {
     "end_time": "2025-04-16T13:43:45.454634Z",
     "start_time": "2025-04-16T13:43:45.429637Z"
    }
   },
   "source": [
    "from sklearn.metrics import precision_recall_curve"
   ],
   "outputs": [],
   "execution_count": 83
  },
  {
   "cell_type": "code",
   "id": "af161d7e",
   "metadata": {
    "ExecuteTime": {
     "end_time": "2025-04-16T13:43:49.166098Z",
     "start_time": "2025-04-16T13:43:49.150096Z"
    }
   },
   "source": [
    "precision, recall, threshes = precision_recall_curve(y_test, y_test_pred)"
   ],
   "outputs": [],
   "execution_count": 84
  },
  {
   "cell_type": "code",
   "id": "9eb00600",
   "metadata": {
    "ExecuteTime": {
     "end_time": "2025-04-16T13:47:23.979647Z",
     "start_time": "2025-04-16T13:47:23.320148Z"
    }
   },
   "source": [
    "import matplotlib.pyplot as plt"
   ],
   "outputs": [],
   "execution_count": 85
  },
  {
   "cell_type": "code",
   "id": "5e7d26df",
   "metadata": {
    "ExecuteTime": {
     "end_time": "2025-04-16T13:48:13.713363Z",
     "start_time": "2025-04-16T13:48:13.703360Z"
    }
   },
   "source": [
    "threshes[165]"
   ],
   "outputs": [
    {
     "data": {
      "text/plain": [
       "0.394"
      ]
     },
     "execution_count": 88,
     "metadata": {},
     "output_type": "execute_result"
    }
   ],
   "execution_count": 88
  },
  {
   "cell_type": "code",
   "id": "bc1c3ce2",
   "metadata": {
    "ExecuteTime": {
     "end_time": "2025-04-16T13:48:18.472250Z",
     "start_time": "2025-04-16T13:48:18.234252Z"
    }
   },
   "source": [
    "n = 165\n",
    "plt.plot(precision[:n], recall[:n], marker='o')"
   ],
   "outputs": [
    {
     "data": {
      "text/plain": [
       "[<matplotlib.lines.Line2D at 0x13f6783a6b0>]"
      ]
     },
     "execution_count": 89,
     "metadata": {},
     "output_type": "execute_result"
    },
    {
     "data": {
      "text/plain": [
       "<Figure size 640x480 with 1 Axes>"
      ],
      "image/png": "[encoded data removed]"
     },
     "metadata": {},
     "output_type": "display_data"
    }
   ],
   "execution_count": 89
  },
  {
   "cell_type": "code",
   "id": "384b92a1",
   "metadata": {
    "ExecuteTime": {
     "end_time": "2025-04-16T13:48:24.120073Z",
     "start_time": "2025-04-16T13:48:23.953077Z"
    }
   },
   "source": [
    "plt.plot(precision, recall, marker='o')"
   ],
   "outputs": [
    {
     "data": {
      "text/plain": [
       "[<matplotlib.lines.Line2D at 0x13f67e13fd0>]"
      ]
     },
     "execution_count": 90,
     "metadata": {},
     "output_type": "execute_result"
    },
    {
     "data": {
      "text/plain": [
       "<Figure size 640x480 with 1 Axes>"
      ],
      "image/png": "[encoded data removed]"
     },
     "metadata": {},
     "output_type": "display_data"
    }
   ],
   "execution_count": 90
  },
  {
   "metadata": {
    "ExecuteTime": {
     "end_time": "2025-04-16T13:53:44.603856Z",
     "start_time": "2025-04-16T13:53:44.584853Z"
    }
   },
   "cell_type": "code",
   "source": "from sklearn.metrics import classification_report",
   "id": "2d50ef6f0d1fb5fc",
   "outputs": [],
   "execution_count": 91
  },
  {
   "cell_type": "code",
   "id": "2af34891",
   "metadata": {
    "ExecuteTime": {
     "end_time": "2025-04-16T13:53:47.354983Z",
     "start_time": "2025-04-16T13:53:47.325989Z"
    }
   },
   "source": [
    "y_thresh = (y_test_pred > 0.5).astype(int)\n",
    "print(classification_report(y_test, y_thresh))"
   ],
   "outputs": [
    {
     "name": "stdout",
     "output_type": "stream",
     "text": [
      "              precision    recall  f1-score   support\n",
      "\n",
      "         0.0       0.92      0.98      0.95      1082\n",
      "         1.0       0.89      0.59      0.71       229\n",
      "\n",
      "    accuracy                           0.92      1311\n",
      "   macro avg       0.90      0.79      0.83      1311\n",
      "weighted avg       0.91      0.92      0.91      1311\n",
      "\n"
     ]
    }
   ],
   "execution_count": 92
  },
  {
   "cell_type": "code",
   "id": "fb6b7016",
   "metadata": {
    "ExecuteTime": {
     "end_time": "2025-04-16T13:53:51.784455Z",
     "start_time": "2025-04-16T13:53:51.764457Z"
    }
   },
   "source": [
    "y_thresh = (y_test_pred >= 0.416).astype(int)\n",
    "print(classification_report(y_test, y_thresh))"
   ],
   "outputs": [
    {
     "name": "stdout",
     "output_type": "stream",
     "text": [
      "              precision    recall  f1-score   support\n",
      "\n",
      "         0.0       0.94      0.97      0.95      1082\n",
      "         1.0       0.82      0.70      0.76       229\n",
      "\n",
      "    accuracy                           0.92      1311\n",
      "   macro avg       0.88      0.84      0.86      1311\n",
      "weighted avg       0.92      0.92      0.92      1311\n",
      "\n"
     ]
    }
   ],
   "execution_count": 93
  },
  {
   "cell_type": "code",
   "execution_count": 98,
   "id": "6e118a18",
   "metadata": {},
   "outputs": [],
   "source": [
    "best_thresh = 0.416\n",
    "sample_data = X_train.head(100) # fill na with \"-999\"\n",
    "sample_data.to_csv(\"./random_forest_sample_data_thresh_0416.csv\")\n",
    "\n",
    "import pickle\n",
    "\n",
    "with open(\"./random_forest_model.pkl\", 'wb') as fin:\n",
    "    pickle.dump(rf, fin)"
   ]
  },
  {
   "cell_type": "code",
   "execution_count": 100,
   "id": "a1bc6fc4",
   "metadata": {},
   "outputs": [],
   "source": [
    "X_train_columns = X_train.columns"
   ]
  },
  {
   "cell_type": "code",
   "execution_count": 103,
   "id": "402a56c6",
   "metadata": {},
   "outputs": [
    {
     "data": {
      "text/plain": [
       "array([0.01      , 0.034     , 0.        , ..., 0.012     , 0.15047577,\n",
       "       0.004     ])"
      ]
     },
     "execution_count": 103,
     "metadata": {},
     "output_type": "execute_result"
    }
   ],
   "source": [
    "rf.predict_proba(data_final[X_train_columns].fillna(-999))[:, 1]"
   ]
  },
  {
   "cell_type": "code",
   "execution_count": 104,
   "id": "d8962008",
   "metadata": {},
   "outputs": [],
   "source": [
    "data_final[\"predicted_proba\"] = rf.predict_proba(data_final[X_train_columns].fillna(-999))[:, 1]"
   ]
  },
  {
   "cell_type": "code",
   "execution_count": 105,
   "id": "e2e67f64",
   "metadata": {},
   "outputs": [],
   "source": [
    "data_final[\"thresh\"] = 0.416"
   ]
  },
  {
   "cell_type": "code",
   "execution_count": 115,
   "id": "f8bae6c6",
   "metadata": {},
   "outputs": [],
   "source": [
    "data_final[\"label\"] = (data_final[\"predicted_proba\"] > data_final[\"thresh\"]).astype(int)"
   ]
  },
  {
   "cell_type": "code",
   "execution_count": 117,
   "id": "e218ea1a",
   "metadata": {},
   "outputs": [],
   "source": [
    "relevant_columns = [\"datetime\", \"dev_id_1\", \"id_1_last_lon\", \"id_1_last_lat\", \n",
    "                    \"dev_id_2\", \"id_2_last_lon\", \"id_2_last_lat\", \n",
    "                    \"target\", \"predicted_proba\", \"thresh\", \"label\"]"
   ]
  },
  {
   "cell_type": "code",
   "execution_count": 119,
   "id": "227b904d",
   "metadata": {},
   "outputs": [],
   "source": [
    "data_final[relevant_columns].to_csv(\"../../data/04_analytical_report/02_deviation_detection_report.csv\", index=False)"
   ]
  },
  {
   "cell_type": "code",
   "execution_count": 30,
   "id": "09f9c4ad",
   "metadata": {},
   "outputs": [],
   "source": [
    "y_test_pred = rf.predict(X_test)"
   ]
  },
  {
   "cell_type": "code",
   "execution_count": 31,
   "id": "61f07566",
   "metadata": {},
   "outputs": [],
   "source": [
    "from sklearn.metrics import classification_report"
   ]
  },
  {
   "cell_type": "code",
   "execution_count": 35,
   "id": "54400be2",
   "metadata": {},
   "outputs": [],
   "source": [
    "from sklearn.metrics import precision_recall_fscore_support"
   ]
  },
  {
   "cell_type": "code",
   "execution_count": 47,
   "id": "6cb961a5",
   "metadata": {},
   "outputs": [
    {
     "name": "stdout",
     "output_type": "stream",
     "text": [
      "              precision    recall  f1-score   support\n",
      "\n",
      "         0.0       0.91      0.98      0.95      1081\n",
      "         1.0       0.86      0.57      0.69       230\n",
      "\n",
      "    accuracy                           0.91      1311\n",
      "   macro avg       0.89      0.78      0.82      1311\n",
      "weighted avg       0.91      0.91      0.90      1311\n",
      "\n"
     ]
    }
   ],
   "source": [
    "y_test_pred_thresh = (y_test_pred > 0.01).astype(int)\n",
    "print(classification_report(y_test, y_test_pred_thresh))"
   ]
  },
  {
   "cell_type": "code",
   "execution_count": 32,
   "id": "b1f77650",
   "metadata": {},
   "outputs": [
    {
     "name": "stdout",
     "output_type": "stream",
     "text": [
      "              precision    recall  f1-score   support\n",
      "\n",
      "         0.0       0.91      0.98      0.95      1081\n",
      "         1.0       0.86      0.57      0.69       230\n",
      "\n",
      "    accuracy                           0.91      1311\n",
      "   macro avg       0.89      0.78      0.82      1311\n",
      "weighted avg       0.91      0.91      0.90      1311\n",
      "\n"
     ]
    }
   ],
   "source": [
    "print(classification_report(y_test, y_test_pred))"
   ]
  },
  {
   "cell_type": "code",
   "execution_count": 33,
   "id": "4556b27b",
   "metadata": {},
   "outputs": [
    {
     "name": "stdout",
     "output_type": "stream",
     "text": [
      "              precision    recall  f1-score   support\n",
      "\n",
      "         0.0       0.97      1.00      0.98      4291\n",
      "         1.0       1.00      0.84      0.91       950\n",
      "\n",
      "    accuracy                           0.97      5241\n",
      "   macro avg       0.98      0.92      0.95      5241\n",
      "weighted avg       0.97      0.97      0.97      5241\n",
      "\n"
     ]
    }
   ],
   "source": [
    "print(classification_report(y_train, rf.predict(X_train)))"
   ]
  }
 ],
 "metadata": {
  "kernelspec": {
   "display_name": "Python 3 (ipykernel)",
   "language": "python",
   "name": "python3"
  },
  "language_info": {
   "codemirror_mode": {
    "name": "ipython",
    "version": 3
   },
   "file_extension": ".py",
   "mimetype": "text/x-python",
   "name": "python",
   "nbconvert_exporter": "python",
   "pygments_lexer": "ipython3",
   "version": "3.12.9"
  }
 },
 "nbformat": 4,
 "nbformat_minor": 5
}
